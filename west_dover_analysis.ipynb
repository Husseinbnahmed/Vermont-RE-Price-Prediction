{
 "cells": [
  {
   "cell_type": "markdown",
   "metadata": {},
   "source": [
    "# Import Libraries"
   ]
  },
  {
   "cell_type": "code",
   "execution_count": 1,
   "metadata": {},
   "outputs": [],
   "source": [
    "import pandas as pd\n",
    "import numpy as np\n",
    "import matplotlib.pyplot as plt \n",
    "import seaborn as sns\n",
    "import plotly.express as px\n",
    "import plotly.io as pio\n",
    "pio.renderers.default = \"notebook_connected\"\n",
    "\n",
    "#machine learning libs\n",
    "from sklearn.preprocessing import StandardScaler\n",
    "from sklearn.cluster import KMeans\n",
    "\n",
    "#deep learning libs\n",
    "#tensorflow libraries\n",
    "import tensorflow as tf\n",
    "from tensorflow.keras.models import Sequential\n",
    "from tensorflow.keras.layers import Dense"
   ]
  },
  {
   "cell_type": "code",
   "execution_count": 2,
   "metadata": {},
   "outputs": [],
   "source": [
    "#setting up the notebook\n",
    "pd.set_option('display.max_columns', None)\n",
    "pd.set_option('display.max_rows', None)\n",
    "#remove warnings\n",
    "import warnings\n",
    "warnings.simplefilter(action='ignore', category=FutureWarning)\n",
    "warnings.filterwarnings('ignore')"
   ]
  },
  {
   "cell_type": "markdown",
   "metadata": {},
   "source": [
    "# West Dover Scraped Properties Data\n",
    "\n",
    "This dataset contains records on properties for sale or sold in the West Dover, Vermont area in the last three years. West Dover, VT is known for its beautiful scenery during the Winter and Fall seasons, and many tourits visit during the Winter to enjoy skiing sports on the Mount Snow trail. This dataset contains **458** properties sold between **2020** and **2022**  "
   ]
  },
  {
   "cell_type": "code",
   "execution_count": 3,
   "metadata": {},
   "outputs": [],
   "source": [
    "#read dataset from excel file\n",
    "df = pd.read_excel(r'West_dover_apify.xlsx')\n",
    "\n",
    "#filter on needed columns only\n",
    "cols = ['abbreviatedAddress', 'address/city', 'address/zipcode', 'bathrooms', 'bedrooms',\n",
    "'dateSoldString', 'daysOnZillow', 'description', 'favoriteCount' ,'hoaFee' , 'homeStatus', 'homeType', 'lastSoldPrice', \n",
    "'latitude', 'longitude', 'livingArea', 'lotSize', 'mortgageRates/thirtyYearFixedRate', 'pageViewCount', 'postingContact/name', \n",
    "'propertyTaxRate', 'taxHistory/0/value', 'yearBuilt']\n",
    "\n",
    "#filter on needed columns\n",
    "df1 = df.copy()\n",
    "df1 = df1.loc[:,cols]\n",
    "\n",
    "#removing for sale properties since the last sold price is only the price at which it was sold years ago and not the listed price\n",
    "df1 = df1[~(df1['homeStatus']=='FOR_SALE')]"
   ]
  },
  {
   "cell_type": "code",
   "execution_count": 4,
   "metadata": {},
   "outputs": [
    {
     "data": {
      "text/plain": [
       "(513, 758)"
      ]
     },
     "execution_count": 4,
     "metadata": {},
     "output_type": "execute_result"
    }
   ],
   "source": [
    "df.shape"
   ]
  },
  {
   "cell_type": "code",
   "execution_count": 5,
   "metadata": {},
   "outputs": [
    {
     "data": {
      "text/html": [
       "<div>\n",
       "<style scoped>\n",
       "    .dataframe tbody tr th:only-of-type {\n",
       "        vertical-align: middle;\n",
       "    }\n",
       "\n",
       "    .dataframe tbody tr th {\n",
       "        vertical-align: top;\n",
       "    }\n",
       "\n",
       "    .dataframe thead th {\n",
       "        text-align: right;\n",
       "    }\n",
       "</style>\n",
       "<table border=\"1\" class=\"dataframe\">\n",
       "  <thead>\n",
       "    <tr style=\"text-align: right;\">\n",
       "      <th></th>\n",
       "      <th>abbreviatedAddress</th>\n",
       "      <th>address/city</th>\n",
       "      <th>address/zipcode</th>\n",
       "      <th>bathrooms</th>\n",
       "      <th>bedrooms</th>\n",
       "      <th>dateSoldString</th>\n",
       "      <th>daysOnZillow</th>\n",
       "      <th>description</th>\n",
       "      <th>favoriteCount</th>\n",
       "      <th>hoaFee</th>\n",
       "      <th>homeStatus</th>\n",
       "      <th>homeType</th>\n",
       "      <th>lastSoldPrice</th>\n",
       "      <th>latitude</th>\n",
       "      <th>longitude</th>\n",
       "      <th>livingArea</th>\n",
       "      <th>lotSize</th>\n",
       "      <th>mortgageRates/thirtyYearFixedRate</th>\n",
       "      <th>pageViewCount</th>\n",
       "      <th>postingContact/name</th>\n",
       "      <th>propertyTaxRate</th>\n",
       "      <th>taxHistory/0/value</th>\n",
       "      <th>yearBuilt</th>\n",
       "    </tr>\n",
       "  </thead>\n",
       "  <tbody>\n",
       "    <tr>\n",
       "      <th>0</th>\n",
       "      <td>8E Deer Creek Road UNIT E</td>\n",
       "      <td>West Dover</td>\n",
       "      <td>5356</td>\n",
       "      <td>2.0</td>\n",
       "      <td>3.0</td>\n",
       "      <td>NaN</td>\n",
       "      <td>1.0</td>\n",
       "      <td>3 Bedroom 2 bath, top level and a great price!...</td>\n",
       "      <td>17.0</td>\n",
       "      <td>NaN</td>\n",
       "      <td>RECENTLY_SOLD</td>\n",
       "      <td>CONDO</td>\n",
       "      <td>349000.0</td>\n",
       "      <td>42.962830</td>\n",
       "      <td>-72.889040</td>\n",
       "      <td>1024.0</td>\n",
       "      <td>NaN</td>\n",
       "      <td>5.418</td>\n",
       "      <td>300.0</td>\n",
       "      <td>Sheila Joyce-Albano</td>\n",
       "      <td>1.84</td>\n",
       "      <td>153000.0</td>\n",
       "      <td>1989.0</td>\n",
       "    </tr>\n",
       "    <tr>\n",
       "      <th>7</th>\n",
       "      <td>28A Crosstown Road</td>\n",
       "      <td>West Dover</td>\n",
       "      <td>5356</td>\n",
       "      <td>2.0</td>\n",
       "      <td>4.0</td>\n",
       "      <td>NaN</td>\n",
       "      <td>0.0</td>\n",
       "      <td>Spacious 3 bedroom plus loft townhome just dow...</td>\n",
       "      <td>1.0</td>\n",
       "      <td>NaN</td>\n",
       "      <td>RECENTLY_SOLD</td>\n",
       "      <td>CONDO</td>\n",
       "      <td>350000.0</td>\n",
       "      <td>42.974842</td>\n",
       "      <td>-72.890920</td>\n",
       "      <td>1696.0</td>\n",
       "      <td>NaN</td>\n",
       "      <td>5.418</td>\n",
       "      <td>42.0</td>\n",
       "      <td>Adam Palmiter</td>\n",
       "      <td>1.84</td>\n",
       "      <td>NaN</td>\n",
       "      <td>1986.0</td>\n",
       "    </tr>\n",
       "    <tr>\n",
       "      <th>9</th>\n",
       "      <td>202 Blue Brook Road</td>\n",
       "      <td>West Dover</td>\n",
       "      <td>5356</td>\n",
       "      <td>2.0</td>\n",
       "      <td>3.0</td>\n",
       "      <td>NaN</td>\n",
       "      <td>0.0</td>\n",
       "      <td>A cozy, charming, well-kept 3 bedroom, 2 bath ...</td>\n",
       "      <td>3.0</td>\n",
       "      <td>NaN</td>\n",
       "      <td>RECENTLY_SOLD</td>\n",
       "      <td>SINGLE_FAMILY</td>\n",
       "      <td>329000.0</td>\n",
       "      <td>42.972470</td>\n",
       "      <td>-72.872090</td>\n",
       "      <td>1532.0</td>\n",
       "      <td>23087.0</td>\n",
       "      <td>5.418</td>\n",
       "      <td>152.0</td>\n",
       "      <td>Regina Perrotto</td>\n",
       "      <td>1.84</td>\n",
       "      <td>191460.0</td>\n",
       "      <td>1960.0</td>\n",
       "    </tr>\n",
       "    <tr>\n",
       "      <th>12</th>\n",
       "      <td>734 VT Route 100</td>\n",
       "      <td>Wilmington</td>\n",
       "      <td>5363</td>\n",
       "      <td>1.0</td>\n",
       "      <td>2.0</td>\n",
       "      <td>2022-07-06</td>\n",
       "      <td>65.0</td>\n",
       "      <td>So many potential uses for this versatile prop...</td>\n",
       "      <td>NaN</td>\n",
       "      <td>NaN</td>\n",
       "      <td>RECENTLY_SOLD</td>\n",
       "      <td>SINGLE_FAMILY</td>\n",
       "      <td>200000.0</td>\n",
       "      <td>42.910248</td>\n",
       "      <td>-72.845870</td>\n",
       "      <td>700.0</td>\n",
       "      <td>301870.0</td>\n",
       "      <td>5.774</td>\n",
       "      <td>NaN</td>\n",
       "      <td>Jacki Murano</td>\n",
       "      <td>1.84</td>\n",
       "      <td>95000.0</td>\n",
       "      <td>1977.0</td>\n",
       "    </tr>\n",
       "    <tr>\n",
       "      <th>13</th>\n",
       "      <td>12 Timberview Road</td>\n",
       "      <td>West Dover</td>\n",
       "      <td>5356</td>\n",
       "      <td>NaN</td>\n",
       "      <td>NaN</td>\n",
       "      <td>2022-09-01</td>\n",
       "      <td>8.0</td>\n",
       "      <td>1.3 acre lot in a quiet location not too far f...</td>\n",
       "      <td>NaN</td>\n",
       "      <td>NaN</td>\n",
       "      <td>RECENTLY_SOLD</td>\n",
       "      <td>LOT</td>\n",
       "      <td>11000.0</td>\n",
       "      <td>42.937630</td>\n",
       "      <td>-72.811356</td>\n",
       "      <td>NaN</td>\n",
       "      <td>57934.0</td>\n",
       "      <td>NaN</td>\n",
       "      <td>NaN</td>\n",
       "      <td>Chad Lackey</td>\n",
       "      <td>1.84</td>\n",
       "      <td>7900.0</td>\n",
       "      <td>NaN</td>\n",
       "    </tr>\n",
       "  </tbody>\n",
       "</table>\n",
       "</div>"
      ],
      "text/plain": [
       "           abbreviatedAddress address/city  address/zipcode  bathrooms  \\\n",
       "0   8E Deer Creek Road UNIT E   West Dover             5356        2.0   \n",
       "7          28A Crosstown Road   West Dover             5356        2.0   \n",
       "9         202 Blue Brook Road   West Dover             5356        2.0   \n",
       "12           734 VT Route 100   Wilmington             5363        1.0   \n",
       "13         12 Timberview Road   West Dover             5356        NaN   \n",
       "\n",
       "    bedrooms dateSoldString  daysOnZillow  \\\n",
       "0        3.0            NaN           1.0   \n",
       "7        4.0            NaN           0.0   \n",
       "9        3.0            NaN           0.0   \n",
       "12       2.0     2022-07-06          65.0   \n",
       "13       NaN     2022-09-01           8.0   \n",
       "\n",
       "                                          description  favoriteCount  hoaFee  \\\n",
       "0   3 Bedroom 2 bath, top level and a great price!...           17.0     NaN   \n",
       "7   Spacious 3 bedroom plus loft townhome just dow...            1.0     NaN   \n",
       "9   A cozy, charming, well-kept 3 bedroom, 2 bath ...            3.0     NaN   \n",
       "12  So many potential uses for this versatile prop...            NaN     NaN   \n",
       "13  1.3 acre lot in a quiet location not too far f...            NaN     NaN   \n",
       "\n",
       "       homeStatus       homeType  lastSoldPrice   latitude  longitude  \\\n",
       "0   RECENTLY_SOLD          CONDO       349000.0  42.962830 -72.889040   \n",
       "7   RECENTLY_SOLD          CONDO       350000.0  42.974842 -72.890920   \n",
       "9   RECENTLY_SOLD  SINGLE_FAMILY       329000.0  42.972470 -72.872090   \n",
       "12  RECENTLY_SOLD  SINGLE_FAMILY       200000.0  42.910248 -72.845870   \n",
       "13  RECENTLY_SOLD            LOT        11000.0  42.937630 -72.811356   \n",
       "\n",
       "    livingArea   lotSize  mortgageRates/thirtyYearFixedRate  pageViewCount  \\\n",
       "0       1024.0       NaN                              5.418          300.0   \n",
       "7       1696.0       NaN                              5.418           42.0   \n",
       "9       1532.0   23087.0                              5.418          152.0   \n",
       "12       700.0  301870.0                              5.774            NaN   \n",
       "13         NaN   57934.0                                NaN            NaN   \n",
       "\n",
       "    postingContact/name  propertyTaxRate  taxHistory/0/value  yearBuilt  \n",
       "0   Sheila Joyce-Albano             1.84            153000.0     1989.0  \n",
       "7         Adam Palmiter             1.84                 NaN     1986.0  \n",
       "9       Regina Perrotto             1.84            191460.0     1960.0  \n",
       "12         Jacki Murano             1.84             95000.0     1977.0  \n",
       "13          Chad Lackey             1.84              7900.0        NaN  "
      ]
     },
     "execution_count": 5,
     "metadata": {},
     "output_type": "execute_result"
    }
   ],
   "source": [
    "df1.head()"
   ]
  },
  {
   "cell_type": "code",
   "execution_count": 6,
   "metadata": {},
   "outputs": [
    {
     "data": {
      "text/plain": [
       "<BarContainer object of 7 artists>"
      ]
     },
     "execution_count": 6,
     "metadata": {},
     "output_type": "execute_result"
    },
    {
     "data": {
      "image/png": "[encoded data removed]",
      "text/plain": [
       "<Figure size 864x360 with 1 Axes>"
      ]
     },
     "metadata": {
      "needs_background": "light"
     },
     "output_type": "display_data"
    }
   ],
   "source": [
    "plt.figure(figsize=(12,5))\n",
    "plt.bar(x= df1['homeType'].unique(), height =df1[['homeType']].value_counts())"
   ]
  },
  {
   "cell_type": "code",
   "execution_count": 7,
   "metadata": {},
   "outputs": [
    {
     "data": {
      "text/plain": [
       "(462, 23)"
      ]
     },
     "execution_count": 7,
     "metadata": {},
     "output_type": "execute_result"
    }
   ],
   "source": [
    "df1.shape"
   ]
  },
  {
   "cell_type": "markdown",
   "metadata": {},
   "source": [
    "# Feature Engineering"
   ]
  },
  {
   "cell_type": "code",
   "execution_count": 8,
   "metadata": {},
   "outputs": [],
   "source": [
    "###################### DATE TIME FEATURES #################################################################\n",
    "df1.loc[:,'dateSoldString'] = pd.to_datetime(df1['dateSoldString'], format=\"%Y-%m-%d\") #to date time format\n",
    "df1['soldYear'] = df1['dateSoldString'].dt.year #get the year\n",
    "df1['soldMonth'] = df1['dateSoldString'].dt.month #get the month\n",
    "df1['totalRooms'] = df1['bedrooms'] + df1['bathrooms'] #add a new feature\n",
    "\n",
    "#################### OTHER FEATURES ################################################################\n",
    "df1['favoritePerView'] = df1['pageViewCount'] / df1['favoriteCount'] #add a new feature\n",
    "df1['Age'] = 2022 - df1['yearBuilt'] #add a new feature\n",
    "df1['Sqft/room'] = df1['livingArea']/df1['totalRooms']\n",
    "df1['Price/Sqft'] = df1['lastSoldPrice']/df1['livingArea']\n",
    "\n",
    "########################## LOCATION FEATURES ############################################\n",
    "cluster_features = df1[['longitude', 'latitude']]\n",
    "#scale features\n",
    "minmaxscaler = StandardScaler()\n",
    "transformed_features = minmaxscaler.fit_transform(cluster_features)\n",
    "#run clustering algorithm\n",
    "km = KMeans(init=\"k-means++\", n_clusters=8, n_init=11, random_state=0 )\n",
    "#fit the dataset to the algorithm\n",
    "km.fit(transformed_features)\n",
    "labels = km.labels_\n",
    "km.labels_\n",
    "df1['Location cluster'] = labels \n",
    "df1['Location cluster'] = df1['Location cluster'].astype('str')"
   ]
  },
  {
   "cell_type": "code",
   "execution_count": 9,
   "metadata": {},
   "outputs": [
    {
     "data": {
      "text/html": [
       "        <script type=\"text/javascript\">\n",
       "        window.PlotlyConfig = {MathJaxConfig: 'local'};\n",
       "        if (window.MathJax && window.MathJax.Hub && window.MathJax.Hub.Config) {window.MathJax.Hub.Config({SVG: {font: \"STIX-Web\"}});}\n",
       "        if (typeof require !== 'undefined') {\n",
       "        require.undef(\"plotly\");\n",
       "        requirejs.config({\n",
       "            paths: {\n",
       "                'plotly': ['https://cdn.plot.ly/plotly-2.12.1.min']\n",
       "            }\n",
       "        });\n",
       "        require(['plotly'], function(Plotly) {\n",
       "            window._Plotly = Plotly;\n",
       "        });\n",
       "        }\n",
       "        </script>\n",
       "        "
      ]
     },
     "metadata": {},
     "output_type": "display_data"
    },
    {
     "data": {
      "text/html": [
       "<div>                            <div id=\"e27499dc-c961-4651-a994-2bd7486e4bcd\" class=\"plotly-graph-div\" style=\"height:800px; width:900px;\"></div>            <script type=\"text/javascript\">                require([\"plotly\"], function(Plotly) {                    window.PLOTLYENV=window.PLOTLYENV || {};                                    if (document.getElementById(\"e27499dc-c961-4651-a994-2bd7486e4bcd\")) {                    Plotly.newPlot(                        \"e27499dc-c961-4651-a994-2bd7486e4bcd\",                        [{\"hovertemplate\":\"<b>%{hovertext}</b><br><br>Location cluster=3<br>lastSoldPrice=%{marker.size}<br>latitude=%{lat}<br>longitude=%{lon}<extra></extra>\",\"hovertext\":[\"8E Deer Creek Road UNIT E\",\"28A Crosstown Road\",\"202 Blue Brook Road\",\"237 Blue Brook Road\",\"368 Route 100\",\"27 Gaye Lane\",\"25C Upper Handle Road UNIT C\",\"35C Dover Springs Lane\",\"38D N Access Rd\",\"337 Handle Rd #G\",\"5 Slopeside Road\",\"15 White Oaks\",\"28 D Greensprings Road\",\"17c Snow Tree\",\"5D Dover Springs Ln\",\"63 White Oaks\",\"2 Mountainside Village Way #K\",\"51G White Oaks Loop\",\"4A Lower Highlands Road\",\"4 Howard Lan\",\"4 Howard St\",\"9G Snow Tree Ln\",\"57 White Oaks ##A\",\"14 Snow Tree Lane #I\",\"65 Timber Ln\",\"37 E White Oaks Way\",\"E37 White Oaks\",\"83 Timber Ln\",\"5 Tennis Village Road\",\"80 Overlook Dr\",\"3 Mountainside Vlg #J\",\"29 N Access Rd\",\"7 Bartlett Lane Ext\",\"3 Windham Way #A\",\"2C Lower Highlands Rd\",\"5 Snow Tree #5\",\"12 Dover Springs Ln #A\",\"Greenspring Rd #88B\",\"8 Trailside Village Way #F\",\"29 Dover Springs Ln #B\",\"40 Silver Birch #C\",\"9 Mountain Vlg #H\",\"36 Upper Handle Road\",\"8 Howard Lane\",\"74 Timber Ln\",\"60 Timber Ln\",\"12E White Oaks Way\",\"25b Dover Springs Lane\",\"9 Tamarack Road\",\"3 Newfane Cir #D\",\"274 Blue Brook Rd\",\"13 Lower Highlands Rd\",\"8 Tamarack Ln\",\"71A Greenspring Road\",\"32 E Silver Birch\",\"71A Greensprings Rd\",\"15 Boulder Ridge Dr #A\",\"235 Blue Brook Road\",\"34H Snow Tree Ln\",\"26D White Oaks Loop\",\"29 Boulder Ridge Dr #A\",\"3 Catamount Ln\",\"9 Dover Springs Ln #C\",\"2B White Oaks Loop\",\"38 Upper Highlands Loop\",\"250 Handle Rd\",\"75 Timber Ln\",\"4 Bartlett Lane\",\"57 White Oaks Loop\",\"39 Dover Springs Ln #C\",\"17 Silver Birch #C\",\"86 Timber Ln\",\"24 Ahmeek Road\",\"7 Black Pne #B\",\"11 N Snow Tree Ln\",\"11N Snow Tree Lane UNIT Birches N\",\"3D Mountain Village Way\",\"3 Pinnacle View Road\",\"9 Slopeside Road\",\"18 Gaye Lane\",\"5 Meadow View Lane\",\"32 Upper Handle Road\",\"10 Lower Highlands Road\",\"6 Trail View Lane\",\"Lot 4 Encore Place UNIT 4\",\"10E Deer Creek Road\",\"4F Lower Highlands Road\",\"4G Lower Highlands Road UNIT 4G\",\"46A Silver Birch Lane UNIT 157\",\"18C White Oaks Loop UNIT TC22\",\"75 Overlook Drive UNIT 21\",\"I21 Trailside Village Way\",\"G31 Trailside Village Way\",\"9 Lower Highlands Road\",\"3A Trailside Village Way UNIT G 11\",\"13 Snowtree Lane UNIT Willows G\",\"8A Deer Creek\",\"Unit 372,    89 Grand Summit Way\",\"92C Greenspring Road\",\"43B White Oaks Loop UNIT 46\",\"17B Mountain Village UNIT 242\",\"12D Dover Springs Lane\",\"28 Ahmeek Road\",\"14 Trailside Village Way #G\",\"16 Sundance Village Loop UNIT 16\",\"328 Handle Rd\",\"9A Windham Way\",\"8 Slopeside Road\",\"10 Snow Vidda Loop\",\"14 Snow Tree Ln #B\",\"22 E White Oaks Loop\",\"5 Mountain Vlg #H\",\"44 Tanglewood Ln #B\",\"69C Greensprings Rd\",\"12A White Oaks Loop\",\"10F Deer Creek \",\"14A Deer Creek \",\"6F Deer Creek\"],\"lat\":[42.96283,42.974842,42.97247,42.976368,42.96133,42.975708,42.975204,42.965656,42.971943,42.97072,42.960228,42.971764,42.969032,42.96939,42.964584,42.97335,42.96241,42.97031,42.974335,42.97364,42.973595,42.970028,42.973183,42.970142,42.97274,42.97022,42.971756,42.97503,42.97402,42.971577,42.962494,42.971703,42.97705,42.963833,42.974613,42.96723,42.964127,42.96618,42.9632,42.9648,42.97463,42.9724,42.976776,42.973217,42.974545,42.972263,42.972225,42.966965,42.9684,42.969078,42.979805,42.975594,42.968018,42.968983,42.976,42.965664,42.961746,42.97618,42.970127,42.973797,42.961365,42.977676,42.963993,42.973038,42.979275,42.959045,42.974594,42.976475,42.9713,42.966343,42.975914,42.975227,42.98018,42.976387,42.97134,42.968964,42.973255,42.96824,42.960217,42.977257,42.96873,42.97621,42.975067,42.9694,42.958786,42.96283,42.974655,42.974335,42.97485,42.971416,42.97068,42.962593,42.962593,42.97467,42.962734,42.96819,42.96283,42.96647,42.966652,42.972015,42.973255,42.964584,42.980152,42.96263,42.96411,42.969067,42.963955,42.96068,42.972595,42.968018,42.97094,42.97235,42.971096,42.96569,42.97,42.96283,42.96283,42.96283],\"legendgroup\":\"3\",\"lon\":[-72.88904,-72.89092,-72.87209,-72.87507,-72.884796,-72.881195,-72.893036,-72.88421,-72.892876,-72.8912,-72.88997,-72.88384,-72.886696,-72.89172,-72.8844,-72.884254,-72.894325,-72.88292,-72.88826,-72.88881,-72.888824,-72.89148,-72.884476,-72.891,-72.88424,-72.881996,-72.883835,-72.8859,-72.890144,-72.87788,-72.89405,-72.89145,-72.89521,-72.88323,-72.88834,-72.89022,-72.88259,-72.88127,-72.893295,-72.88451,-72.88361,-72.89205,-72.89255,-72.88879,-72.88491,-72.88391,-72.88471,-72.883545,-72.888916,-72.885765,-72.8816,-72.89047,-72.88882,-72.882645,-72.88449,-72.88233,-72.8846,-72.874825,-72.891136,-72.884636,-72.884285,-72.88925,-72.88226,-72.885544,-72.88984,-72.887924,-72.884995,-72.8936,-72.88257,-72.88468,-72.88533,-72.88601,-72.8842,-72.88381,-72.88209,-72.891846,-72.893074,-72.888214,-72.89084,-72.88264,-72.877304,-72.89274,-72.88946,-72.87972,-72.888054,-72.88904,-72.88869,-72.88826,-72.88449,-72.88242,-72.87933,-72.89304,-72.89304,-72.88967,-72.8927,-72.891106,-72.88904,-72.89374,-72.88326,-72.88393,-72.893074,-72.8844,-72.88364,-72.89369,-72.8826,-72.88908,-72.88327,-72.890564,-72.8952,-72.89043,-72.8834,-72.89203,-72.88639,-72.88236,-72.88309,-72.88904,-72.88904,-72.88904],\"marker\":{\"color\":\"#636efa\",\"size\":[349000.0,350000.0,329000.0,360000.0,325000.0,390000.0,155000.0,359000.0,189000.0,132500.0,380000.0,185000.0,267375.0,115000.0,310000.0,250000.0,400000.0,250000.0,165000.0,390000.0,390000.0,74500.0,260000.0,145000.0,260000.0,251000.0,251000.0,200000.0,760000.0,185000.0,420000.0,567500.0,112500.0,428000.0,215000.0,206000.0,430000.0,446000.0,110000.0,355000.0,319000.0,137500.0,590000.0,545000.0,265000.0,210000.0,270000.0,445000.0,500000.0,326000.0,16291.0,52000.0,975000.0,450000.0,220000.0,450000.0,660000.0,340000.0,182900.0,75000.0,615000.0,35000.0,449900.0,287500.0,349000.0,150000.0,249000.0,820000.0,200000.0,482000.0,274500.0,250000.0,415000.0,257000.0,290000.0,290000.0,165000.0,1350000.0,850000.0,430000.0,2200000.0,840550.0,505000.0,1700000.0,174000.0,300000.0,360500.0,370000.0,525000.0,525000.0,2789000.0,405000.0,400000.0,1206000.0,300000.0,130000.0,299000.0,183000.0,649000.0,432500.0,249000.0,765000.0,325000.0,285000.0,157500.0,545000.0,620000.0,635000.0,700000.0,120000.0,270000.0,150000.0,246000.0,527000.0,260000.0,312250.0,320000.0,359000.0],\"sizemode\":\"area\",\"sizeref\":7500.0},\"mode\":\"markers\",\"name\":\"3\",\"showlegend\":true,\"subplot\":\"mapbox\",\"type\":\"scattermapbox\"},{\"hovertemplate\":\"<b>%{hovertext}</b><br><br>Location cluster=2<br>lastSoldPrice=%{marker.size}<br>latitude=%{lat}<br>longitude=%{lon}<extra></extra>\",\"hovertext\":[\"734 VT Route 100\",\"206 Smith Road\",\"95 Higley Hill Road\",\"113 Davis Drive\",\"90 Higley Hill Road\",\"44 Tessahok Ln\",\"798 State Route 100 N\",\"184 Smith Road\",\"49 Trails End Lane\",\"22 Manton Dr\",\"151 Haskell Hill Road\",\"10 Haskell Hill Rd\",\"11 Kidner Ln\",\"7 Manton Drive\",\"574 Higley Hill Road\",\"238 Haynes Rd\",\"67 East Dover Road\",\"840 State Route 100 N\",\"690 State Route 100 N\",\"Old Town Rd\",\"1 Negus Road\",\"215 Old Town Road\",\"164 Smith Rd\",\"33 Kidner Lane\",\"184 Higley Hill Road\",\"13 Kidner Ln\",\"Indian Forest Rd\",\"68 Atherton Road\",\"46 Cross Country Cir\",\"596 State Route 100 N\",\"97 Smith Road\",\"112 Old Town Road\",\"93 Brown Road\",\"152 Old Town Road\",\"32 Trail's End Lane\",\"11 Indian Forrest Road\",\"12 Conifer Lane\",\"55 Haskell Hill Road\",\"13 Haskell Hill Road\",\"01 Meadowlark Lane\",\"567 Higley Hill Road\",\"11 Stonebrook Road\",\"97 Smith Rd\",\"556 Higley Hill\",\"79 Haskell Hill Rd\"],\"lat\":[42.910248,42.92152,42.905083,42.910915,42.907627,42.910007,42.912018,42.92043,42.91177,42.91388,42.90657,42.90924,42.90685,42.91239,42.898502,42.897766,42.915916,42.914124,42.907253,42.91311,42.92641,42.908108,42.919167,42.90682,42.902195,42.906754,42.91561,42.90517,42.91035,42.902866,42.915012,42.914326,42.906685,42.912014,42.913017,42.91518,42.912163,42.90924,42.90681,42.899532,42.89793,42.90706,42.914494,42.89809,42.909267],\"legendgroup\":\"2\",\"lon\":[-72.84587,-72.82783,-72.84238,-72.83479,-72.84117,-72.83131,-72.841034,-72.82647,-72.83371,-72.81638,-72.85526,-72.85282,-72.84405,-72.8178,-72.80939,-72.81341,-72.8332,-72.83974,-72.84955,-72.82058,-72.8351,-72.81557,-72.82785,-72.846886,-72.83553,-72.84458,-72.82535,-72.83369,-72.84111,-72.85408,-72.82923,-72.81858,-72.812805,-72.81719,-72.83267,-72.825905,-72.816505,-72.85137,-72.8508,-72.816284,-72.80673,-72.84256,-72.82925,-72.81095,-72.85429],\"marker\":{\"color\":\"#EF553B\",\"size\":[200000.0,700000.0,405000.0,280000.0,375000.0,1245000.0,275000.0,400000.0,571715.0,500.0,385000.0,22500.0,125000.0,169000.0,115000.0,60000.0,239900.0,1500.0,163000.0,44000.0,510000.0,240000.0,13000.0,327000.0,93502.0,120000.0,40000.0,420000.0,2000.0,159000.0,980000.0,505000.0,400000.0,255000.0,415000.0,200000.0,635000.0,455000.0,547500.0,88500.0,702000.0,423000.0,980000.0,249000.0,45000.0],\"sizemode\":\"area\",\"sizeref\":7500.0},\"mode\":\"markers\",\"name\":\"2\",\"showlegend\":true,\"subplot\":\"mapbox\",\"type\":\"scattermapbox\"},{\"hovertemplate\":\"<b>%{hovertext}</b><br><br>Location cluster=1<br>lastSoldPrice=%{marker.size}<br>latitude=%{lat}<br>longitude=%{lon}<extra></extra>\",\"hovertext\":[\"12 Timberview Road\",\"327 DOVER HILL Road\",\"341 Dover Hill Rd\",\"29 Woodsman Rd\",\"28 Woodsman Rd\",\"310 Dover Hill Road\",\"55 Sugar House Road\",\"25 old town Road\",\"23 Woodsman Road\",\"24 Blackberry Ln\",\"22 Woodsman Rd\",\"70 Antler Loop\",\"28 Woodsman Road Extension\",\"22 Timberview Road\",\"21 Blackberry Lane\",\"67 Heritage Drive\",\"74 Antler Loop\",\"40 Woodsman Rd\",\"39 Heritage Drive\",\"435 Dover Hill Rd\",\"6 Tapping Tree Ln\",\"18 Tapping Tree Lane\",\"33 Heritage Drive\",\"7 Sugar House Road\",\"Lot 32 Woodsman Road\",\"Lot 56 Woodsman Road\",\"Lot 31 Woodsman Road\",\"311 Dover Hill Road\",\"52 Sugarhouse Road\",\"12 Tapping Tree Lane\",\"20 Blackberry Ln\",\"11 Old Town Road\",\"320 Dover Hill Road\",\"18 Sugar House Rd\",\"4 Antler Loop\",\"13 Running Sap Ln\",\"321 Doverhill Rd\"],\"lat\":[42.93763,42.93467,42.932293,42.938572,42.939514,42.93537,42.926273,42.92578,42.93853,42.934925,42.939457,42.93303,42.940475,42.937702,42.9345,42.929947,42.932514,42.93974,42.930466,42.92598,42.930813,42.932693,42.931973,42.932568,42.940914,42.940872,42.9386,42.935913,42.926468,42.93179,42.935345,42.929127,42.934067,42.931396,42.9367,42.92786,42.93408],\"legendgroup\":\"1\",\"lon\":[-72.811356,-72.812675,-72.81511,-72.81391,-72.81434,-72.811966,-72.811485,-72.816734,-72.81305,-72.817375,-72.81266,-72.821785,-72.81171,-72.813034,-72.81731,-72.8136,-72.820885,-72.81545,-72.80966,-72.83012,-72.81121,-72.81094,-72.8088,-72.81267,-72.81462,-72.813675,-72.814766,-72.81128,-72.81371,-72.81083,-72.81703,-72.81527,-72.8133,-72.81364,-72.81241,-72.80922,-72.81252],\"marker\":{\"color\":\"#00cc96\",\"size\":[11000.0,315000.0,150000.0,180000.0,1525000.0,209000.0,372500.0,235000.0,569000.0,24900.0,14850.0,23500.0,30150.0,13500.0,615000.0,311000.0,22000.0,470000.0,459000.0,30000.0,26000.0,620000.0,20000.0,250000.0,84900.0,74500.0,94500.0,200000.0,65000.0,19000.0,30000.0,197000.0,20000.0,285000.0,15900.0,200000.0,130000.0],\"sizemode\":\"area\",\"sizeref\":7500.0},\"mode\":\"markers\",\"name\":\"1\",\"showlegend\":true,\"subplot\":\"mapbox\",\"type\":\"scattermapbox\"},{\"hovertemplate\":\"<b>%{hovertext}</b><br><br>Location cluster=5<br>lastSoldPrice=%{marker.size}<br>latitude=%{lat}<br>longitude=%{lon}<extra></extra>\",\"hovertext\":[\"82 Two Brook Drive\",\"27 Haymaker Lane UNIT 9A\",\"94 Look Road\",\"453 Coldbrook Road\",\"90 Fannie Hill Road\",\"48 Ives Road\",\"88 Two Brook Drive\",\"99 Look Road\",\"529 Coldbrook Road\",\"130 Fannie Hill Drive\",\"9 First Lane UNIT 8\",\"3 Village East Rd\",\"87 Look Rd\",\"30 Two Brook Dr\",\"6 Two Brook Dr\",\"64 Two Brook Drive\",\"25 Handle Rd\",\"48 Ralph May Rd\",\"19 Hassey Bnd\",\"27 Haymaker Ln\",\"16 Hummingbird Lane\",\"23 Hummingbird Lane\",\"5 First Lane\",\"89 Wellman Road\",\"41 Two Brook Drive\",\"69 Two Brook Drive\",\"8 Powderhorn Lane UNIT C\",\"2 Rushing Brook Lane\",\"115 East Village Circle\",\"27 Sturgis Road\",\"256 Coldbrook Road\",\"2 Ives Road\",\"104 Mann Road\",\"551 ColdBrook Road\",\"36 Sturgis Road\",\"6 McGovern Lane\",\"19 Hassey Bnd\",\"10 Ives Road\",\"133 East Village Circle\"],\"lat\":[42.898968,42.919792,42.906128,42.92007,42.925354,42.91428,42.899384,42.906097,42.92309,42.924168,42.89742,42.923786,42.905025,42.899788,42.898987,42.898342,42.928204,42.9056,42.899395,42.919106,42.92188,42.92147,42.8994,42.89962,42.899742,42.897827,42.919365,42.926163,42.92589,42.911674,42.908573,42.914017,42.89731,42.925255,42.911617,42.926292,42.899406,42.91413,42.924774],\"legendgroup\":\"5\",\"lon\":[-72.89414,-72.887505,-72.86535,-72.8815,-72.889626,-72.88579,-72.8937,-72.86091,-72.884094,-72.89316,-72.88792,-72.88425,-72.86053,-72.89306,-72.89298,-72.89439,-72.89004,-72.874214,-72.89149,-72.887825,-72.88257,-72.882065,-72.88938,-72.87088,-72.89492,-72.89425,-72.88703,-72.889435,-72.88259,-72.87936,-72.87277,-72.88265,-72.883804,-72.88458,-72.88422,-72.89397,-72.89135,-72.88308,-72.88333],\"marker\":{\"color\":\"#ab63fa\",\"size\":[320000.0,312000.0,1275000.0,1290000.0,1159500.0,179900.0,210000.0,210000.0,590000.0,525000.0,319000.0,270000.0,60000.0,7000.0,12000.0,475000.0,1525000.0,25000.0,140000.0,329000.0,725000.0,309000.0,190000.0,3000000.0,643000.0,370000.0,830500.0,1495000.0,1495000.0,528900.0,115000.0,440000.0,955000.0,540000.0,1350000.0,1400000.0,124000.0,449000.0,450000.0],\"sizemode\":\"area\",\"sizeref\":7500.0},\"mode\":\"markers\",\"name\":\"5\",\"showlegend\":true,\"subplot\":\"mapbox\",\"type\":\"scattermapbox\"},{\"hovertemplate\":\"<b>%{hovertext}</b><br><br>Location cluster=7<br>lastSoldPrice=%{marker.size}<br>latitude=%{lat}<br>longitude=%{lon}<extra></extra>\",\"hovertext\":[\"35 Buckboard Drive\",\"2 Johnson Hill Road\",\"24 Ellis Brook Road\",\"60 Johnson Hill Rd\",\"120 Ellis Brook Rd\",\"177 Valley View Road\",\"98 Ellis Brook Road\",\"30 Ellis Brook Road\",\"30 Tom's Cabin Road\",\"36 Tom's Cabin Road\",\"25 Tom's Cabin Road\",\"35 Toms Cabin Rd\",\"5 Nina Ln\",\"47 Ellis Brook Rd\",\"13 Buckboard Drive\",\"5 Johnson Hill Road\",\"22 Tom's Cabin Road\",\"123 Ellis Brook Road\",\"39 Tom's Cabin Road\",\"158 Valley View Road\",\"43 Ellis Brook Road\",\"48 Buckboard Drive UNIT 103 and 105\",\"68 Ellis Brook Road\",\"76 Ellis Brook Road\",\"20 Cheney Brook Loop\",\"34 Ellis Brook Road\",\"14 Nina Lane\",\"134 Ellis Brook Road\",\"50 Ellis Brook Rd\",\"22 Buckboard Dr\"],\"lat\":[42.953842,42.95257,42.95313,42.960205,42.959923,42.959087,42.960278,42.95355,42.959625,42.960007,42.95884,42.959713,42.954525,42.955902,42.955677,42.952843,42.959343,42.958458,42.961132,42.956142,42.95522,42.955753,42.95824,42.958885,42.953182,42.954056,42.95305,42.959385,42.9563,42.954685],\"legendgroup\":\"7\",\"lon\":[-72.85266,-72.852875,-72.845436,-72.85688,-72.85484,-72.840775,-72.853516,-72.845856,-72.844604,-72.84509,-72.84523,-72.846085,-72.8487,-72.84789,-72.84906,-72.85459,-72.84373,-72.85553,-72.845985,-72.84073,-72.84769,-72.85189,-72.848915,-72.84952,-72.84003,-72.84618,-72.84956,-72.85755,-72.84681,-72.85086],\"marker\":{\"color\":\"#FFA15A\",\"size\":[350000.0,40500.0,253000.0,230000.0,10000.0,55000.0,198000.0,5000.0,520000.0,11000.0,12500.0,2500.0,16000.0,200000.0,470000.0,399000.0,425000.0,639000.0,810000.0,637100.0,360000.0,395000.0,489000.0,550000.0,180000.0,405000.0,875000.0,295000.0,500.0,2500.0],\"sizemode\":\"area\",\"sizeref\":7500.0},\"mode\":\"markers\",\"name\":\"7\",\"showlegend\":true,\"subplot\":\"mapbox\",\"type\":\"scattermapbox\"},{\"hovertemplate\":\"<b>%{hovertext}</b><br><br>Location cluster=4<br>lastSoldPrice=%{marker.size}<br>latitude=%{lat}<br>longitude=%{lon}<extra></extra>\",\"hovertext\":[\"63 Cooper Hill Road\",\"44 Colonial Ridge\",\"44 Colonial Ridge Rd\",\"31 Villager Loop\",\"14 Villager Ext\",\"14 Villager Loop Ext\",\"2 Rice Hill Road\",\"21 Villager Loop\",\"113 Colonial Ridge Road\",\"214 Valley View Road\",\"Mountain Top Rd\",\"258 Valley View Trl\",\"323 Valley View Road\",\"10 Colonial Ridge Road\",\"64 Villager Loop\",\"86 Colonial Ridge Road\",\"256 Valley View Trl\",\"264 Valley View Trl\",\"349 Valley View Road\",\"250 Valley View Road\",\"2 Villager Loop Extension\",\"106 Cooper Hill Road\",\"4 Colonial Ridge Road\",\"50 Colonial Ridge Road\",\"14 Villager Loop\",\"72 Colonial Ridge Road\",\"13 Villager Loop\",\"105 Cooper Hill Road\",\"227 Valley View Road\",\"59 Colonial Ridge Rd\",\"293 Valley View Trl\"],\"lat\":[42.95032,42.95589,42.95575,42.956768,42.95572,42.959263,42.95826,42.957672,42.953434,42.962387,42.95563,42.960636,42.96017,42.95522,42.954678,42.95327,42.960197,42.961067,42.960506,42.96002,42.955452,42.956818,42.955837,42.955353,42.959274,42.954273,42.958656,42.955105,42.961723,42.9556,42.960842],\"legendgroup\":\"4\",\"lon\":[-72.811554,-72.82415,-72.82348,-72.83114,-72.834366,-72.8292,-72.81246,-72.82963,-72.824455,-72.8367,-72.81905,-72.83166,-72.82148,-72.82768,-72.83009,-72.819176,-72.83215,-72.83114,-72.82582,-72.83267,-72.833755,-72.80809,-72.82879,-72.82265,-72.829155,-72.81928,-72.82753,-72.81128,-72.83457,-72.82063,-72.82658],\"marker\":{\"color\":\"#19d3f3\",\"size\":[505000.0,247500.0,247500.0,220000.0,240500.0,240500.0,644000.0,430000.0,470000.0,35000.0,45000.0,525000.0,56000.0,995000.0,135000.0,360000.0,354000.0,45000.0,750000.0,430000.0,255000.0,639000.0,260000.0,411000.0,296000.0,530000.0,37500.0,785000.0,377500.0,295000.0,29400.0],\"sizemode\":\"area\",\"sizeref\":7500.0},\"mode\":\"markers\",\"name\":\"4\",\"showlegend\":true,\"subplot\":\"mapbox\",\"type\":\"scattermapbox\"},{\"hovertemplate\":\"<b>%{hovertext}</b><br><br>Location cluster=0<br>lastSoldPrice=%{marker.size}<br>latitude=%{lat}<br>longitude=%{lon}<extra></extra>\",\"hovertext\":[\"19 Challenger Hill\",\"5 Mountainview Loop\",\"33 Country Club Road\",\"14 Mill Rd\",\"28 Stugger Road\",\"18 Butterfield Dr #B\",\"43 Edwards Village Loop\",\"284 Route 100\",\"12 Stugger Road\",\"12 Stugger Road\",\"23 Mountain View Loop\",\"10C Brumm's Way\",\"5 Polar Bear N #D\",\"27B Maple Hill Loop\",\"26b Queen Anne's\",\"7 CUB RIDGE Road\",\"7C Polar Bear North Road\",\"3E Fox Meadow Lane\",\"1 CUB RIDGE Road\",\"10 Brumm's Way\",\"274 Route 100\",\"20 Mountainview Loop\",\"10 Joan's Ridge Road\",\"35 Mountain View Loop\",\"3 CUB RIDGE Road\",\"17 Someday Road\",\"36 Sunne Village Ln\",\"16 Someday Rd\",\"6B Foliage Lane\",\"20 Mountainview Loop\",\"7 Forest Lane\",\"66 Kingswood Rd #A\",\"7 Polar Bear N\",\"5 Chipmunk Lane\",\"8E Black Bear Lane UNIT 8E\",\"31 Blue Brook Rd\",\"7 Polar Bear S #D\",\"16 Queen Annes Way #A\",\"13 Queen Annes Way #A\",\"272 Route 100\",\"39 Country Club Road\",\"12 Maple Hill Loop\",\"13 Maple Hill Loop\",\"297B Route 100 Way\",\"267 Route 100\",\"3B Foliage Lane\",\"6 Maple Hill Loop\",\"38B Suntec Loop\",\"2 Foliage Ln #B\",\"133 Handle Road\",\"7 Edwards Village Loop\",\"39 Stugger Road\",\"30 Queen Annes Way #A\",\"8d Black Bear #8D\",\"183 Handle Road\",\"41b Kingswood Road\",\"Christmas Tree Ln\",\"20 Joan's Ridge Road\",\"39 Mountainview Loop\",\"23 Queen Annes Way #B\",\"5 Challenger Hill\",\"36B Suntec Loop\",\"5 Challenger Hill Ext\",\"6 Mill Rd\",\"22 Queen Annes Way #A\",\"16 Tannery Rd\",\"37A Kingswood Road\",\"37a Kingswood Rd\",\"5 Stugger Rd\",\"6 Bear Paw Left Road\",\"31 Mountainview Loop\",\"83A Kingswood Road\",\"12 BEAR PAW LEFT\",\"52 Edwards Village Loop\",\"57 Mountainview Loop\",\"35 Joan's Ridge Road\",\"28 Country Club Road\",\"4 Sunnyside Road\",\"72A Kingswood Road\",\"8B Foliage Lane\",\"49 Joans Ridge Road\",\"9B Suntec Loop\",\"5 Tannery Road\",\"42 Mountainview Loop\",\"16 Country Club Road UNIT C or 7\",\"4C Polar Bear N\",\"70 Stugger Road\",\"43B Suntec Loop\",\"5 Cub Ridge Ln\",\"11 Challenger Hill Ext\",\"271 Route 100\",\"57 Stugger Rd\",\"9 Margit Ridgway Rd\",\"38 Blue Brook Road\",\"295B VT Route 100\",\"67 Stugger Road\"],\"lat\":[42.9578,42.955513,42.94237,42.94795,42.94632,42.957745,42.945282,42.95175,42.947655,42.948055,42.955765,42.94875,42.947693,42.941483,42.95,42.94779,42.947754,42.950764,42.94693,42.949024,42.950764,42.955547,42.954773,42.95704,42.947235,42.95743,42.948715,42.95651,42.942665,42.954865,42.949387,42.94654,42.947693,42.952538,42.94614,42.95195,42.946396,42.949474,42.94924,42.95051,42.94198,42.940987,42.941853,42.952198,42.94964,42.942936,42.940815,42.94637,42.942665,42.941666,42.946114,42.945377,42.949905,42.946102,42.94973,42.948734,42.9535,42.953568,42.95737,42.94928,42.95598,42.947613,42.957115,42.94858,42.949234,42.956676,42.94497,42.94915,42.94785,42.947216,42.956722,42.944466,42.94638,42.94553,42.957134,42.952065,42.943264,42.95594,42.94539,42.942665,42.95396,42.946644,42.95367,42.957897,42.94339,42.948742,42.948097,42.946365,42.947445,42.957157,42.950333,42.947906,42.948586,42.953087,42.95213,42.948643],\"legendgroup\":\"0\",\"lon\":[-72.87625,-72.87987,-72.86813,-72.86761,-72.876114,-72.88764,-72.87287,-72.87704,-72.87384,-72.872284,-72.87792,-72.895615,-72.88959,-72.86751,-72.88404,-72.89177,-72.89008,-72.87712,-72.89131,-72.89608,-72.87559,-72.87733,-72.87494,-72.878456,-72.89147,-72.873055,-72.88028,-72.87018,-72.87931,-72.87721,-72.86846,-72.8823,-72.8896,-72.877174,-72.89051,-72.87214,-72.88888,-72.88674,-72.88702,-72.87567,-72.86965,-72.867905,-72.86807,-72.8795,-72.875114,-72.879364,-72.86918,-72.88784,-72.87934,-72.8904,-72.86755,-72.878044,-72.88659,-72.890526,-72.888565,-72.88183,-72.88362,-72.87461,-72.87858,-72.88682,-72.8747,-72.88594,-72.87585,-72.86895,-72.886795,-72.88348,-72.87729,-72.88261,-72.87224,-72.896515,-72.8784,-72.87828,-72.89661,-72.87051,-72.880844,-72.8751,-72.86756,-72.87947,-72.880264,-72.87929,-72.876564,-72.8878,-72.881714,-72.87921,-72.86561,-72.895615,-72.874115,-72.88779,-72.891655,-72.87592,-72.87539,-72.87669,-72.87746,-72.871544,-72.87887,-72.87492],\"marker\":{\"color\":\"#FF6692\",\"size\":[329000.0,181000.0,315100.0,245000.0,30000.0,92000.0,287000.0,210000.0,242000.0,242000.0,309000.0,179000.0,196000.0,145000.0,290000.0,302500.0,200000.0,91000.0,255000.0,189000.0,155000.0,255000.0,222000.0,170100.0,258000.0,920000.0,382000.0,394000.0,549000.0,255000.0,289000.0,286000.0,175000.0,199000.0,185500.0,288000.0,184000.0,310000.0,289000.0,245000.0,324500.0,360875.0,360875.0,285000.0,1800000.0,623500.0,350000.0,289000.0,450000.0,265000.0,5000.0,26800.0,330000.0,275000.0,1162000.0,334900.0,117000.0,385000.0,299000.0,354900.0,40000.0,324557.0,40000.0,355000.0,348000.0,157500.0,440000.0,440000.0,49000.0,475000.0,200000.0,407000.0,449000.0,230000.0,265000.0,745000.0,370000.0,390000.0,460000.0,815000.0,52000.0,360000.0,675000.0,260000.0,152500.0,260000.0,350000.0,318000.0,165615.0,515000.0,400000.0,100000.0,50000.0,30000.0,178000.0,350000.0],\"sizemode\":\"area\",\"sizeref\":7500.0},\"mode\":\"markers\",\"name\":\"0\",\"showlegend\":true,\"subplot\":\"mapbox\",\"type\":\"scattermapbox\"},{\"hovertemplate\":\"<b>%{hovertext}</b><br><br>Location cluster=6<br>lastSoldPrice=%{marker.size}<br>latitude=%{lat}<br>longitude=%{lon}<extra></extra>\",\"hovertext\":[\"219 Old Ark Road\",\"99 Dorr Fitch Road\",\"30 Maple Hill Loop\",\"30 Maple Hill Loop\",\"25 Partridge Run Rd\",\"4 Dover Green Loop #C\",\"1 Dover Green Loop #F\",\"93 Dorr Fitch Rd\",\"2D Dover Green Loop\",\"2 Waldwinkle #A\",\"40 Airport Road\",\"40 Airport Rd\",\"9 Valley View Road\",\"7 Pheasant Lane\",\"45 Negus Road\",\"5 Valley View Rd\",\"5 Shannon Ridge Road\",\"36C Crosstown Road\",\"92 Dorr Fitch Road\",\"45 Dorr Fitch Road\",\"8 Grouse Ln #C\",\"17 Valley View Road\",\"69 Route 100\",\"2F Waldwinkle Rd\",\"14 Dover Green Loop #B\",\"8 Pheasant Lane\",\"32 Airport Road\",\"15 Sawmill Village Way\",\"38 Airport Rd\",\"30 Airport Road\",\"14A Dover Green Loop\",\"53 Sawmill Village Way\",\"23 Negus Road\",\"15E Dover Green Loop\",\"25 Sawmill Village Way\",\"28 Circle View Drive\",\"23 Spring Hill Road\",\"23 Summit Meadows Circle\",\"28 Dover Green Road\",\"41 Sawmill Village Way\",\"11 Quail Lane\",\"12 Summit Meadows Circle\",\"11 Waldwinkle Way\",\"1E Dover Green Loop\",\"26 Partridge Run Road\",\"34 Spring Hill Road\",\"61C Country Club Road\",\"32D Crosstown Road\",\"2H Waldwinkle Road\",\"17 Spring Hill Road\",\"6C Dover Green Loop\",\"91 Dorr Fitch Road\",\"10C Dover Green Loop\",\"1C Dover Green Loop\",\"26 Circle View Drive\",\"10 White Tail Lane\",\"2C Dover Green Loop UNIT 2C\",\"3 Circle View Drive\",\"19 Barber Road\",\"1 Pheasant Lane\",\"34F Crosstown Road\",\"8E Dover Green Loop\",\"127 Route 100\",\"34 Airport Rd\",\"14 Summit Meadows Lane\",\"4 Dover Green Loop #B\"],\"lat\":[42.913647,42.927322,42.941677,42.94212,42.929962,42.931377,42.93061,42.927746,42.9314,42.93802,42.931202,42.931263,42.93982,42.930233,42.932526,42.939648,42.927345,42.936424,42.92773,42.93104,42.931557,42.94101,42.93301,42.93259,42.930492,42.930244,42.93296,42.934574,42.93186,42.933315,42.930458,42.935078,42.92821,42.930622,42.9337,42.94164,42.933163,42.942783,42.931488,42.932945,42.928127,42.94075,42.9327,42.93043,42.929913,42.9326,42.944088,42.936356,42.932236,42.93378,42.930656,42.92831,42.930508,42.93073,42.94122,42.927513,42.930332,42.940998,42.93992,42.93056,42.936535,42.93065,42.93949,42.932625,42.93919,42.930676],\"legendgroup\":\"6\",\"lon\":[-72.85949,-72.83787,-72.864975,-72.865005,-72.86578,-72.849945,-72.84957,-72.83831,-72.84953,-72.850334,-72.86527,-72.86509,-72.850365,-72.86536,-72.83508,-72.85123,-72.852196,-72.85801,-72.83939,-72.84559,-72.863716,-72.85027,-72.84945,-72.84966,-72.850395,-72.86535,-72.86552,-72.85565,-72.86493,-72.86574,-72.85028,-72.85747,-72.83646,-72.85036,-72.8548,-72.86317,-72.85969,-72.845505,-72.84878,-72.856125,-72.86346,-72.84243,-72.85135,-72.84941,-72.86571,-72.85948,-72.86243,-72.85751,-72.849915,-72.85998,-72.85045,-72.83901,-72.850426,-72.84988,-72.86314,-72.850426,-72.84939,-72.867325,-72.86642,-72.86451,-72.862495,-72.85043,-72.853806,-72.86527,-72.84446,-72.85046],\"marker\":{\"color\":\"#B6E880\",\"size\":[340000.0,19000.0,183250.0,183250.0,342000.0,123000.0,122000.0,85000.0,111500.0,92000.0,742500.0,742500.0,218000.0,415000.0,1250000.0,356000.0,24000.0,245000.0,229000.0,280000.0,445000.0,670000.0,150000.0,107500.0,190000.0,427500.0,739000.0,525000.0,220000.0,100000.0,185000.0,1025000.0,495000.0,195000.0,530000.0,370000.0,490000.0,535000.0,237500.0,65000.0,36000.0,880000.0,515000.0,185000.0,680000.0,726000.0,265750.0,377000.0,210000.0,220000.0,251000.0,212000.0,205000.0,235000.0,620000.0,38000.0,265750.0,463000.0,62000.0,405000.0,230000.0,180000.0,13000.0,125000.0,315000.0,115000.0],\"sizemode\":\"area\",\"sizeref\":7500.0},\"mode\":\"markers\",\"name\":\"6\",\"showlegend\":true,\"subplot\":\"mapbox\",\"type\":\"scattermapbox\"}],                        {\"template\":{\"data\":{\"histogram2dcontour\":[{\"type\":\"histogram2dcontour\",\"colorbar\":{\"outlinewidth\":0,\"ticks\":\"\"},\"colorscale\":[[0.0,\"#0d0887\"],[0.1111111111111111,\"#46039f\"],[0.2222222222222222,\"#7201a8\"],[0.3333333333333333,\"#9c179e\"],[0.4444444444444444,\"#bd3786\"],[0.5555555555555556,\"#d8576b\"],[0.6666666666666666,\"#ed7953\"],[0.7777777777777778,\"#fb9f3a\"],[0.8888888888888888,\"#fdca26\"],[1.0,\"#f0f921\"]]}],\"choropleth\":[{\"type\":\"choropleth\",\"colorbar\":{\"outlinewidth\":0,\"ticks\":\"\"}}],\"histogram2d\":[{\"type\":\"histogram2d\",\"colorbar\":{\"outlinewidth\":0,\"ticks\":\"\"},\"colorscale\":[[0.0,\"#0d0887\"],[0.1111111111111111,\"#46039f\"],[0.2222222222222222,\"#7201a8\"],[0.3333333333333333,\"#9c179e\"],[0.4444444444444444,\"#bd3786\"],[0.5555555555555556,\"#d8576b\"],[0.6666666666666666,\"#ed7953\"],[0.7777777777777778,\"#fb9f3a\"],[0.8888888888888888,\"#fdca26\"],[1.0,\"#f0f921\"]]}],\"heatmap\":[{\"type\":\"heatmap\",\"colorbar\":{\"outlinewidth\":0,\"ticks\":\"\"},\"colorscale\":[[0.0,\"#0d0887\"],[0.1111111111111111,\"#46039f\"],[0.2222222222222222,\"#7201a8\"],[0.3333333333333333,\"#9c179e\"],[0.4444444444444444,\"#bd3786\"],[0.5555555555555556,\"#d8576b\"],[0.6666666666666666,\"#ed7953\"],[0.7777777777777778,\"#fb9f3a\"],[0.8888888888888888,\"#fdca26\"],[1.0,\"#f0f921\"]]}],\"heatmapgl\":[{\"type\":\"heatmapgl\",\"colorbar\":{\"outlinewidth\":0,\"ticks\":\"\"},\"colorscale\":[[0.0,\"#0d0887\"],[0.1111111111111111,\"#46039f\"],[0.2222222222222222,\"#7201a8\"],[0.3333333333333333,\"#9c179e\"],[0.4444444444444444,\"#bd3786\"],[0.5555555555555556,\"#d8576b\"],[0.6666666666666666,\"#ed7953\"],[0.7777777777777778,\"#fb9f3a\"],[0.8888888888888888,\"#fdca26\"],[1.0,\"#f0f921\"]]}],\"contourcarpet\":[{\"type\":\"contourcarpet\",\"colorbar\":{\"outlinewidth\":0,\"ticks\":\"\"}}],\"contour\":[{\"type\":\"contour\",\"colorbar\":{\"outlinewidth\":0,\"ticks\":\"\"},\"colorscale\":[[0.0,\"#0d0887\"],[0.1111111111111111,\"#46039f\"],[0.2222222222222222,\"#7201a8\"],[0.3333333333333333,\"#9c179e\"],[0.4444444444444444,\"#bd3786\"],[0.5555555555555556,\"#d8576b\"],[0.6666666666666666,\"#ed7953\"],[0.7777777777777778,\"#fb9f3a\"],[0.8888888888888888,\"#fdca26\"],[1.0,\"#f0f921\"]]}],\"surface\":[{\"type\":\"surface\",\"colorbar\":{\"outlinewidth\":0,\"ticks\":\"\"},\"colorscale\":[[0.0,\"#0d0887\"],[0.1111111111111111,\"#46039f\"],[0.2222222222222222,\"#7201a8\"],[0.3333333333333333,\"#9c179e\"],[0.4444444444444444,\"#bd3786\"],[0.5555555555555556,\"#d8576b\"],[0.6666666666666666,\"#ed7953\"],[0.7777777777777778,\"#fb9f3a\"],[0.8888888888888888,\"#fdca26\"],[1.0,\"#f0f921\"]]}],\"mesh3d\":[{\"type\":\"mesh3d\",\"colorbar\":{\"outlinewidth\":0,\"ticks\":\"\"}}],\"scatter\":[{\"fillpattern\":{\"fillmode\":\"overlay\",\"size\":10,\"solidity\":0.2},\"type\":\"scatter\"}],\"parcoords\":[{\"type\":\"parcoords\",\"line\":{\"colorbar\":{\"outlinewidth\":0,\"ticks\":\"\"}}}],\"scatterpolargl\":[{\"type\":\"scatterpolargl\",\"marker\":{\"colorbar\":{\"outlinewidth\":0,\"ticks\":\"\"}}}],\"bar\":[{\"error_x\":{\"color\":\"#2a3f5f\"},\"error_y\":{\"color\":\"#2a3f5f\"},\"marker\":{\"line\":{\"color\":\"#E5ECF6\",\"width\":0.5},\"pattern\":{\"fillmode\":\"overlay\",\"size\":10,\"solidity\":0.2}},\"type\":\"bar\"}],\"scattergeo\":[{\"type\":\"scattergeo\",\"marker\":{\"colorbar\":{\"outlinewidth\":0,\"ticks\":\"\"}}}],\"scatterpolar\":[{\"type\":\"scatterpolar\",\"marker\":{\"colorbar\":{\"outlinewidth\":0,\"ticks\":\"\"}}}],\"histogram\":[{\"marker\":{\"pattern\":{\"fillmode\":\"overlay\",\"size\":10,\"solidity\":0.2}},\"type\":\"histogram\"}],\"scattergl\":[{\"type\":\"scattergl\",\"marker\":{\"colorbar\":{\"outlinewidth\":0,\"ticks\":\"\"}}}],\"scatter3d\":[{\"type\":\"scatter3d\",\"line\":{\"colorbar\":{\"outlinewidth\":0,\"ticks\":\"\"}},\"marker\":{\"colorbar\":{\"outlinewidth\":0,\"ticks\":\"\"}}}],\"scattermapbox\":[{\"type\":\"scattermapbox\",\"marker\":{\"colorbar\":{\"outlinewidth\":0,\"ticks\":\"\"}}}],\"scatterternary\":[{\"type\":\"scatterternary\",\"marker\":{\"colorbar\":{\"outlinewidth\":0,\"ticks\":\"\"}}}],\"scattercarpet\":[{\"type\":\"scattercarpet\",\"marker\":{\"colorbar\":{\"outlinewidth\":0,\"ticks\":\"\"}}}],\"carpet\":[{\"aaxis\":{\"endlinecolor\":\"#2a3f5f\",\"gridcolor\":\"white\",\"linecolor\":\"white\",\"minorgridcolor\":\"white\",\"startlinecolor\":\"#2a3f5f\"},\"baxis\":{\"endlinecolor\":\"#2a3f5f\",\"gridcolor\":\"white\",\"linecolor\":\"white\",\"minorgridcolor\":\"white\",\"startlinecolor\":\"#2a3f5f\"},\"type\":\"carpet\"}],\"table\":[{\"cells\":{\"fill\":{\"color\":\"#EBF0F8\"},\"line\":{\"color\":\"white\"}},\"header\":{\"fill\":{\"color\":\"#C8D4E3\"},\"line\":{\"color\":\"white\"}},\"type\":\"table\"}],\"barpolar\":[{\"marker\":{\"line\":{\"color\":\"#E5ECF6\",\"width\":0.5},\"pattern\":{\"fillmode\":\"overlay\",\"size\":10,\"solidity\":0.2}},\"type\":\"barpolar\"}],\"pie\":[{\"automargin\":true,\"type\":\"pie\"}]},\"layout\":{\"autotypenumbers\":\"strict\",\"colorway\":[\"#636efa\",\"#EF553B\",\"#00cc96\",\"#ab63fa\",\"#FFA15A\",\"#19d3f3\",\"#FF6692\",\"#B6E880\",\"#FF97FF\",\"#FECB52\"],\"font\":{\"color\":\"#2a3f5f\"},\"hovermode\":\"closest\",\"hoverlabel\":{\"align\":\"left\"},\"paper_bgcolor\":\"white\",\"plot_bgcolor\":\"#E5ECF6\",\"polar\":{\"bgcolor\":\"#E5ECF6\",\"angularaxis\":{\"gridcolor\":\"white\",\"linecolor\":\"white\",\"ticks\":\"\"},\"radialaxis\":{\"gridcolor\":\"white\",\"linecolor\":\"white\",\"ticks\":\"\"}},\"ternary\":{\"bgcolor\":\"#E5ECF6\",\"aaxis\":{\"gridcolor\":\"white\",\"linecolor\":\"white\",\"ticks\":\"\"},\"baxis\":{\"gridcolor\":\"white\",\"linecolor\":\"white\",\"ticks\":\"\"},\"caxis\":{\"gridcolor\":\"white\",\"linecolor\":\"white\",\"ticks\":\"\"}},\"coloraxis\":{\"colorbar\":{\"outlinewidth\":0,\"ticks\":\"\"}},\"colorscale\":{\"sequential\":[[0.0,\"#0d0887\"],[0.1111111111111111,\"#46039f\"],[0.2222222222222222,\"#7201a8\"],[0.3333333333333333,\"#9c179e\"],[0.4444444444444444,\"#bd3786\"],[0.5555555555555556,\"#d8576b\"],[0.6666666666666666,\"#ed7953\"],[0.7777777777777778,\"#fb9f3a\"],[0.8888888888888888,\"#fdca26\"],[1.0,\"#f0f921\"]],\"sequentialminus\":[[0.0,\"#0d0887\"],[0.1111111111111111,\"#46039f\"],[0.2222222222222222,\"#7201a8\"],[0.3333333333333333,\"#9c179e\"],[0.4444444444444444,\"#bd3786\"],[0.5555555555555556,\"#d8576b\"],[0.6666666666666666,\"#ed7953\"],[0.7777777777777778,\"#fb9f3a\"],[0.8888888888888888,\"#fdca26\"],[1.0,\"#f0f921\"]],\"diverging\":[[0,\"#8e0152\"],[0.1,\"#c51b7d\"],[0.2,\"#de77ae\"],[0.3,\"#f1b6da\"],[0.4,\"#fde0ef\"],[0.5,\"#f7f7f7\"],[0.6,\"#e6f5d0\"],[0.7,\"#b8e186\"],[0.8,\"#7fbc41\"],[0.9,\"#4d9221\"],[1,\"#276419\"]]},\"xaxis\":{\"gridcolor\":\"white\",\"linecolor\":\"white\",\"ticks\":\"\",\"title\":{\"standoff\":15},\"zerolinecolor\":\"white\",\"automargin\":true,\"zerolinewidth\":2},\"yaxis\":{\"gridcolor\":\"white\",\"linecolor\":\"white\",\"ticks\":\"\",\"title\":{\"standoff\":15},\"zerolinecolor\":\"white\",\"automargin\":true,\"zerolinewidth\":2},\"scene\":{\"xaxis\":{\"backgroundcolor\":\"#E5ECF6\",\"gridcolor\":\"white\",\"linecolor\":\"white\",\"showbackground\":true,\"ticks\":\"\",\"zerolinecolor\":\"white\",\"gridwidth\":2},\"yaxis\":{\"backgroundcolor\":\"#E5ECF6\",\"gridcolor\":\"white\",\"linecolor\":\"white\",\"showbackground\":true,\"ticks\":\"\",\"zerolinecolor\":\"white\",\"gridwidth\":2},\"zaxis\":{\"backgroundcolor\":\"#E5ECF6\",\"gridcolor\":\"white\",\"linecolor\":\"white\",\"showbackground\":true,\"ticks\":\"\",\"zerolinecolor\":\"white\",\"gridwidth\":2}},\"shapedefaults\":{\"line\":{\"color\":\"#2a3f5f\"}},\"annotationdefaults\":{\"arrowcolor\":\"#2a3f5f\",\"arrowhead\":0,\"arrowwidth\":1},\"geo\":{\"bgcolor\":\"white\",\"landcolor\":\"#E5ECF6\",\"subunitcolor\":\"white\",\"showland\":true,\"showlakes\":true,\"lakecolor\":\"white\"},\"title\":{\"x\":0.05},\"mapbox\":{\"style\":\"light\"}}},\"mapbox\":{\"domain\":{\"x\":[0.0,1.0],\"y\":[0.0,1.0]},\"center\":{\"lat\":42.945070359307415,\"lon\":-72.86283776190479},\"accesstoken\":\"pk.eyJ1IjoiaHVzc2Vpbm1vaGFtZWQiLCJhIjoiY2w1MXk3cWNhMDdpNzNqb2NiN3VoNDZycyJ9.ggqfCgSW64ZyD5JnXZ1QGA\",\"zoom\":13},\"legend\":{\"title\":{\"text\":\"Location cluster\"},\"tracegroupgap\":0,\"itemsizing\":\"constant\"},\"margin\":{\"t\":60},\"height\":800,\"width\":900},                        {\"responsive\": true}                    ).then(function(){\n",
       "                            \n",
       "var gd = document.getElementById('e27499dc-c961-4651-a994-2bd7486e4bcd');\n",
       "var x = new MutationObserver(function (mutations, observer) {{\n",
       "        var display = window.getComputedStyle(gd).display;\n",
       "        if (!display || display === 'none') {{\n",
       "            console.log([gd, 'removed!']);\n",
       "            Plotly.purge(gd);\n",
       "            observer.disconnect();\n",
       "        }}\n",
       "}});\n",
       "\n",
       "// Listen for the removal of the full notebook cells\n",
       "var notebookContainer = gd.closest('#notebook-container');\n",
       "if (notebookContainer) {{\n",
       "    x.observe(notebookContainer, {childList: true});\n",
       "}}\n",
       "\n",
       "// Listen for the clearing of the current output cell\n",
       "var outputEl = gd.closest('.output');\n",
       "if (outputEl) {{\n",
       "    x.observe(outputEl, {childList: true});\n",
       "}}\n",
       "\n",
       "                        })                };                });            </script>        </div>"
      ]
     },
     "metadata": {},
     "output_type": "display_data"
    }
   ],
   "source": [
    "################################ Vizulaizing the Clusters ###########################################################\n",
    "mapbox_api_key = \"pk.eyJ1IjoiaHVzc2Vpbm1vaGFtZWQiLCJhIjoiY2w1MXk3cWNhMDdpNzNqb2NiN3VoNDZycyJ9.ggqfCgSW64ZyD5JnXZ1QGA\"\n",
    "import plotly.io as pio\n",
    "pio.renderers.default = \"notebook_connected\"\n",
    "\n",
    "# set mapbox key\n",
    "px.set_mapbox_access_token(mapbox_api_key)\n",
    "# create scatter plot\n",
    "fig = px.scatter_mapbox(\n",
    "    df1, \n",
    "    lat=\"latitude\", \n",
    "    lon=\"longitude\",\n",
    "    color='Location cluster',\n",
    "    hover_name='abbreviatedAddress',\n",
    "    size='lastSoldPrice',\n",
    "    zoom=13\n",
    ")\n",
    "# modify height to show all of (town specific)\n",
    "fig.update_layout(\n",
    "    height=800,\n",
    "    width=900\n",
    ")\n",
    "fig.show()"
   ]
  },
  {
   "cell_type": "markdown",
   "metadata": {},
   "source": [
    "# Data Exploration"
   ]
  },
  {
   "cell_type": "markdown",
   "metadata": {},
   "source": [
    "#### What is the relationship between time sold and price per square foot? \n",
    "in west dover, vt there seems to be a positive relationship between the time at which a property was sold vs. the price per squarefoot.The median price/sqft increased by 23% from 2020 to 2022. Comparing the 75th percentile, we notice that in 2022 75% of the properties sold for a price/sqft less than $284, compared to 167 in 2021. The increase is about 75%. "
   ]
  },
  {
   "cell_type": "code",
   "execution_count": 10,
   "metadata": {},
   "outputs": [
    {
     "data": {
      "text/html": [
       "<div>                            <div id=\"98c76ba4-1083-45ba-bf2a-056183b69d7e\" class=\"plotly-graph-div\" style=\"height:525px; width:100%;\"></div>            <script type=\"text/javascript\">                require([\"plotly\"], function(Plotly) {                    window.PLOTLYENV=window.PLOTLYENV || {};                                    if (document.getElementById(\"98c76ba4-1083-45ba-bf2a-056183b69d7e\")) {                    Plotly.newPlot(                        \"98c76ba4-1083-45ba-bf2a-056183b69d7e\",                        [{\"alignmentgroup\":\"True\",\"hovertemplate\":\"Location cluster=%{x}<br>Price/Sqft=%{y}<extra></extra>\",\"legendgroup\":\"\",\"marker\":{\"color\":\"#636efa\"},\"name\":\"\",\"notched\":false,\"offsetgroup\":\"\",\"orientation\":\"v\",\"showlegend\":false,\"x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x0\":\" \",\"xaxis\":\"x\",\"y\":[340.8203125,206.3679245283019,214.75195822454307,285.7142857142857,null,177.77777777777777,255.10204081632654,202.485966319166,null,125.44802867383513,null,180.47174986286342,111.11111111111111,260.8695652173913,null,124.10501193317423,100.24752475247524,210.71012805587893,114.63250168577208,null,100.20242914979757,179.55801104972375,null,94.8990160538581,94.8990160538581,102.88808664259928,134.888698630137,null,98.5576923076923,154.6961325966851,null,null,255.0,132.25255972696246,126.31949331456721,99.81851179673322,null,74.85760781122865,119.88304093567251,274.468085106383,40.38461538461539,null,null,null,207.3104200763775,158.6206896551724,155.9278350515464,151.25,379.9148099606815,106.55172413793103,77.08333333333333,133.6875,149.16666666666666,115.8690176322418,96.95652173913044,260.4166666666667,163.33333333333334,null,191.66666666666666,null,114.52380952380952,114.79713603818615,104.16666666666667,145.0,null,161.0,129.23850574712642,255.48986486486487,null,null,null,92.5925925925926,166.66666666666666,148.69281045751634,143.2855714761746,102.01412503269684,186.95014662756597,102.01412503269684,128.3124128312413,null,149.7292131251991,155.50595238095238,167.75869859918663,167.75869859918663,null,131.25,157.5,108.33333333333333,58.57740585774059,null,166.66666666666666,136.64710198092442,148.870636550308,null,206.66666666666666,162.20238095238096,104.58333333333333,104.58333333333333,123.66634335596508,null,177.23880597014926,null,147.26756564939674,130.89622641509433,101.25,172.0,206.61157024793388,219.89038461538462,230.0,null,null,null,null,null,117.5,183.98123324396784,255.85429314830876,48.91304347826087,175.0,null,null,96.33333333333333,null,120.65095398428731,138.36477987421384,145.83333333333334,110.55555555555556,118.59107961650687,148.63782051282053,111.35135135135135,134.375,182.0408163265306,null,null,null,125.0,153.33333333333334,null,158.4,160.70528967254407,null,null,null,144.73684210526315,null,null,null,156.21621621621622,null,null,null,null,null,192.59259259259258,128.31158560695928,141.08082257293162,null,null,null,null,157.06051873198848,123.86248736097068,197.57744241461478,172.83285440613028,169.0,66.55092592592592,222.54616132167152,null,null,null,null,112.5,null,154.4066620402498,113.63636363636364,null,null,3.4017826920907144,102.17206132879046,178.7280701754386,null,161.67664670658684,null,0.25,null,114.32009626955475,147.91288566243193,null,null,212.5,null,201.1290322580645,135.13513513513513,140.0,null,null,203.98009950248758,157.56302521008402,null,75.0,null,144.5,null,null,null,136.65594855305466,173.67458866544789,141.11204717775905,null,null,null,null,null,112.64080100125156,143.33333333333334,null,null,150.0,null,null,51.207729468599034,0.10434927790299692,null,null,270.73732718894007,null,null,131.65999384046813,153.24675324675326,164.22222222222223,null,null,229.16666666666666,188.6317907444668,354.7008547008547,183.8235294117647,119.76664378860673,null,null,133.79705400981996,215.97222222222223,null,null,null,63.86748633879781,188.8965676111495,null,null,null,null,152.22727272727272,null,null,null,150.91463414634146,null,164.5,144.03292181069958,null,null,null,169.56521739130434,186.875,null,290.0,null,162.61755485893417,160.12199771254288,null,147.5259090909091,null,149.71751412429379,167.95279164775306,null,140.45454545454547,172.0505617977528,null,null,null,190.0,172.72727272727272,214.6341463414634,237.83783783783784,null,186.216498433693,185.26591107236268,95.0,195.8762886597938,204.0,null,null,130.89005235602093,null,150.74074074074073,168.9655172413793,null,241.3978494623656,130.85818624467439,630.4347826086956,188.3116883116883,218.38687628161313,219.2151556156969,672.796591163938,168.09492419248517,137.23150357995226,220.83333333333334,286.4583333333333,202.0,227.20341567551083,165.88785046728972,185.71428571428572,188.01169590643275,208.33333333333334,null,105.3740779768177,132.78449353897457,183.37769890564923,256.94708793300344,212.5,null,213.81578947368422,225.0,340.0,230.0,160.8695652173913,138.4992987377279,172.91666666666666,241.5591545429591,159.9702380952381,440.0,200.13095238095238,130.2281368821293,131.61323951003388,357.2043010752688,102.56410256410257,175.82792762034825,324.7373447946514,148.23717948717947,419.7080291970803,null,302.3809523809524,238.59649122807016,466.7499219481736,161.33333333333334,184.54861111111111,260.35911602209944,134.54545454545453,226.70652715495766,null,237.1748878923767,273.12332439678283,254.41449814126395,280.0,240.9090909090909,null,108.90151515151516,175.64655172413794,244.44444444444446,272.85714285714283,203.61990950226243,254.15896487985214,null,236.96682464454977,202.30078563411897,328.01418439716315,218.75,null,160.71428571428572,136.83634373289544,182.29166666666666,425.80152671755724,337.5,null,null,null,129.80769230769232,142.2319474835886,201.12179487179486,null,247.953216374269,128.7001287001287,165.32258064516128,195.83333333333334,206.32279534109816,null,373.8317757009346,null,299.47851999006707,396.3011889035667,212.94070512820514,290.63309885227693,209.67741935483872,328.57142857142856,208.42824601366743,252.2347454333463,179.3117744610282,254.16666666666666,289.5348837209302,239.0625,null,266.39344262295083,286.0635696821516,359.5238095238095,330.7142857142857,null,184.6355303360978,223.38665195808053,190.14084507042253,588.7483645878762,null,168.9655172413793,99.2063492063492,167.3684210526316,null,null,null,153.33333333333334,null,null,200.0,288.6363636363636,null,339.9708596406022,150.0,242.88688410825816,null,null,228.00925925925927,272.7825030376671,null,null,null,138.88888888888889,null,215.10516252390056,null,null,null,183.08823529411765,226.27359710369797,142.5,null,15.517241379310345,null,null,163.88888888888889,null,151.00671140939596,null,null,92.1474358974359,99.33035714285714,null,104.22870756402621,null,null,null,null,null,304.931640625,313.72549019607845,326.3636363636364],\"y0\":\" \",\"yaxis\":\"y\",\"type\":\"box\"}],                        {\"template\":{\"data\":{\"histogram2dcontour\":[{\"type\":\"histogram2dcontour\",\"colorbar\":{\"outlinewidth\":0,\"ticks\":\"\"},\"colorscale\":[[0.0,\"#0d0887\"],[0.1111111111111111,\"#46039f\"],[0.2222222222222222,\"#7201a8\"],[0.3333333333333333,\"#9c179e\"],[0.4444444444444444,\"#bd3786\"],[0.5555555555555556,\"#d8576b\"],[0.6666666666666666,\"#ed7953\"],[0.7777777777777778,\"#fb9f3a\"],[0.8888888888888888,\"#fdca26\"],[1.0,\"#f0f921\"]]}],\"choropleth\":[{\"type\":\"choropleth\",\"colorbar\":{\"outlinewidth\":0,\"ticks\":\"\"}}],\"histogram2d\":[{\"type\":\"histogram2d\",\"colorbar\":{\"outlinewidth\":0,\"ticks\":\"\"},\"colorscale\":[[0.0,\"#0d0887\"],[0.1111111111111111,\"#46039f\"],[0.2222222222222222,\"#7201a8\"],[0.3333333333333333,\"#9c179e\"],[0.4444444444444444,\"#bd3786\"],[0.5555555555555556,\"#d8576b\"],[0.6666666666666666,\"#ed7953\"],[0.7777777777777778,\"#fb9f3a\"],[0.8888888888888888,\"#fdca26\"],[1.0,\"#f0f921\"]]}],\"heatmap\":[{\"type\":\"heatmap\",\"colorbar\":{\"outlinewidth\":0,\"ticks\":\"\"},\"colorscale\":[[0.0,\"#0d0887\"],[0.1111111111111111,\"#46039f\"],[0.2222222222222222,\"#7201a8\"],[0.3333333333333333,\"#9c179e\"],[0.4444444444444444,\"#bd3786\"],[0.5555555555555556,\"#d8576b\"],[0.6666666666666666,\"#ed7953\"],[0.7777777777777778,\"#fb9f3a\"],[0.8888888888888888,\"#fdca26\"],[1.0,\"#f0f921\"]]}],\"heatmapgl\":[{\"type\":\"heatmapgl\",\"colorbar\":{\"outlinewidth\":0,\"ticks\":\"\"},\"colorscale\":[[0.0,\"#0d0887\"],[0.1111111111111111,\"#46039f\"],[0.2222222222222222,\"#7201a8\"],[0.3333333333333333,\"#9c179e\"],[0.4444444444444444,\"#bd3786\"],[0.5555555555555556,\"#d8576b\"],[0.6666666666666666,\"#ed7953\"],[0.7777777777777778,\"#fb9f3a\"],[0.8888888888888888,\"#fdca26\"],[1.0,\"#f0f921\"]]}],\"contourcarpet\":[{\"type\":\"contourcarpet\",\"colorbar\":{\"outlinewidth\":0,\"ticks\":\"\"}}],\"contour\":[{\"type\":\"contour\",\"colorbar\":{\"outlinewidth\":0,\"ticks\":\"\"},\"colorscale\":[[0.0,\"#0d0887\"],[0.1111111111111111,\"#46039f\"],[0.2222222222222222,\"#7201a8\"],[0.3333333333333333,\"#9c179e\"],[0.4444444444444444,\"#bd3786\"],[0.5555555555555556,\"#d8576b\"],[0.6666666666666666,\"#ed7953\"],[0.7777777777777778,\"#fb9f3a\"],[0.8888888888888888,\"#fdca26\"],[1.0,\"#f0f921\"]]}],\"surface\":[{\"type\":\"surface\",\"colorbar\":{\"outlinewidth\":0,\"ticks\":\"\"},\"colorscale\":[[0.0,\"#0d0887\"],[0.1111111111111111,\"#46039f\"],[0.2222222222222222,\"#7201a8\"],[0.3333333333333333,\"#9c179e\"],[0.4444444444444444,\"#bd3786\"],[0.5555555555555556,\"#d8576b\"],[0.6666666666666666,\"#ed7953\"],[0.7777777777777778,\"#fb9f3a\"],[0.8888888888888888,\"#fdca26\"],[1.0,\"#f0f921\"]]}],\"mesh3d\":[{\"type\":\"mesh3d\",\"colorbar\":{\"outlinewidth\":0,\"ticks\":\"\"}}],\"scatter\":[{\"fillpattern\":{\"fillmode\":\"overlay\",\"size\":10,\"solidity\":0.2},\"type\":\"scatter\"}],\"parcoords\":[{\"type\":\"parcoords\",\"line\":{\"colorbar\":{\"outlinewidth\":0,\"ticks\":\"\"}}}],\"scatterpolargl\":[{\"type\":\"scatterpolargl\",\"marker\":{\"colorbar\":{\"outlinewidth\":0,\"ticks\":\"\"}}}],\"bar\":[{\"error_x\":{\"color\":\"#2a3f5f\"},\"error_y\":{\"color\":\"#2a3f5f\"},\"marker\":{\"line\":{\"color\":\"#E5ECF6\",\"width\":0.5},\"pattern\":{\"fillmode\":\"overlay\",\"size\":10,\"solidity\":0.2}},\"type\":\"bar\"}],\"scattergeo\":[{\"type\":\"scattergeo\",\"marker\":{\"colorbar\":{\"outlinewidth\":0,\"ticks\":\"\"}}}],\"scatterpolar\":[{\"type\":\"scatterpolar\",\"marker\":{\"colorbar\":{\"outlinewidth\":0,\"ticks\":\"\"}}}],\"histogram\":[{\"marker\":{\"pattern\":{\"fillmode\":\"overlay\",\"size\":10,\"solidity\":0.2}},\"type\":\"histogram\"}],\"scattergl\":[{\"type\":\"scattergl\",\"marker\":{\"colorbar\":{\"outlinewidth\":0,\"ticks\":\"\"}}}],\"scatter3d\":[{\"type\":\"scatter3d\",\"line\":{\"colorbar\":{\"outlinewidth\":0,\"ticks\":\"\"}},\"marker\":{\"colorbar\":{\"outlinewidth\":0,\"ticks\":\"\"}}}],\"scattermapbox\":[{\"type\":\"scattermapbox\",\"marker\":{\"colorbar\":{\"outlinewidth\":0,\"ticks\":\"\"}}}],\"scatterternary\":[{\"type\":\"scatterternary\",\"marker\":{\"colorbar\":{\"outlinewidth\":0,\"ticks\":\"\"}}}],\"scattercarpet\":[{\"type\":\"scattercarpet\",\"marker\":{\"colorbar\":{\"outlinewidth\":0,\"ticks\":\"\"}}}],\"carpet\":[{\"aaxis\":{\"endlinecolor\":\"#2a3f5f\",\"gridcolor\":\"white\",\"linecolor\":\"white\",\"minorgridcolor\":\"white\",\"startlinecolor\":\"#2a3f5f\"},\"baxis\":{\"endlinecolor\":\"#2a3f5f\",\"gridcolor\":\"white\",\"linecolor\":\"white\",\"minorgridcolor\":\"white\",\"startlinecolor\":\"#2a3f5f\"},\"type\":\"carpet\"}],\"table\":[{\"cells\":{\"fill\":{\"color\":\"#EBF0F8\"},\"line\":{\"color\":\"white\"}},\"header\":{\"fill\":{\"color\":\"#C8D4E3\"},\"line\":{\"color\":\"white\"}},\"type\":\"table\"}],\"barpolar\":[{\"marker\":{\"line\":{\"color\":\"#E5ECF6\",\"width\":0.5},\"pattern\":{\"fillmode\":\"overlay\",\"size\":10,\"solidity\":0.2}},\"type\":\"barpolar\"}],\"pie\":[{\"automargin\":true,\"type\":\"pie\"}]},\"layout\":{\"autotypenumbers\":\"strict\",\"colorway\":[\"#636efa\",\"#EF553B\",\"#00cc96\",\"#ab63fa\",\"#FFA15A\",\"#19d3f3\",\"#FF6692\",\"#B6E880\",\"#FF97FF\",\"#FECB52\"],\"font\":{\"color\":\"#2a3f5f\"},\"hovermode\":\"closest\",\"hoverlabel\":{\"align\":\"left\"},\"paper_bgcolor\":\"white\",\"plot_bgcolor\":\"#E5ECF6\",\"polar\":{\"bgcolor\":\"#E5ECF6\",\"angularaxis\":{\"gridcolor\":\"white\",\"linecolor\":\"white\",\"ticks\":\"\"},\"radialaxis\":{\"gridcolor\":\"white\",\"linecolor\":\"white\",\"ticks\":\"\"}},\"ternary\":{\"bgcolor\":\"#E5ECF6\",\"aaxis\":{\"gridcolor\":\"white\",\"linecolor\":\"white\",\"ticks\":\"\"},\"baxis\":{\"gridcolor\":\"white\",\"linecolor\":\"white\",\"ticks\":\"\"},\"caxis\":{\"gridcolor\":\"white\",\"linecolor\":\"white\",\"ticks\":\"\"}},\"coloraxis\":{\"colorbar\":{\"outlinewidth\":0,\"ticks\":\"\"}},\"colorscale\":{\"sequential\":[[0.0,\"#0d0887\"],[0.1111111111111111,\"#46039f\"],[0.2222222222222222,\"#7201a8\"],[0.3333333333333333,\"#9c179e\"],[0.4444444444444444,\"#bd3786\"],[0.5555555555555556,\"#d8576b\"],[0.6666666666666666,\"#ed7953\"],[0.7777777777777778,\"#fb9f3a\"],[0.8888888888888888,\"#fdca26\"],[1.0,\"#f0f921\"]],\"sequentialminus\":[[0.0,\"#0d0887\"],[0.1111111111111111,\"#46039f\"],[0.2222222222222222,\"#7201a8\"],[0.3333333333333333,\"#9c179e\"],[0.4444444444444444,\"#bd3786\"],[0.5555555555555556,\"#d8576b\"],[0.6666666666666666,\"#ed7953\"],[0.7777777777777778,\"#fb9f3a\"],[0.8888888888888888,\"#fdca26\"],[1.0,\"#f0f921\"]],\"diverging\":[[0,\"#8e0152\"],[0.1,\"#c51b7d\"],[0.2,\"#de77ae\"],[0.3,\"#f1b6da\"],[0.4,\"#fde0ef\"],[0.5,\"#f7f7f7\"],[0.6,\"#e6f5d0\"],[0.7,\"#b8e186\"],[0.8,\"#7fbc41\"],[0.9,\"#4d9221\"],[1,\"#276419\"]]},\"xaxis\":{\"gridcolor\":\"white\",\"linecolor\":\"white\",\"ticks\":\"\",\"title\":{\"standoff\":15},\"zerolinecolor\":\"white\",\"automargin\":true,\"zerolinewidth\":2},\"yaxis\":{\"gridcolor\":\"white\",\"linecolor\":\"white\",\"ticks\":\"\",\"title\":{\"standoff\":15},\"zerolinecolor\":\"white\",\"automargin\":true,\"zerolinewidth\":2},\"scene\":{\"xaxis\":{\"backgroundcolor\":\"#E5ECF6\",\"gridcolor\":\"white\",\"linecolor\":\"white\",\"showbackground\":true,\"ticks\":\"\",\"zerolinecolor\":\"white\",\"gridwidth\":2},\"yaxis\":{\"backgroundcolor\":\"#E5ECF6\",\"gridcolor\":\"white\",\"linecolor\":\"white\",\"showbackground\":true,\"ticks\":\"\",\"zerolinecolor\":\"white\",\"gridwidth\":2},\"zaxis\":{\"backgroundcolor\":\"#E5ECF6\",\"gridcolor\":\"white\",\"linecolor\":\"white\",\"showbackground\":true,\"ticks\":\"\",\"zerolinecolor\":\"white\",\"gridwidth\":2}},\"shapedefaults\":{\"line\":{\"color\":\"#2a3f5f\"}},\"annotationdefaults\":{\"arrowcolor\":\"#2a3f5f\",\"arrowhead\":0,\"arrowwidth\":1},\"geo\":{\"bgcolor\":\"white\",\"landcolor\":\"#E5ECF6\",\"subunitcolor\":\"white\",\"showland\":true,\"showlakes\":true,\"lakecolor\":\"white\"},\"title\":{\"x\":0.05},\"mapbox\":{\"style\":\"light\"}}},\"xaxis\":{\"anchor\":\"y\",\"domain\":[0.0,1.0],\"title\":{\"text\":\"Location cluster\"}},\"yaxis\":{\"anchor\":\"x\",\"domain\":[0.0,1.0],\"title\":{\"text\":\"Price/Sqft\"}},\"legend\":{\"tracegroupgap\":0},\"title\":{\"text\":\"Price/Sqft for each cluster\"},\"boxmode\":\"group\"},                        {\"responsive\": true}                    ).then(function(){\n",
       "                            \n",
       "var gd = document.getElementById('98c76ba4-1083-45ba-bf2a-056183b69d7e');\n",
       "var x = new MutationObserver(function (mutations, observer) {{\n",
       "        var display = window.getComputedStyle(gd).display;\n",
       "        if (!display || display === 'none') {{\n",
       "            console.log([gd, 'removed!']);\n",
       "            Plotly.purge(gd);\n",
       "            observer.disconnect();\n",
       "        }}\n",
       "}});\n",
       "\n",
       "// Listen for the removal of the full notebook cells\n",
       "var notebookContainer = gd.closest('#notebook-container');\n",
       "if (notebookContainer) {{\n",
       "    x.observe(notebookContainer, {childList: true});\n",
       "}}\n",
       "\n",
       "// Listen for the clearing of the current output cell\n",
       "var outputEl = gd.closest('.output');\n",
       "if (outputEl) {{\n",
       "    x.observe(outputEl, {childList: true});\n",
       "}}\n",
       "\n",
       "                        })                };                });            </script>        </div>"
      ]
     },
     "metadata": {},
     "output_type": "display_data"
    }
   ],
   "source": [
    "#What is the average number of bedrooms  sold in West Dover VT?\n",
    "px.box(df1, x='Location cluster', y='Price/Sqft', title='Price/Sqft for each cluster')"
   ]
  },
  {
   "cell_type": "code",
   "execution_count": 11,
   "metadata": {},
   "outputs": [
    {
     "data": {
      "text/plain": [
       "2020.0    162\n",
       "2021.0    156\n",
       "2022.0     75\n",
       "Name: soldYear, dtype: int64"
      ]
     },
     "execution_count": 11,
     "metadata": {},
     "output_type": "execute_result"
    }
   ],
   "source": [
    "#no of homes sold in the above dataset. \n",
    "df1['soldYear'].value_counts()"
   ]
  },
  {
   "cell_type": "markdown",
   "metadata": {},
   "source": [
    "#### What is the relationship between selling price and location cluster?\n",
    "It seems that cluster no. **0** is selling at a median price/sqft that is significantly higher than other clusters. Further investigation showed that this is the Willmington Area."
   ]
  },
  {
   "cell_type": "code",
   "execution_count": 12,
   "metadata": {},
   "outputs": [
    {
     "data": {
      "text/html": [
       "<div>                            <div id=\"075afaef-6dc1-4582-a42a-6c72b1f82c17\" class=\"plotly-graph-div\" style=\"height:525px; width:100%;\"></div>            <script type=\"text/javascript\">                require([\"plotly\"], function(Plotly) {                    window.PLOTLYENV=window.PLOTLYENV || {};                                    if (document.getElementById(\"075afaef-6dc1-4582-a42a-6c72b1f82c17\")) {                    Plotly.newPlot(                        \"075afaef-6dc1-4582-a42a-6c72b1f82c17\",                        [{\"alignmentgroup\":\"True\",\"hovertemplate\":\"Location cluster=%{x}<br>Price/Sqft=%{y}<extra></extra>\",\"legendgroup\":\"\",\"marker\":{\"color\":\"#636efa\"},\"name\":\"\",\"notched\":false,\"offsetgroup\":\"\",\"orientation\":\"v\",\"showlegend\":false,\"x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x0\":\" \",\"xaxis\":\"x\",\"y\":[340.8203125,206.3679245283019,214.75195822454307,285.7142857142857,null,177.77777777777777,255.10204081632654,202.485966319166,null,125.44802867383513,null,180.47174986286342,111.11111111111111,260.8695652173913,null,124.10501193317423,100.24752475247524,210.71012805587893,114.63250168577208,null,100.20242914979757,179.55801104972375,null,94.8990160538581,94.8990160538581,102.88808664259928,134.888698630137,null,98.5576923076923,154.6961325966851,null,null,255.0,132.25255972696246,126.31949331456721,99.81851179673322,null,74.85760781122865,119.88304093567251,274.468085106383,40.38461538461539,null,null,null,207.3104200763775,158.6206896551724,155.9278350515464,151.25,379.9148099606815,106.55172413793103,77.08333333333333,133.6875,149.16666666666666,115.8690176322418,96.95652173913044,260.4166666666667,163.33333333333334,null,191.66666666666666,null,114.52380952380952,114.79713603818615,104.16666666666667,145.0,null,161.0,129.23850574712642,255.48986486486487,null,null,null,92.5925925925926,166.66666666666666,148.69281045751634,143.2855714761746,102.01412503269684,186.95014662756597,102.01412503269684,128.3124128312413,null,149.7292131251991,155.50595238095238,167.75869859918663,167.75869859918663,null,131.25,157.5,108.33333333333333,58.57740585774059,null,166.66666666666666,136.64710198092442,148.870636550308,null,206.66666666666666,162.20238095238096,104.58333333333333,104.58333333333333,123.66634335596508,null,177.23880597014926,null,147.26756564939674,130.89622641509433,101.25,172.0,206.61157024793388,219.89038461538462,230.0,null,null,null,null,null,117.5,183.98123324396784,255.85429314830876,48.91304347826087,175.0,null,null,96.33333333333333,null,120.65095398428731,138.36477987421384,145.83333333333334,110.55555555555556,118.59107961650687,148.63782051282053,111.35135135135135,134.375,182.0408163265306,null,null,null,125.0,153.33333333333334,null,158.4,160.70528967254407,null,null,null,144.73684210526315,null,null,null,156.21621621621622,null,null,null,null,null,192.59259259259258,128.31158560695928,141.08082257293162,null,null,null,null,157.06051873198848,123.86248736097068,197.57744241461478,172.83285440613028,169.0,66.55092592592592,222.54616132167152,null,null,null,null,112.5,null,154.4066620402498,113.63636363636364,null,null,3.4017826920907144,102.17206132879046,178.7280701754386,null,161.67664670658684,null,0.25,null,114.32009626955475,147.91288566243193,null,null,212.5,null,201.1290322580645,135.13513513513513,140.0,null,null,203.98009950248758,157.56302521008402,null,75.0,null,144.5,null,null,null,136.65594855305466,173.67458866544789,141.11204717775905,null,null,null,null,null,112.64080100125156,143.33333333333334,null,null,150.0,null,null,51.207729468599034,0.10434927790299692,null,null,270.73732718894007,null,null,131.65999384046813,153.24675324675326,164.22222222222223,null,null,229.16666666666666,188.6317907444668,354.7008547008547,183.8235294117647,119.76664378860673,null,null,133.79705400981996,215.97222222222223,null,null,null,63.86748633879781,188.8965676111495,null,null,null,null,152.22727272727272,null,null,null,150.91463414634146,null,164.5,144.03292181069958,null,null,null,169.56521739130434,186.875,null,290.0,null,162.61755485893417,160.12199771254288,null,147.5259090909091,null,149.71751412429379,167.95279164775306,null,140.45454545454547,172.0505617977528,null,null,null,190.0,172.72727272727272,214.6341463414634,237.83783783783784,null,186.216498433693,185.26591107236268,95.0,195.8762886597938,204.0,null,null,130.89005235602093,null,150.74074074074073,168.9655172413793,null,241.3978494623656,130.85818624467439,630.4347826086956,188.3116883116883,218.38687628161313,219.2151556156969,672.796591163938,168.09492419248517,137.23150357995226,220.83333333333334,286.4583333333333,202.0,227.20341567551083,165.88785046728972,185.71428571428572,188.01169590643275,208.33333333333334,null,105.3740779768177,132.78449353897457,183.37769890564923,256.94708793300344,212.5,null,213.81578947368422,225.0,340.0,230.0,160.8695652173913,138.4992987377279,172.91666666666666,241.5591545429591,159.9702380952381,440.0,200.13095238095238,130.2281368821293,131.61323951003388,357.2043010752688,102.56410256410257,175.82792762034825,324.7373447946514,148.23717948717947,419.7080291970803,null,302.3809523809524,238.59649122807016,466.7499219481736,161.33333333333334,184.54861111111111,260.35911602209944,134.54545454545453,226.70652715495766,null,237.1748878923767,273.12332439678283,254.41449814126395,280.0,240.9090909090909,null,108.90151515151516,175.64655172413794,244.44444444444446,272.85714285714283,203.61990950226243,254.15896487985214,null,236.96682464454977,202.30078563411897,328.01418439716315,218.75,null,160.71428571428572,136.83634373289544,182.29166666666666,425.80152671755724,337.5,null,null,null,129.80769230769232,142.2319474835886,201.12179487179486,null,247.953216374269,128.7001287001287,165.32258064516128,195.83333333333334,206.32279534109816,null,373.8317757009346,null,299.47851999006707,396.3011889035667,212.94070512820514,290.63309885227693,209.67741935483872,328.57142857142856,208.42824601366743,252.2347454333463,179.3117744610282,254.16666666666666,289.5348837209302,239.0625,null,266.39344262295083,286.0635696821516,359.5238095238095,330.7142857142857,null,184.6355303360978,223.38665195808053,190.14084507042253,588.7483645878762,null,168.9655172413793,99.2063492063492,167.3684210526316,null,null,null,153.33333333333334,null,null,200.0,288.6363636363636,null,339.9708596406022,150.0,242.88688410825816,null,null,228.00925925925927,272.7825030376671,null,null,null,138.88888888888889,null,215.10516252390056,null,null,null,183.08823529411765,226.27359710369797,142.5,null,15.517241379310345,null,null,163.88888888888889,null,151.00671140939596,null,null,92.1474358974359,99.33035714285714,null,104.22870756402621,null,null,null,null,null,304.931640625,313.72549019607845,326.3636363636364],\"y0\":\" \",\"yaxis\":\"y\",\"type\":\"box\"}],                        {\"template\":{\"data\":{\"histogram2dcontour\":[{\"type\":\"histogram2dcontour\",\"colorbar\":{\"outlinewidth\":0,\"ticks\":\"\"},\"colorscale\":[[0.0,\"#0d0887\"],[0.1111111111111111,\"#46039f\"],[0.2222222222222222,\"#7201a8\"],[0.3333333333333333,\"#9c179e\"],[0.4444444444444444,\"#bd3786\"],[0.5555555555555556,\"#d8576b\"],[0.6666666666666666,\"#ed7953\"],[0.7777777777777778,\"#fb9f3a\"],[0.8888888888888888,\"#fdca26\"],[1.0,\"#f0f921\"]]}],\"choropleth\":[{\"type\":\"choropleth\",\"colorbar\":{\"outlinewidth\":0,\"ticks\":\"\"}}],\"histogram2d\":[{\"type\":\"histogram2d\",\"colorbar\":{\"outlinewidth\":0,\"ticks\":\"\"},\"colorscale\":[[0.0,\"#0d0887\"],[0.1111111111111111,\"#46039f\"],[0.2222222222222222,\"#7201a8\"],[0.3333333333333333,\"#9c179e\"],[0.4444444444444444,\"#bd3786\"],[0.5555555555555556,\"#d8576b\"],[0.6666666666666666,\"#ed7953\"],[0.7777777777777778,\"#fb9f3a\"],[0.8888888888888888,\"#fdca26\"],[1.0,\"#f0f921\"]]}],\"heatmap\":[{\"type\":\"heatmap\",\"colorbar\":{\"outlinewidth\":0,\"ticks\":\"\"},\"colorscale\":[[0.0,\"#0d0887\"],[0.1111111111111111,\"#46039f\"],[0.2222222222222222,\"#7201a8\"],[0.3333333333333333,\"#9c179e\"],[0.4444444444444444,\"#bd3786\"],[0.5555555555555556,\"#d8576b\"],[0.6666666666666666,\"#ed7953\"],[0.7777777777777778,\"#fb9f3a\"],[0.8888888888888888,\"#fdca26\"],[1.0,\"#f0f921\"]]}],\"heatmapgl\":[{\"type\":\"heatmapgl\",\"colorbar\":{\"outlinewidth\":0,\"ticks\":\"\"},\"colorscale\":[[0.0,\"#0d0887\"],[0.1111111111111111,\"#46039f\"],[0.2222222222222222,\"#7201a8\"],[0.3333333333333333,\"#9c179e\"],[0.4444444444444444,\"#bd3786\"],[0.5555555555555556,\"#d8576b\"],[0.6666666666666666,\"#ed7953\"],[0.7777777777777778,\"#fb9f3a\"],[0.8888888888888888,\"#fdca26\"],[1.0,\"#f0f921\"]]}],\"contourcarpet\":[{\"type\":\"contourcarpet\",\"colorbar\":{\"outlinewidth\":0,\"ticks\":\"\"}}],\"contour\":[{\"type\":\"contour\",\"colorbar\":{\"outlinewidth\":0,\"ticks\":\"\"},\"colorscale\":[[0.0,\"#0d0887\"],[0.1111111111111111,\"#46039f\"],[0.2222222222222222,\"#7201a8\"],[0.3333333333333333,\"#9c179e\"],[0.4444444444444444,\"#bd3786\"],[0.5555555555555556,\"#d8576b\"],[0.6666666666666666,\"#ed7953\"],[0.7777777777777778,\"#fb9f3a\"],[0.8888888888888888,\"#fdca26\"],[1.0,\"#f0f921\"]]}],\"surface\":[{\"type\":\"surface\",\"colorbar\":{\"outlinewidth\":0,\"ticks\":\"\"},\"colorscale\":[[0.0,\"#0d0887\"],[0.1111111111111111,\"#46039f\"],[0.2222222222222222,\"#7201a8\"],[0.3333333333333333,\"#9c179e\"],[0.4444444444444444,\"#bd3786\"],[0.5555555555555556,\"#d8576b\"],[0.6666666666666666,\"#ed7953\"],[0.7777777777777778,\"#fb9f3a\"],[0.8888888888888888,\"#fdca26\"],[1.0,\"#f0f921\"]]}],\"mesh3d\":[{\"type\":\"mesh3d\",\"colorbar\":{\"outlinewidth\":0,\"ticks\":\"\"}}],\"scatter\":[{\"fillpattern\":{\"fillmode\":\"overlay\",\"size\":10,\"solidity\":0.2},\"type\":\"scatter\"}],\"parcoords\":[{\"type\":\"parcoords\",\"line\":{\"colorbar\":{\"outlinewidth\":0,\"ticks\":\"\"}}}],\"scatterpolargl\":[{\"type\":\"scatterpolargl\",\"marker\":{\"colorbar\":{\"outlinewidth\":0,\"ticks\":\"\"}}}],\"bar\":[{\"error_x\":{\"color\":\"#2a3f5f\"},\"error_y\":{\"color\":\"#2a3f5f\"},\"marker\":{\"line\":{\"color\":\"#E5ECF6\",\"width\":0.5},\"pattern\":{\"fillmode\":\"overlay\",\"size\":10,\"solidity\":0.2}},\"type\":\"bar\"}],\"scattergeo\":[{\"type\":\"scattergeo\",\"marker\":{\"colorbar\":{\"outlinewidth\":0,\"ticks\":\"\"}}}],\"scatterpolar\":[{\"type\":\"scatterpolar\",\"marker\":{\"colorbar\":{\"outlinewidth\":0,\"ticks\":\"\"}}}],\"histogram\":[{\"marker\":{\"pattern\":{\"fillmode\":\"overlay\",\"size\":10,\"solidity\":0.2}},\"type\":\"histogram\"}],\"scattergl\":[{\"type\":\"scattergl\",\"marker\":{\"colorbar\":{\"outlinewidth\":0,\"ticks\":\"\"}}}],\"scatter3d\":[{\"type\":\"scatter3d\",\"line\":{\"colorbar\":{\"outlinewidth\":0,\"ticks\":\"\"}},\"marker\":{\"colorbar\":{\"outlinewidth\":0,\"ticks\":\"\"}}}],\"scattermapbox\":[{\"type\":\"scattermapbox\",\"marker\":{\"colorbar\":{\"outlinewidth\":0,\"ticks\":\"\"}}}],\"scatterternary\":[{\"type\":\"scatterternary\",\"marker\":{\"colorbar\":{\"outlinewidth\":0,\"ticks\":\"\"}}}],\"scattercarpet\":[{\"type\":\"scattercarpet\",\"marker\":{\"colorbar\":{\"outlinewidth\":0,\"ticks\":\"\"}}}],\"carpet\":[{\"aaxis\":{\"endlinecolor\":\"#2a3f5f\",\"gridcolor\":\"white\",\"linecolor\":\"white\",\"minorgridcolor\":\"white\",\"startlinecolor\":\"#2a3f5f\"},\"baxis\":{\"endlinecolor\":\"#2a3f5f\",\"gridcolor\":\"white\",\"linecolor\":\"white\",\"minorgridcolor\":\"white\",\"startlinecolor\":\"#2a3f5f\"},\"type\":\"carpet\"}],\"table\":[{\"cells\":{\"fill\":{\"color\":\"#EBF0F8\"},\"line\":{\"color\":\"white\"}},\"header\":{\"fill\":{\"color\":\"#C8D4E3\"},\"line\":{\"color\":\"white\"}},\"type\":\"table\"}],\"barpolar\":[{\"marker\":{\"line\":{\"color\":\"#E5ECF6\",\"width\":0.5},\"pattern\":{\"fillmode\":\"overlay\",\"size\":10,\"solidity\":0.2}},\"type\":\"barpolar\"}],\"pie\":[{\"automargin\":true,\"type\":\"pie\"}]},\"layout\":{\"autotypenumbers\":\"strict\",\"colorway\":[\"#636efa\",\"#EF553B\",\"#00cc96\",\"#ab63fa\",\"#FFA15A\",\"#19d3f3\",\"#FF6692\",\"#B6E880\",\"#FF97FF\",\"#FECB52\"],\"font\":{\"color\":\"#2a3f5f\"},\"hovermode\":\"closest\",\"hoverlabel\":{\"align\":\"left\"},\"paper_bgcolor\":\"white\",\"plot_bgcolor\":\"#E5ECF6\",\"polar\":{\"bgcolor\":\"#E5ECF6\",\"angularaxis\":{\"gridcolor\":\"white\",\"linecolor\":\"white\",\"ticks\":\"\"},\"radialaxis\":{\"gridcolor\":\"white\",\"linecolor\":\"white\",\"ticks\":\"\"}},\"ternary\":{\"bgcolor\":\"#E5ECF6\",\"aaxis\":{\"gridcolor\":\"white\",\"linecolor\":\"white\",\"ticks\":\"\"},\"baxis\":{\"gridcolor\":\"white\",\"linecolor\":\"white\",\"ticks\":\"\"},\"caxis\":{\"gridcolor\":\"white\",\"linecolor\":\"white\",\"ticks\":\"\"}},\"coloraxis\":{\"colorbar\":{\"outlinewidth\":0,\"ticks\":\"\"}},\"colorscale\":{\"sequential\":[[0.0,\"#0d0887\"],[0.1111111111111111,\"#46039f\"],[0.2222222222222222,\"#7201a8\"],[0.3333333333333333,\"#9c179e\"],[0.4444444444444444,\"#bd3786\"],[0.5555555555555556,\"#d8576b\"],[0.6666666666666666,\"#ed7953\"],[0.7777777777777778,\"#fb9f3a\"],[0.8888888888888888,\"#fdca26\"],[1.0,\"#f0f921\"]],\"sequentialminus\":[[0.0,\"#0d0887\"],[0.1111111111111111,\"#46039f\"],[0.2222222222222222,\"#7201a8\"],[0.3333333333333333,\"#9c179e\"],[0.4444444444444444,\"#bd3786\"],[0.5555555555555556,\"#d8576b\"],[0.6666666666666666,\"#ed7953\"],[0.7777777777777778,\"#fb9f3a\"],[0.8888888888888888,\"#fdca26\"],[1.0,\"#f0f921\"]],\"diverging\":[[0,\"#8e0152\"],[0.1,\"#c51b7d\"],[0.2,\"#de77ae\"],[0.3,\"#f1b6da\"],[0.4,\"#fde0ef\"],[0.5,\"#f7f7f7\"],[0.6,\"#e6f5d0\"],[0.7,\"#b8e186\"],[0.8,\"#7fbc41\"],[0.9,\"#4d9221\"],[1,\"#276419\"]]},\"xaxis\":{\"gridcolor\":\"white\",\"linecolor\":\"white\",\"ticks\":\"\",\"title\":{\"standoff\":15},\"zerolinecolor\":\"white\",\"automargin\":true,\"zerolinewidth\":2},\"yaxis\":{\"gridcolor\":\"white\",\"linecolor\":\"white\",\"ticks\":\"\",\"title\":{\"standoff\":15},\"zerolinecolor\":\"white\",\"automargin\":true,\"zerolinewidth\":2},\"scene\":{\"xaxis\":{\"backgroundcolor\":\"#E5ECF6\",\"gridcolor\":\"white\",\"linecolor\":\"white\",\"showbackground\":true,\"ticks\":\"\",\"zerolinecolor\":\"white\",\"gridwidth\":2},\"yaxis\":{\"backgroundcolor\":\"#E5ECF6\",\"gridcolor\":\"white\",\"linecolor\":\"white\",\"showbackground\":true,\"ticks\":\"\",\"zerolinecolor\":\"white\",\"gridwidth\":2},\"zaxis\":{\"backgroundcolor\":\"#E5ECF6\",\"gridcolor\":\"white\",\"linecolor\":\"white\",\"showbackground\":true,\"ticks\":\"\",\"zerolinecolor\":\"white\",\"gridwidth\":2}},\"shapedefaults\":{\"line\":{\"color\":\"#2a3f5f\"}},\"annotationdefaults\":{\"arrowcolor\":\"#2a3f5f\",\"arrowhead\":0,\"arrowwidth\":1},\"geo\":{\"bgcolor\":\"white\",\"landcolor\":\"#E5ECF6\",\"subunitcolor\":\"white\",\"showland\":true,\"showlakes\":true,\"lakecolor\":\"white\"},\"title\":{\"x\":0.05},\"mapbox\":{\"style\":\"light\"}}},\"xaxis\":{\"anchor\":\"y\",\"domain\":[0.0,1.0],\"title\":{\"text\":\"Location cluster\"},\"range\":[-1,8]},\"yaxis\":{\"anchor\":\"x\",\"domain\":[0.0,1.0],\"title\":{\"text\":\"Price/Sqft\"}},\"legend\":{\"tracegroupgap\":0},\"margin\":{\"t\":60},\"boxmode\":\"group\"},                        {\"responsive\": true}                    ).then(function(){\n",
       "                            \n",
       "var gd = document.getElementById('075afaef-6dc1-4582-a42a-6c72b1f82c17');\n",
       "var x = new MutationObserver(function (mutations, observer) {{\n",
       "        var display = window.getComputedStyle(gd).display;\n",
       "        if (!display || display === 'none') {{\n",
       "            console.log([gd, 'removed!']);\n",
       "            Plotly.purge(gd);\n",
       "            observer.disconnect();\n",
       "        }}\n",
       "}});\n",
       "\n",
       "// Listen for the removal of the full notebook cells\n",
       "var notebookContainer = gd.closest('#notebook-container');\n",
       "if (notebookContainer) {{\n",
       "    x.observe(notebookContainer, {childList: true});\n",
       "}}\n",
       "\n",
       "// Listen for the clearing of the current output cell\n",
       "var outputEl = gd.closest('.output');\n",
       "if (outputEl) {{\n",
       "    x.observe(outputEl, {childList: true});\n",
       "}}\n",
       "\n",
       "                        })                };                });            </script>        </div>"
      ]
     },
     "metadata": {},
     "output_type": "display_data"
    }
   ],
   "source": [
    "px.box(df1, x='Location cluster', y='Price/Sqft', range_x=[-1,8])"
   ]
  },
  {
   "cell_type": "markdown",
   "metadata": {},
   "source": [
    "#### What is the relationship between the Living Area and the Sold Price?"
   ]
  },
  {
   "cell_type": "code",
   "execution_count": 13,
   "metadata": {},
   "outputs": [
    {
     "data": {
      "text/html": [
       "<div>                            <div id=\"768ffa98-0a6e-45b3-82ae-8480c5e8d06d\" class=\"plotly-graph-div\" style=\"height:525px; width:100%;\"></div>            <script type=\"text/javascript\">                require([\"plotly\"], function(Plotly) {                    window.PLOTLYENV=window.PLOTLYENV || {};                                    if (document.getElementById(\"768ffa98-0a6e-45b3-82ae-8480c5e8d06d\")) {                    Plotly.newPlot(                        \"768ffa98-0a6e-45b3-82ae-8480c5e8d06d\",                        [{\"hovertemplate\":\"homeType=CONDO<br>livingArea=%{x}<br>lastSoldPrice=%{y}<extra></extra>\",\"legendgroup\":\"CONDO\",\"marker\":{\"color\":\"#636efa\",\"symbol\":\"circle\"},\"mode\":\"markers\",\"name\":\"CONDO\",\"orientation\":\"v\",\"showlegend\":true,\"x\":[1024.0,1696.0,null,2514.0,1172.0,2842.0,1229.0,2000.0,1200.0,1150.0,600.0,1782.0,1200.0,612.0,717.0,1200.0,974.0,2400.0,2984.0,1782.0,2067.0,1200.0,1248.0,1850.0,3200.0,2450.0,1200.0,1985.0,1850.0,1978.0,2400.0,2882.0,1824.0,2493.0,3100.0,2856.0,2000.0,null,750.0,null,3000.0,null,1150.0,2200.0,1100.0,2050.0,2700.0,460.0,1540.0,576.0,2500.0,2000.0,2325.0,1248.0,1440.0,1448.0,2984.0,750.0,1768.0,1266.0,1782.0,1128.0,2400.0,2880.0,1200.0,1248.0,1240.0,1200.0,1070.0,757.0,1248.0,620.0,910.0,878.0,2573.0,2412.0,600.0,860.0,3200.0,null,1900.0,1500.0,3100.0,1200.0,null,1248.0,1792.0,1024.0,1020.0,1100.0],\"xaxis\":\"x\",\"y\":[349000.0,350000.0,325000.0,312000.0,155000.0,359000.0,92000.0,267375.0,179000.0,111500.0,115000.0,165000.0,200000.0,91000.0,92000.0,189000.0,145000.0,251000.0,549000.0,215000.0,286000.0,175000.0,185500.0,206000.0,430000.0,446000.0,184000.0,319000.0,289000.0,245000.0,270000.0,445000.0,326000.0,285000.0,623500.0,450000.0,289000.0,660000.0,107500.0,615000.0,450000.0,140000.0,195000.0,324557.0,190000.0,440000.0,407000.0,290000.0,290000.0,165000.0,850000.0,460000.0,830500.0,185000.0,265750.0,377000.0,815000.0,210000.0,360000.0,300000.0,360500.0,370000.0,525000.0,525000.0,405000.0,251000.0,205000.0,235000.0,400000.0,300000.0,265750.0,130000.0,299000.0,183000.0,649000.0,432500.0,152500.0,249000.0,765000.0,260000.0,318000.0,230000.0,620000.0,180000.0,124000.0,115000.0,178000.0,312250.0,320000.0,359000.0],\"yaxis\":\"y\",\"type\":\"scatter\"},{\"hovertemplate\":\"<b>OLS trendline</b><br>lastSoldPrice = 160.843 * livingArea + 45331<br>R<sup>2</sup>=0.517498<br><br>homeType=CONDO<br>livingArea=%{x}<br>lastSoldPrice=%{y} <b>(trend)</b><extra></extra>\",\"legendgroup\":\"CONDO\",\"marker\":{\"color\":\"#636efa\",\"symbol\":\"circle\"},\"mode\":\"lines\",\"name\":\"CONDO\",\"showlegend\":false,\"x\":[460.0,576.0,600.0,600.0,612.0,620.0,717.0,750.0,750.0,757.0,860.0,878.0,910.0,974.0,1020.0,1024.0,1024.0,1070.0,1100.0,1100.0,1128.0,1150.0,1150.0,1172.0,1200.0,1200.0,1200.0,1200.0,1200.0,1200.0,1200.0,1200.0,1229.0,1240.0,1248.0,1248.0,1248.0,1248.0,1248.0,1266.0,1440.0,1448.0,1500.0,1540.0,1696.0,1768.0,1782.0,1782.0,1782.0,1792.0,1824.0,1850.0,1850.0,1900.0,1978.0,1985.0,2000.0,2000.0,2000.0,2050.0,2067.0,2200.0,2325.0,2400.0,2400.0,2400.0,2412.0,2450.0,2493.0,2500.0,2514.0,2573.0,2700.0,2842.0,2856.0,2880.0,2882.0,2984.0,2984.0,3000.0,3100.0,3100.0,3200.0,3200.0],\"xaxis\":\"x\",\"y\":[119318.9088146522,137976.74114677447,141836.9823189377,141836.9823189377,143767.1029050193,145053.84996240702,160655.65803323343,165963.48964495788,165963.48964495788,167089.39332017215,183656.26168403932,186551.44256316175,191698.43079271272,201992.40725181467,209391.2028317942,210034.57636048805,210034.57636048805,217433.37194046756,222258.6734056716,222258.6734056716,226762.2881065287,230300.842514345,230300.842514345,233839.39692216128,238343.0116230184,238343.0116230184,238343.0116230184,238343.0116230184,238343.0116230184,238343.0116230184,238343.0116230184,238343.0116230184,243007.46970604896,244776.7469099571,246063.49396734484,246063.49396734484,246063.49396734484,246063.49396734484,246063.49396734484,248958.67484646727,276945.42334465066,278232.1704020384,286596.02627505874,293029.76156199747,318121.32918105845,329702.05269754806,331953.8600479767,331953.8600479767,331953.8600479767,333562.29386971134,338709.28209926235,342891.2100357725,342891.2100357725,350933.3791444459,363479.1629539763,364605.0666291906,367017.7173617927,367017.7173617927,367017.7173617927,375059.88647046604,377794.22396741505,399186.3937964862,419291.81656816974,431355.0702311798,431355.0702311798,431355.0702311798,433285.19081726135,439397.2393398532,446313.50477331225,447439.4084485265,449691.21579895506,459180.9753471897,479608.08488322014,502447.8451518526,504699.6525022811,508559.8936744443,508881.5804387913,525287.605420485,525287.605420485,527861.0995352605,543945.4377526073,543945.4377526073,560029.7759699541,560029.7759699541],\"yaxis\":\"y\",\"type\":\"scatter\"},{\"hovertemplate\":\"homeType=SINGLE_FAMILY<br>livingArea=%{x}<br>lastSoldPrice=%{y}<extra></extra>\",\"legendgroup\":\"SINGLE_FAMILY\",\"marker\":{\"color\":\"#EF553B\",\"symbol\":\"circle\"},\"mode\":\"markers\",\"name\":\"SINGLE_FAMILY\",\"orientation\":\"v\",\"showlegend\":true,\"x\":[1532.0,700.0,1800.0,1372.0,2494.0,2511.0,null,1823.0,6300.0,1380.0,4040.0,859.0,2966.0,2470.0,2172.0,null,3324.0,2336.0,null,1810.0,5000.0,2204.0,2394.0,4700.0,5200.0,1833.0,1595.0,1552.0,1600.0,3052.0,2900.0,1985.0,1440.0,2100.0,2095.0,null,4000.0,1392.0,1184.0,null,3001.0,3823.0,1364.0,3823.0,null,3139.0,1344.0,4426.0,4426.0,1600.0,3585.0,2400.0,2726.0,750.0,1344.0,2062.0,4288.0,2818.0,1696.0,1680.0,1500.0,6050.0,2600.0,4000.0,null,null,null,2000.0,2306.0,2300.0,3000.0,null,3000.0,1800.0,4798.0,null,4200.0,1250.0,2660.0,null,null,null,2700.0,2529.0,4182.0,null,null,3470.0,5036.0,2088.0,1000.0,1728.0,1029.0,null,4400.0,8863.0,2348.0,835.0,6000.0,null,1102.0,2400.0,null,2590.0,2000.0,3015.0,3200.0,null,2488.0,2735.0,4748.0,null,3196.0,null,5175.0,1736.0,3247.0,2310.0,4500.0,3976.0,3276.0,2856.0,2914.0,2444.0,1440.0,1464.0,4341.0,null,null,3280.0,2673.0,null,1600.0,2500.0,null,2552.0,2623.0,3540.0,2203.0,2200.0,2848.0,null,2100.0,2873.0,2294.0,2500.0,2425.0,2250.0,null,1528.0,5800.0,1860.0,3286.0,2926.0,3695.0,4459.0,1517.0,1676.0,1200.0,2500.0,3279.0,3852.0,1400.0,3420.0,1776.0,3796.0,4798.0,3381.0,5254.0,1200.0,1824.0,1600.0,2300.0,2852.0,2400.0,3643.0,2688.0,5000.0,4200.0,3156.0,3837.0,1950.0,2929.0,5235.0,3562.0,2100.0,2850.0,3203.0,4500.0,2200.0,2007.0,2230.0,2152.0,2200.0,2784.0,1800.0,3500.0,2164.0,1120.0,6550.0,5200.0,1828.0,855.0,1554.0,3005.0,4027.0,2701.0,1220.0,2454.0,1050.0,1400.0,2291.0,1813.0,2840.0,2293.0,5800.0,3528.0,null,null,2200.0,null,4118.0,2882.0,864.0,1646.0,null,2916.0,2092.0,1360.0,3867.0,2000.0,2900.0,1800.0,null,2086.0,null,null,3358.0],\"xaxis\":\"x\",\"y\":[329000.0,200000.0,320000.0,350000.0,505000.0,315000.0,150000.0,329000.0,700000.0,360000.0,405000.0,181000.0,340000.0,247500.0,390000.0,247500.0,342000.0,315100.0,245000.0,280000.0,1275000.0,220000.0,287000.0,1290000.0,210000.0,380000.0,253000.0,242000.0,242000.0,1159500.0,309000.0,230000.0,375000.0,240500.0,240500.0,1245000.0,644000.0,179900.0,302500.0,1525000.0,430000.0,390000.0,255000.0,390000.0,275000.0,470000.0,209000.0,742500.0,742500.0,210000.0,210000.0,400000.0,372500.0,155000.0,218000.0,255000.0,760000.0,415000.0,222000.0,170100.0,258000.0,1250000.0,571715.0,920000.0,382000.0,394000.0,500.0,235000.0,590000.0,112500.0,525000.0,255000.0,289000.0,199000.0,569000.0,288000.0,525000.0,198000.0,385000.0,270000.0,24900.0,245000.0,520000.0,324500.0,590000.0,356000.0,125000.0,545000.0,995000.0,360875.0,169000.0,115000.0,229000.0,360875.0,500000.0,30150.0,239900.0,135000.0,1500.0,52000.0,163000.0,510000.0,975000.0,350000.0,280000.0,615000.0,240000.0,12000.0,340000.0,475000.0,670000.0,200000.0,360000.0,13000.0,265000.0,470000.0,427500.0,354000.0,739000.0,750000.0,1162000.0,525000.0,349000.0,327000.0,311000.0,93502.0,820000.0,25000.0,1025000.0,495000.0,385000.0,120000.0,299000.0,725000.0,470000.0,415000.0,420000.0,530000.0,370000.0,309000.0,490000.0,355000.0,399000.0,535000.0,425000.0,237500.0,475000.0,459000.0,159000.0,200000.0,980000.0,449000.0,430000.0,639000.0,810000.0,3000000.0,255000.0,230000.0,265000.0,505000.0,745000.0,639000.0,260000.0,643000.0,370000.0,400000.0,637100.0,620000.0,1350000.0,255000.0,390000.0,360000.0,370000.0,395000.0,415000.0,880000.0,430000.0,2200000.0,840550.0,411000.0,505000.0,200000.0,515000.0,1700000.0,1495000.0,635000.0,680000.0,1495000.0,726000.0,296000.0,455000.0,528900.0,547500.0,530000.0,489000.0,440000.0,955000.0,550000.0,180000.0,2789000.0,675000.0,260000.0,212000.0,200000.0,620000.0,1206000.0,785000.0,325000.0,702000.0,377500.0,463000.0,423000.0,405000.0,540000.0,1350000.0,980000.0,350000.0,165615.0,545000.0,635000.0,515000.0,1400000.0,700000.0,197000.0,449000.0,100000.0,405000.0,450000.0,249000.0,875000.0,285000.0,45000.0,295000.0,295000.0,315000.0,200000.0,130000.0,350000.0],\"yaxis\":\"y\",\"type\":\"scatter\"},{\"hovertemplate\":\"<b>OLS trendline</b><br>lastSoldPrice = 167.957 * livingArea + 41244.7<br>R<sup>2</sup>=0.297777<br><br>homeType=SINGLE_FAMILY<br>livingArea=%{x}<br>lastSoldPrice=%{y} <b>(trend)</b><extra></extra>\",\"legendgroup\":\"SINGLE_FAMILY\",\"marker\":{\"color\":\"#EF553B\",\"symbol\":\"circle\"},\"mode\":\"lines\",\"name\":\"SINGLE_FAMILY\",\"showlegend\":false,\"x\":[700.0,750.0,835.0,855.0,859.0,864.0,1000.0,1029.0,1050.0,1102.0,1120.0,1184.0,1200.0,1200.0,1220.0,1250.0,1344.0,1344.0,1360.0,1364.0,1372.0,1380.0,1392.0,1400.0,1400.0,1440.0,1440.0,1464.0,1500.0,1517.0,1528.0,1532.0,1552.0,1554.0,1595.0,1600.0,1600.0,1600.0,1600.0,1646.0,1676.0,1680.0,1696.0,1728.0,1736.0,1776.0,1800.0,1800.0,1800.0,1800.0,1810.0,1813.0,1823.0,1824.0,1828.0,1833.0,1860.0,1950.0,1985.0,2000.0,2000.0,2000.0,2007.0,2062.0,2086.0,2088.0,2092.0,2095.0,2100.0,2100.0,2100.0,2152.0,2164.0,2172.0,2200.0,2200.0,2200.0,2200.0,2203.0,2204.0,2230.0,2250.0,2291.0,2293.0,2294.0,2300.0,2300.0,2306.0,2310.0,2336.0,2348.0,2394.0,2400.0,2400.0,2400.0,2425.0,2444.0,2454.0,2470.0,2488.0,2494.0,2500.0,2500.0,2500.0,2511.0,2529.0,2552.0,2590.0,2600.0,2623.0,2660.0,2673.0,2688.0,2700.0,2701.0,2726.0,2735.0,2784.0,2818.0,2840.0,2848.0,2850.0,2852.0,2856.0,2873.0,2882.0,2900.0,2900.0,2914.0,2916.0,2926.0,2929.0,2966.0,3000.0,3000.0,3001.0,3005.0,3015.0,3052.0,3139.0,3156.0,3196.0,3200.0,3203.0,3247.0,3276.0,3279.0,3280.0,3286.0,3324.0,3358.0,3381.0,3420.0,3470.0,3500.0,3528.0,3540.0,3562.0,3585.0,3643.0,3695.0,3796.0,3823.0,3823.0,3837.0,3852.0,3867.0,3976.0,4000.0,4000.0,4027.0,4040.0,4118.0,4182.0,4200.0,4200.0,4288.0,4341.0,4400.0,4426.0,4426.0,4459.0,4500.0,4500.0,4700.0,4748.0,4798.0,4798.0,5000.0,5000.0,5036.0,5175.0,5200.0,5200.0,5235.0,5254.0,5800.0,5800.0,6000.0,6050.0,6300.0,6550.0,8863.0],\"xaxis\":\"x\",\"y\":[158814.8177201948,167212.68484195523,181489.05894894796,184848.20579765213,185520.03516739295,186359.821879569,209202.02045075738,214072.78338137842,217599.8875725178,226333.66937914863,229356.9015429824,240106.17145883574,242793.4889377991,242793.4889377991,246152.63578650326,251191.3560595595,266979.3462484691,266979.3462484691,269666.6637274325,270338.4930971733,271682.151836655,273025.81057613663,275041.2986853591,276384.9574248408,276384.9574248408,283103.2511222492,283103.2511222492,287134.22734069417,293180.69166836166,296035.9664897602,297883.4972565475,298555.32662628836,301914.4734749925,302250.38815986295,309136.6391997065,309976.4259118825,309976.4259118825,309976.4259118825,309976.4259118825,317702.46366390213,322741.1839369584,323413.01330669917,326100.3307856625,331474.9657435892,332818.62448307086,339536.9181804792,343567.89439892425,343567.89439892425,343567.89439892425,343567.89439892425,345247.4678232763,345751.33985058195,347430.91327493405,347598.87061736925,348270.69998711004,349110.4866992861,353645.33494503674,368761.4957642055,374640.0027494378,377159.36288596597,377159.36288596597,377159.36288596597,378335.0642830124,387572.71811694885,391603.6943353939,391939.6090202643,392611.43839000515,393115.31041731074,393955.0971294868,393955.0971294868,393955.0971294868,402688.87893611763,404704.3670453401,406048.02578482183,410750.8313730077,410750.8313730077,410750.8313730077,410750.8313730077,411254.7034003133,411422.66074274847,415789.5516460639,419148.69849476806,426034.94953461166,426370.86421948206,426538.82156191726,427546.5656165285,427546.5656165285,428554.30967113975,429226.1390408806,433593.029944196,435608.51805341855,443334.55580543814,444342.2998600494,444342.2998600494,444342.2998600494,448541.2334209296,451732.4229271985,453411.9963515506,456099.313830514,459122.5459943477,460130.29004895897,461138.0341035702,461138.0341035702,461138.0341035702,462985.5648703575,466008.79703419126,469871.81591020105,476254.194922739,477933.7683470911,481796.7872231009,488011.2088932036,490194.65434486134,492714.01448138943,494729.5025906119,494897.4599330471,499096.3934939274,500608.0095758442,508837.91935516946,514548.46899796656,518243.53053154115,519587.1892710228,519923.10395589325,520259.01864076365,520930.8480105045,523786.12283190305,525297.7389138199,528320.9710776536,528320.9710776536,530672.3738717466,531008.288556617,532687.8619809691,533191.7340082747,539406.1556783775,545116.7053211746,545116.7053211746,545284.6626636097,545956.4920333505,547636.0654577026,553850.4871278054,568462.7759196686,571318.0507410672,578036.3444384753,578708.1738082161,579212.0458355218,586602.168902671,591472.9318332921,591976.8038605978,592144.7612030329,593152.5052576442,599534.8842701821,605245.4339129792,609108.4527889891,615658.7891439621,624056.6562657226,629095.3765387789,633798.1821269647,635813.670236187,639508.7317697618,643371.7506457716,653113.2765070137,661847.0583136445,678810.7498996006,683345.5981453513,683345.5981453513,685697.0009394442,688216.3610759722,690735.7212125002,709043.071537938,713074.0477563832,713074.0477563832,717608.8960021336,719792.3414537914,732893.0141637377,743642.284079591,746665.5162434247,746665.5162434247,761445.7623777231,770347.5015267893,780256.9847304665,784623.875633782,784623.875633782,790166.4679341437,797052.7189739873,797052.7189739873,830644.187461029,838706.139897919,847104.0070196795,847104.0070196795,881031.3901915916,881031.3901915916,887077.8545192592,910423.9251177532,914622.8586786333,914622.8586786333,920501.3656638656,923692.5551701346,1015397.2641397584,1015397.2641397584,1048988.7326268002,1057386.5997485607,1099375.9353573627,1141365.270966165,1529850.6040188023],\"yaxis\":\"y\",\"type\":\"scatter\"},{\"hovertemplate\":\"homeType=LOT<br>livingArea=%{x}<br>lastSoldPrice=%{y}<extra></extra>\",\"legendgroup\":\"LOT\",\"marker\":{\"color\":\"#00cc96\",\"symbol\":\"circle\"},\"mode\":\"markers\",\"name\":\"LOT\",\"orientation\":\"v\",\"showlegend\":true,\"x\":[null,null,null,null,null,null,null,null,null,null,null,null,null,null,null,null,null,null,null,null,null,null,null,null,null,null,null,null,null,null,null,null,null,null,null,null,null,null,null,null,null,null,null,null,null,null,null,null,null,null,null,null,null,null,null,null,null,null,null,null,null,null,null,null,null,null,null,null,null,null,null,null,null,null,null,null,null,null,null,null,null,null,null,null,null,null,null,null,null,null,null,null,null,null,null,null,null,null,null,null,null,null,null,null,null,null,null,null,null,null,null,null,null,null,null],\"xaxis\":\"x\",\"y\":[11000.0,40500.0,19000.0,180000.0,122000.0,30000.0,189000.0,132500.0,145000.0,310000.0,400000.0,250000.0,74500.0,10000.0,260000.0,200000.0,185000.0,420000.0,567500.0,428000.0,55000.0,35000.0,45000.0,110000.0,310000.0,355000.0,56000.0,60000.0,5000.0,7000.0,319000.0,137500.0,22500.0,24000.0,60000.0,265000.0,210000.0,11000.0,14850.0,23500.0,16291.0,12500.0,44000.0,1800000.0,13500.0,2500.0,220000.0,445000.0,450000.0,150000.0,182900.0,75000.0,16000.0,35000.0,1525000.0,190000.0,449900.0,26800.0,287500.0,45000.0,330000.0,220000.0,150000.0,249000.0,100000.0,185000.0,200000.0,482000.0,274500.0,250000.0,117000.0,40000.0,22000.0,354900.0,40000.0,40000.0,348000.0,157500.0,30000.0,26000.0,257000.0,65000.0,36000.0,20000.0,174000.0,52000.0,220000.0,88500.0,84900.0,74500.0,94500.0,37500.0,38000.0,65000.0,62000.0,285000.0,19000.0,157500.0,30000.0,400000.0,20000.0,50000.0,13000.0,30000.0,120000.0,270000.0,15900.0,125000.0,150000.0,246000.0,29400.0,500.0,2500.0,527000.0,260000.0],\"yaxis\":\"y\",\"type\":\"scatter\"},{\"hovertemplate\":\"homeType=LOT<extra></extra>\",\"legendgroup\":\"LOT\",\"marker\":{\"color\":\"#00cc96\",\"symbol\":\"circle\"},\"mode\":\"lines\",\"name\":\"LOT\",\"showlegend\":false,\"xaxis\":\"x\",\"yaxis\":\"y\",\"type\":\"scatter\"},{\"hovertemplate\":\"homeType=MULTI_FAMILY<br>livingArea=%{x}<br>lastSoldPrice=%{y}<extra></extra>\",\"legendgroup\":\"MULTI_FAMILY\",\"marker\":{\"color\":\"#ab63fa\",\"symbol\":\"circle\"},\"mode\":\"markers\",\"name\":\"MULTI_FAMILY\",\"orientation\":\"v\",\"showlegend\":true,\"x\":[1931.0,1931.0,47916.0,1827.0],\"xaxis\":\"x\",\"y\":[183250.0,183250.0,5000.0,250000.0],\"yaxis\":\"y\",\"type\":\"scatter\"},{\"hovertemplate\":\"<b>OLS trendline</b><br>lastSoldPrice = -4.35973 * livingArea + 213801<br>R<sup>2</sup>=0.911530<br><br>homeType=MULTI_FAMILY<br>livingArea=%{x}<br>lastSoldPrice=%{y} <b>(trend)</b><extra></extra>\",\"legendgroup\":\"MULTI_FAMILY\",\"marker\":{\"color\":\"#ab63fa\",\"symbol\":\"circle\"},\"mode\":\"lines\",\"name\":\"MULTI_FAMILY\",\"showlegend\":false,\"x\":[1827.0,1931.0,1931.0,47916.0],\"xaxis\":\"x\",\"y\":[205835.5685919374,205382.1569986539,205382.1569986539,4900.117410754901],\"yaxis\":\"y\",\"type\":\"scatter\"},{\"hovertemplate\":\"homeType=TOWNHOUSE<br>livingArea=%{x}<br>lastSoldPrice=%{y}<extra></extra>\",\"legendgroup\":\"TOWNHOUSE\",\"marker\":{\"color\":\"#FFA15A\",\"symbol\":\"circle\"},\"mode\":\"markers\",\"name\":\"TOWNHOUSE\",\"orientation\":\"v\",\"showlegend\":true,\"x\":[1248.0,2400.0,1200.0,2400.0,2000.0,2400.0,2400.0,1200.0,2200.0,1850.0],\"xaxis\":\"x\",\"y\":[123000.0,185000.0,196000.0,250000.0,290000.0,260000.0,251000.0,275000.0,334900.0,440000.0],\"yaxis\":\"y\",\"type\":\"scatter\"},{\"hovertemplate\":\"<b>OLS trendline</b><br>lastSoldPrice = 37.1982 * livingArea + 188705<br>R<sup>2</sup>=0.050993<br><br>homeType=TOWNHOUSE<br>livingArea=%{x}<br>lastSoldPrice=%{y} <b>(trend)</b><extra></extra>\",\"legendgroup\":\"TOWNHOUSE\",\"marker\":{\"color\":\"#FFA15A\",\"symbol\":\"circle\"},\"mode\":\"lines\",\"name\":\"TOWNHOUSE\",\"showlegend\":false,\"x\":[1200.0,1200.0,1248.0,1850.0,2000.0,2200.0,2400.0,2400.0,2400.0,2400.0],\"xaxis\":\"x\",\"y\":[233342.7653862956,233342.7653862956,235128.27821372479,257521.58492439904,263101.3125101152,270540.9492910701,277980.586072025,277980.586072025,277980.586072025,277980.586072025],\"yaxis\":\"y\",\"type\":\"scatter\"},{\"hovertemplate\":\"homeType=MANUFACTURED<br>livingArea=%{x}<br>lastSoldPrice=%{y}<extra></extra>\",\"legendgroup\":\"MANUFACTURED\",\"marker\":{\"color\":\"#19d3f3\",\"symbol\":\"circle\"},\"mode\":\"markers\",\"name\":\"MANUFACTURED\",\"orientation\":\"v\",\"showlegend\":true,\"x\":[null,null,null,1056.0],\"xaxis\":\"x\",\"y\":[85000.0,2000.0,49000.0,115000.0],\"yaxis\":\"y\",\"type\":\"scatter\"},{\"hovertemplate\":\"homeType=MANUFACTURED<extra></extra>\",\"legendgroup\":\"MANUFACTURED\",\"marker\":{\"color\":\"#19d3f3\",\"symbol\":\"circle\"},\"mode\":\"lines\",\"name\":\"MANUFACTURED\",\"showlegend\":false,\"xaxis\":\"x\",\"yaxis\":\"y\",\"type\":\"scatter\"},{\"hovertemplate\":\"homeType=APARTMENT<br>livingArea=%{x}<br>lastSoldPrice=%{y}<extra></extra>\",\"legendgroup\":\"APARTMENT\",\"marker\":{\"color\":\"#FF6692\",\"symbol\":\"circle\"},\"mode\":\"markers\",\"name\":\"APARTMENT\",\"orientation\":\"v\",\"showlegend\":true,\"x\":[2000.0],\"xaxis\":\"x\",\"y\":[329000.0],\"yaxis\":\"y\",\"type\":\"scatter\"},{\"hovertemplate\":\"homeType=APARTMENT<extra></extra>\",\"legendgroup\":\"APARTMENT\",\"marker\":{\"color\":\"#FF6692\",\"symbol\":\"circle\"},\"mode\":\"lines\",\"name\":\"APARTMENT\",\"showlegend\":false,\"xaxis\":\"x\",\"yaxis\":\"y\",\"type\":\"scatter\"}],                        {\"template\":{\"data\":{\"histogram2dcontour\":[{\"type\":\"histogram2dcontour\",\"colorbar\":{\"outlinewidth\":0,\"ticks\":\"\"},\"colorscale\":[[0.0,\"#0d0887\"],[0.1111111111111111,\"#46039f\"],[0.2222222222222222,\"#7201a8\"],[0.3333333333333333,\"#9c179e\"],[0.4444444444444444,\"#bd3786\"],[0.5555555555555556,\"#d8576b\"],[0.6666666666666666,\"#ed7953\"],[0.7777777777777778,\"#fb9f3a\"],[0.8888888888888888,\"#fdca26\"],[1.0,\"#f0f921\"]]}],\"choropleth\":[{\"type\":\"choropleth\",\"colorbar\":{\"outlinewidth\":0,\"ticks\":\"\"}}],\"histogram2d\":[{\"type\":\"histogram2d\",\"colorbar\":{\"outlinewidth\":0,\"ticks\":\"\"},\"colorscale\":[[0.0,\"#0d0887\"],[0.1111111111111111,\"#46039f\"],[0.2222222222222222,\"#7201a8\"],[0.3333333333333333,\"#9c179e\"],[0.4444444444444444,\"#bd3786\"],[0.5555555555555556,\"#d8576b\"],[0.6666666666666666,\"#ed7953\"],[0.7777777777777778,\"#fb9f3a\"],[0.8888888888888888,\"#fdca26\"],[1.0,\"#f0f921\"]]}],\"heatmap\":[{\"type\":\"heatmap\",\"colorbar\":{\"outlinewidth\":0,\"ticks\":\"\"},\"colorscale\":[[0.0,\"#0d0887\"],[0.1111111111111111,\"#46039f\"],[0.2222222222222222,\"#7201a8\"],[0.3333333333333333,\"#9c179e\"],[0.4444444444444444,\"#bd3786\"],[0.5555555555555556,\"#d8576b\"],[0.6666666666666666,\"#ed7953\"],[0.7777777777777778,\"#fb9f3a\"],[0.8888888888888888,\"#fdca26\"],[1.0,\"#f0f921\"]]}],\"heatmapgl\":[{\"type\":\"heatmapgl\",\"colorbar\":{\"outlinewidth\":0,\"ticks\":\"\"},\"colorscale\":[[0.0,\"#0d0887\"],[0.1111111111111111,\"#46039f\"],[0.2222222222222222,\"#7201a8\"],[0.3333333333333333,\"#9c179e\"],[0.4444444444444444,\"#bd3786\"],[0.5555555555555556,\"#d8576b\"],[0.6666666666666666,\"#ed7953\"],[0.7777777777777778,\"#fb9f3a\"],[0.8888888888888888,\"#fdca26\"],[1.0,\"#f0f921\"]]}],\"contourcarpet\":[{\"type\":\"contourcarpet\",\"colorbar\":{\"outlinewidth\":0,\"ticks\":\"\"}}],\"contour\":[{\"type\":\"contour\",\"colorbar\":{\"outlinewidth\":0,\"ticks\":\"\"},\"colorscale\":[[0.0,\"#0d0887\"],[0.1111111111111111,\"#46039f\"],[0.2222222222222222,\"#7201a8\"],[0.3333333333333333,\"#9c179e\"],[0.4444444444444444,\"#bd3786\"],[0.5555555555555556,\"#d8576b\"],[0.6666666666666666,\"#ed7953\"],[0.7777777777777778,\"#fb9f3a\"],[0.8888888888888888,\"#fdca26\"],[1.0,\"#f0f921\"]]}],\"surface\":[{\"type\":\"surface\",\"colorbar\":{\"outlinewidth\":0,\"ticks\":\"\"},\"colorscale\":[[0.0,\"#0d0887\"],[0.1111111111111111,\"#46039f\"],[0.2222222222222222,\"#7201a8\"],[0.3333333333333333,\"#9c179e\"],[0.4444444444444444,\"#bd3786\"],[0.5555555555555556,\"#d8576b\"],[0.6666666666666666,\"#ed7953\"],[0.7777777777777778,\"#fb9f3a\"],[0.8888888888888888,\"#fdca26\"],[1.0,\"#f0f921\"]]}],\"mesh3d\":[{\"type\":\"mesh3d\",\"colorbar\":{\"outlinewidth\":0,\"ticks\":\"\"}}],\"scatter\":[{\"fillpattern\":{\"fillmode\":\"overlay\",\"size\":10,\"solidity\":0.2},\"type\":\"scatter\"}],\"parcoords\":[{\"type\":\"parcoords\",\"line\":{\"colorbar\":{\"outlinewidth\":0,\"ticks\":\"\"}}}],\"scatterpolargl\":[{\"type\":\"scatterpolargl\",\"marker\":{\"colorbar\":{\"outlinewidth\":0,\"ticks\":\"\"}}}],\"bar\":[{\"error_x\":{\"color\":\"#2a3f5f\"},\"error_y\":{\"color\":\"#2a3f5f\"},\"marker\":{\"line\":{\"color\":\"#E5ECF6\",\"width\":0.5},\"pattern\":{\"fillmode\":\"overlay\",\"size\":10,\"solidity\":0.2}},\"type\":\"bar\"}],\"scattergeo\":[{\"type\":\"scattergeo\",\"marker\":{\"colorbar\":{\"outlinewidth\":0,\"ticks\":\"\"}}}],\"scatterpolar\":[{\"type\":\"scatterpolar\",\"marker\":{\"colorbar\":{\"outlinewidth\":0,\"ticks\":\"\"}}}],\"histogram\":[{\"marker\":{\"pattern\":{\"fillmode\":\"overlay\",\"size\":10,\"solidity\":0.2}},\"type\":\"histogram\"}],\"scattergl\":[{\"type\":\"scattergl\",\"marker\":{\"colorbar\":{\"outlinewidth\":0,\"ticks\":\"\"}}}],\"scatter3d\":[{\"type\":\"scatter3d\",\"line\":{\"colorbar\":{\"outlinewidth\":0,\"ticks\":\"\"}},\"marker\":{\"colorbar\":{\"outlinewidth\":0,\"ticks\":\"\"}}}],\"scattermapbox\":[{\"type\":\"scattermapbox\",\"marker\":{\"colorbar\":{\"outlinewidth\":0,\"ticks\":\"\"}}}],\"scatterternary\":[{\"type\":\"scatterternary\",\"marker\":{\"colorbar\":{\"outlinewidth\":0,\"ticks\":\"\"}}}],\"scattercarpet\":[{\"type\":\"scattercarpet\",\"marker\":{\"colorbar\":{\"outlinewidth\":0,\"ticks\":\"\"}}}],\"carpet\":[{\"aaxis\":{\"endlinecolor\":\"#2a3f5f\",\"gridcolor\":\"white\",\"linecolor\":\"white\",\"minorgridcolor\":\"white\",\"startlinecolor\":\"#2a3f5f\"},\"baxis\":{\"endlinecolor\":\"#2a3f5f\",\"gridcolor\":\"white\",\"linecolor\":\"white\",\"minorgridcolor\":\"white\",\"startlinecolor\":\"#2a3f5f\"},\"type\":\"carpet\"}],\"table\":[{\"cells\":{\"fill\":{\"color\":\"#EBF0F8\"},\"line\":{\"color\":\"white\"}},\"header\":{\"fill\":{\"color\":\"#C8D4E3\"},\"line\":{\"color\":\"white\"}},\"type\":\"table\"}],\"barpolar\":[{\"marker\":{\"line\":{\"color\":\"#E5ECF6\",\"width\":0.5},\"pattern\":{\"fillmode\":\"overlay\",\"size\":10,\"solidity\":0.2}},\"type\":\"barpolar\"}],\"pie\":[{\"automargin\":true,\"type\":\"pie\"}]},\"layout\":{\"autotypenumbers\":\"strict\",\"colorway\":[\"#636efa\",\"#EF553B\",\"#00cc96\",\"#ab63fa\",\"#FFA15A\",\"#19d3f3\",\"#FF6692\",\"#B6E880\",\"#FF97FF\",\"#FECB52\"],\"font\":{\"color\":\"#2a3f5f\"},\"hovermode\":\"closest\",\"hoverlabel\":{\"align\":\"left\"},\"paper_bgcolor\":\"white\",\"plot_bgcolor\":\"#E5ECF6\",\"polar\":{\"bgcolor\":\"#E5ECF6\",\"angularaxis\":{\"gridcolor\":\"white\",\"linecolor\":\"white\",\"ticks\":\"\"},\"radialaxis\":{\"gridcolor\":\"white\",\"linecolor\":\"white\",\"ticks\":\"\"}},\"ternary\":{\"bgcolor\":\"#E5ECF6\",\"aaxis\":{\"gridcolor\":\"white\",\"linecolor\":\"white\",\"ticks\":\"\"},\"baxis\":{\"gridcolor\":\"white\",\"linecolor\":\"white\",\"ticks\":\"\"},\"caxis\":{\"gridcolor\":\"white\",\"linecolor\":\"white\",\"ticks\":\"\"}},\"coloraxis\":{\"colorbar\":{\"outlinewidth\":0,\"ticks\":\"\"}},\"colorscale\":{\"sequential\":[[0.0,\"#0d0887\"],[0.1111111111111111,\"#46039f\"],[0.2222222222222222,\"#7201a8\"],[0.3333333333333333,\"#9c179e\"],[0.4444444444444444,\"#bd3786\"],[0.5555555555555556,\"#d8576b\"],[0.6666666666666666,\"#ed7953\"],[0.7777777777777778,\"#fb9f3a\"],[0.8888888888888888,\"#fdca26\"],[1.0,\"#f0f921\"]],\"sequentialminus\":[[0.0,\"#0d0887\"],[0.1111111111111111,\"#46039f\"],[0.2222222222222222,\"#7201a8\"],[0.3333333333333333,\"#9c179e\"],[0.4444444444444444,\"#bd3786\"],[0.5555555555555556,\"#d8576b\"],[0.6666666666666666,\"#ed7953\"],[0.7777777777777778,\"#fb9f3a\"],[0.8888888888888888,\"#fdca26\"],[1.0,\"#f0f921\"]],\"diverging\":[[0,\"#8e0152\"],[0.1,\"#c51b7d\"],[0.2,\"#de77ae\"],[0.3,\"#f1b6da\"],[0.4,\"#fde0ef\"],[0.5,\"#f7f7f7\"],[0.6,\"#e6f5d0\"],[0.7,\"#b8e186\"],[0.8,\"#7fbc41\"],[0.9,\"#4d9221\"],[1,\"#276419\"]]},\"xaxis\":{\"gridcolor\":\"white\",\"linecolor\":\"white\",\"ticks\":\"\",\"title\":{\"standoff\":15},\"zerolinecolor\":\"white\",\"automargin\":true,\"zerolinewidth\":2},\"yaxis\":{\"gridcolor\":\"white\",\"linecolor\":\"white\",\"ticks\":\"\",\"title\":{\"standoff\":15},\"zerolinecolor\":\"white\",\"automargin\":true,\"zerolinewidth\":2},\"scene\":{\"xaxis\":{\"backgroundcolor\":\"#E5ECF6\",\"gridcolor\":\"white\",\"linecolor\":\"white\",\"showbackground\":true,\"ticks\":\"\",\"zerolinecolor\":\"white\",\"gridwidth\":2},\"yaxis\":{\"backgroundcolor\":\"#E5ECF6\",\"gridcolor\":\"white\",\"linecolor\":\"white\",\"showbackground\":true,\"ticks\":\"\",\"zerolinecolor\":\"white\",\"gridwidth\":2},\"zaxis\":{\"backgroundcolor\":\"#E5ECF6\",\"gridcolor\":\"white\",\"linecolor\":\"white\",\"showbackground\":true,\"ticks\":\"\",\"zerolinecolor\":\"white\",\"gridwidth\":2}},\"shapedefaults\":{\"line\":{\"color\":\"#2a3f5f\"}},\"annotationdefaults\":{\"arrowcolor\":\"#2a3f5f\",\"arrowhead\":0,\"arrowwidth\":1},\"geo\":{\"bgcolor\":\"white\",\"landcolor\":\"#E5ECF6\",\"subunitcolor\":\"white\",\"showland\":true,\"showlakes\":true,\"lakecolor\":\"white\"},\"title\":{\"x\":0.05},\"mapbox\":{\"style\":\"light\"}}},\"xaxis\":{\"anchor\":\"y\",\"domain\":[0.0,1.0],\"title\":{\"text\":\"livingArea\"},\"type\":\"log\"},\"yaxis\":{\"anchor\":\"x\",\"domain\":[0.0,1.0],\"title\":{\"text\":\"lastSoldPrice\"}},\"legend\":{\"title\":{\"text\":\"homeType\"},\"tracegroupgap\":0},\"margin\":{\"t\":60}},                        {\"responsive\": true}                    ).then(function(){\n",
       "                            \n",
       "var gd = document.getElementById('768ffa98-0a6e-45b3-82ae-8480c5e8d06d');\n",
       "var x = new MutationObserver(function (mutations, observer) {{\n",
       "        var display = window.getComputedStyle(gd).display;\n",
       "        if (!display || display === 'none') {{\n",
       "            console.log([gd, 'removed!']);\n",
       "            Plotly.purge(gd);\n",
       "            observer.disconnect();\n",
       "        }}\n",
       "}});\n",
       "\n",
       "// Listen for the removal of the full notebook cells\n",
       "var notebookContainer = gd.closest('#notebook-container');\n",
       "if (notebookContainer) {{\n",
       "    x.observe(notebookContainer, {childList: true});\n",
       "}}\n",
       "\n",
       "// Listen for the clearing of the current output cell\n",
       "var outputEl = gd.closest('.output');\n",
       "if (outputEl) {{\n",
       "    x.observe(outputEl, {childList: true});\n",
       "}}\n",
       "\n",
       "                        })                };                });            </script>        </div>"
      ]
     },
     "metadata": {},
     "output_type": "display_data"
    }
   ],
   "source": [
    "px.scatter(df1, x=\"livingArea\", y=\"lastSoldPrice\", color=\"homeType\", log_x=True, trendline='ols')"
   ]
  },
  {
   "cell_type": "code",
   "execution_count": 14,
   "metadata": {},
   "outputs": [
    {
     "data": {
      "text/html": [
       "<div>                            <div id=\"2787028e-8ffc-4cf1-9268-a56b9c6c9cf3\" class=\"plotly-graph-div\" style=\"height:525px; width:100%;\"></div>            <script type=\"text/javascript\">                require([\"plotly\"], function(Plotly) {                    window.PLOTLYENV=window.PLOTLYENV || {};                                    if (document.getElementById(\"2787028e-8ffc-4cf1-9268-a56b9c6c9cf3\")) {                    Plotly.newPlot(                        \"2787028e-8ffc-4cf1-9268-a56b9c6c9cf3\",                        [{\"hovertemplate\":\"Location cluster=3<br>livingArea=%{x}<br>lastSoldPrice=%{y}<extra></extra>\",\"legendgroup\":\"3\",\"marker\":{\"color\":\"#636efa\",\"symbol\":\"circle\"},\"mode\":\"markers\",\"name\":\"3\",\"orientation\":\"v\",\"showlegend\":true,\"x\":[1024.0,1696.0,1532.0,1380.0,null,2172.0,1172.0,2842.0,null,null,1833.0,2400.0,2000.0,600.0,null,2400.0,null,null,1782.0,3823.0,3823.0,null,2400.0,974.0,null,2400.0,2400.0,null,4288.0,null,null,null,2300.0,null,1782.0,1850.0,3200.0,2450.0,null,null,null,null,4182.0,3470.0,null,null,2400.0,2882.0,4400.0,1824.0,null,null,null,2856.0,null,null,null,2488.0,null,null,null,null,null,null,2914.0,null,null,4341.0,null,null,null,null,2552.0,null,460.0,1540.0,576.0,5254.0,2500.0,2688.0,5000.0,4200.0,3837.0,5235.0,null,1266.0,1782.0,1128.0,2400.0,2880.0,6550.0,1200.0,1070.0,4027.0,757.0,620.0,910.0,878.0,2573.0,2412.0,860.0,3200.0,1220.0,null,null,null,3100.0,2200.0,2882.0,null,null,null,null,null,null,1024.0,1020.0,1100.0],\"xaxis\":\"x\",\"y\":[349000.0,350000.0,329000.0,360000.0,325000.0,390000.0,155000.0,359000.0,189000.0,132500.0,380000.0,185000.0,267375.0,115000.0,310000.0,250000.0,400000.0,250000.0,165000.0,390000.0,390000.0,74500.0,260000.0,145000.0,260000.0,251000.0,251000.0,200000.0,760000.0,185000.0,420000.0,567500.0,112500.0,428000.0,215000.0,206000.0,430000.0,446000.0,110000.0,355000.0,319000.0,137500.0,590000.0,545000.0,265000.0,210000.0,270000.0,445000.0,500000.0,326000.0,16291.0,52000.0,975000.0,450000.0,220000.0,450000.0,660000.0,340000.0,182900.0,75000.0,615000.0,35000.0,449900.0,287500.0,349000.0,150000.0,249000.0,820000.0,200000.0,482000.0,274500.0,250000.0,415000.0,257000.0,290000.0,290000.0,165000.0,1350000.0,850000.0,430000.0,2200000.0,840550.0,505000.0,1700000.0,174000.0,300000.0,360500.0,370000.0,525000.0,525000.0,2789000.0,405000.0,400000.0,1206000.0,300000.0,130000.0,299000.0,183000.0,649000.0,432500.0,249000.0,765000.0,325000.0,285000.0,157500.0,545000.0,620000.0,635000.0,700000.0,120000.0,270000.0,150000.0,246000.0,527000.0,260000.0,312250.0,320000.0,359000.0],\"yaxis\":\"y\",\"type\":\"scatter\"},{\"hovertemplate\":\"<b>OLS trendline</b><br>lastSoldPrice = 260.386 * livingArea + -131299<br>R<sup>2</sup>=0.583637<br><br>Location cluster=3<br>livingArea=%{x}<br>lastSoldPrice=%{y} <b>(trend)</b><extra></extra>\",\"legendgroup\":\"3\",\"marker\":{\"color\":\"#636efa\",\"symbol\":\"circle\"},\"mode\":\"lines\",\"name\":\"3\",\"showlegend\":false,\"x\":[460.0,576.0,600.0,620.0,757.0,860.0,878.0,910.0,974.0,1020.0,1024.0,1024.0,1070.0,1100.0,1128.0,1172.0,1200.0,1220.0,1266.0,1380.0,1532.0,1540.0,1696.0,1782.0,1782.0,1782.0,1824.0,1833.0,1850.0,2000.0,2172.0,2200.0,2300.0,2400.0,2400.0,2400.0,2400.0,2400.0,2400.0,2400.0,2412.0,2450.0,2488.0,2500.0,2552.0,2573.0,2688.0,2842.0,2856.0,2880.0,2882.0,2882.0,2914.0,3100.0,3200.0,3200.0,3470.0,3823.0,3823.0,3837.0,4027.0,4182.0,4200.0,4288.0,4341.0,4400.0,5000.0,5235.0,5254.0,6550.0],\"xaxis\":\"x\",\"y\":[-11521.192227267296,18683.580154663592,24932.843406097556,30140.562782292516,65813.44050922812,92633.19529663227,97320.14273520774,105652.49373711972,122317.19574094363,134294.9503061921,135336.49418143107,135336.49418143107,147314.2487466795,155125.827810972,162416.63493764494,173873.6175652739,181164.4246919469,186372.14406814188,198349.89863339032,228033.89907770167,267612.5663367835,269695.6540872615,310315.8652215823,332709.0585392207,332709.0585392207,332709.0585392207,343645.2692292302,345988.7429485179,350415.30441828363,389473.199739746,434259.58637502283,441550.39350169577,467588.9903826706,493627.58726364555,493627.58726364555,493627.58726364555,493627.58726364555,493627.58726364555,493627.58726364555,493627.58726364555,496752.21888936247,506646.885704133,516541.55251890345,519666.1841446204,533206.2545227273,538674.359867732,568618.7462808532,608718.1854775546,612363.589040891,618612.8522923249,619133.6242299445,619133.6242299445,627465.9752318563,675897.7654304698,701936.3623114447,701936.3623114447,772240.5738900767,864156.820879918,864156.820879918,867802.2244432548,917275.558517107,957635.3836826182,962322.3311211935,985236.2963764514,999036.7527233681,1014399.5248831434,1170631.1061689926,1231821.8088392837,1236769.142246669,1574229.3578241034],\"yaxis\":\"y\",\"type\":\"scatter\"},{\"hovertemplate\":\"Location cluster=2<br>livingArea=%{x}<br>lastSoldPrice=%{y}<extra></extra>\",\"legendgroup\":\"2\",\"marker\":{\"color\":\"#EF553B\",\"symbol\":\"circle\"},\"mode\":\"markers\",\"name\":\"2\",\"orientation\":\"v\",\"showlegend\":true,\"x\":[700.0,6300.0,4040.0,1810.0,1440.0,null,null,2400.0,2600.0,null,2660.0,null,null,1000.0,1728.0,null,2348.0,6000.0,1102.0,null,2400.0,3200.0,null,2444.0,1464.0,null,null,2623.0,null,null,5800.0,2500.0,3796.0,1200.0,2400.0,1950.0,2100.0,2007.0,2152.0,null,2454.0,2291.0,5800.0,1360.0,2900.0],\"xaxis\":\"x\",\"y\":[200000.0,700000.0,405000.0,280000.0,375000.0,1245000.0,275000.0,400000.0,571715.0,500.0,385000.0,22500.0,125000.0,169000.0,115000.0,60000.0,239900.0,1500.0,163000.0,44000.0,510000.0,240000.0,13000.0,327000.0,93502.0,120000.0,40000.0,420000.0,2000.0,159000.0,980000.0,505000.0,400000.0,255000.0,415000.0,200000.0,635000.0,455000.0,547500.0,88500.0,702000.0,423000.0,980000.0,249000.0,45000.0],\"yaxis\":\"y\",\"type\":\"scatter\"},{\"hovertemplate\":\"<b>OLS trendline</b><br>lastSoldPrice = 80.3254 * livingArea + 173811<br>R<sup>2</sup>=0.247663<br><br>Location cluster=2<br>livingArea=%{x}<br>lastSoldPrice=%{y} <b>(trend)</b><extra></extra>\",\"legendgroup\":\"2\",\"marker\":{\"color\":\"#EF553B\",\"symbol\":\"circle\"},\"mode\":\"lines\",\"name\":\"2\",\"showlegend\":false,\"x\":[700.0,1000.0,1102.0,1200.0,1360.0,1440.0,1464.0,1728.0,1810.0,1950.0,2007.0,2100.0,2152.0,2291.0,2348.0,2400.0,2400.0,2400.0,2444.0,2454.0,2500.0,2600.0,2623.0,2660.0,2900.0,3200.0,3796.0,4040.0,5800.0,5800.0,6000.0,6300.0],\"xaxis\":\"x\",\"y\":[230038.628367042,254136.25287241046,262329.44520423573,270201.3358759894,283053.4022788526,289479.43548028416,291407.24544071365,312613.1550054379,319199.83903690526,330445.39713941055,335023.94579543057,342494.20939209475,346671.13097302534,357836.3636605127,362414.9123165327,366591.8338974632,366591.8338974632,366591.8338974632,370126.15215825057,370929.40630842955,374624.37539925275,382656.9169010422,384504.40144645376,387476.4418021159,406754.54140641063,430852.1659117791,478726.1132624444,498325.51452681073,639698.2449583057,639698.2449583057,655763.3279618847,679860.9524672531],\"yaxis\":\"y\",\"type\":\"scatter\"},{\"hovertemplate\":\"Location cluster=1<br>livingArea=%{x}<br>lastSoldPrice=%{y}<extra></extra>\",\"legendgroup\":\"1\",\"marker\":{\"color\":\"#00cc96\",\"symbol\":\"circle\"},\"mode\":\"markers\",\"name\":\"1\",\"orientation\":\"v\",\"showlegend\":true,\"x\":[null,2511.0,null,null,null,1344.0,2726.0,2000.0,4798.0,null,null,null,8863.0,null,3015.0,1440.0,null,null,2250.0,null,null,3381.0,null,1827.0,null,null,null,1554.0,null,null,null,864.0,null,2000.0,null,null,null],\"xaxis\":\"x\",\"y\":[11000.0,315000.0,150000.0,180000.0,1525000.0,209000.0,372500.0,235000.0,569000.0,24900.0,14850.0,23500.0,30150.0,13500.0,615000.0,311000.0,22000.0,470000.0,459000.0,30000.0,26000.0,620000.0,20000.0,250000.0,84900.0,74500.0,94500.0,200000.0,65000.0,19000.0,30000.0,197000.0,20000.0,285000.0,15900.0,200000.0,130000.0],\"yaxis\":\"y\",\"type\":\"scatter\"},{\"hovertemplate\":\"<b>OLS trendline</b><br>lastSoldPrice = -6.92515 * livingArea + 352484<br>R<sup>2</sup>=0.006387<br><br>Location cluster=1<br>livingArea=%{x}<br>lastSoldPrice=%{y} <b>(trend)</b><extra></extra>\",\"legendgroup\":\"1\",\"marker\":{\"color\":\"#00cc96\",\"symbol\":\"circle\"},\"mode\":\"lines\",\"name\":\"1\",\"showlegend\":false,\"x\":[864.0,1344.0,1440.0,1554.0,1827.0,2000.0,2000.0,2250.0,2511.0,2726.0,3015.0,3381.0,4798.0,8863.0],\"xaxis\":\"x\",\"y\":[346500.5104254848,343176.4393426862,342511.6251261265,341722.15824396187,339831.5928156201,338633.5421961948,338633.5421961948,336902.2551739039,335094.7915226322,333605.884683462,331604.5168856937,329069.91268505977,319256.9778427148,291106.2508602644],\"yaxis\":\"y\",\"type\":\"scatter\"},{\"hovertemplate\":\"Location cluster=5<br>livingArea=%{x}<br>lastSoldPrice=%{y}<extra></extra>\",\"legendgroup\":\"5\",\"marker\":{\"color\":\"#ab63fa\",\"symbol\":\"circle\"},\"mode\":\"markers\",\"name\":\"5\",\"orientation\":\"v\",\"showlegend\":true,\"x\":[1800.0,2514.0,5000.0,4700.0,3052.0,1392.0,1600.0,3585.0,2306.0,3000.0,1985.0,null,null,null,null,2735.0,null,null,null,2000.0,2500.0,2200.0,1100.0,4459.0,3420.0,2300.0,2325.0,3562.0,3203.0,2230.0,1056.0,1800.0,3500.0,2840.0,2293.0,4118.0,null,1646.0,2092.0],\"xaxis\":\"x\",\"y\":[320000.0,312000.0,1275000.0,1290000.0,1159500.0,179900.0,210000.0,210000.0,590000.0,525000.0,319000.0,270000.0,60000.0,7000.0,12000.0,475000.0,1525000.0,25000.0,140000.0,329000.0,725000.0,309000.0,190000.0,3000000.0,643000.0,370000.0,830500.0,1495000.0,1495000.0,528900.0,115000.0,440000.0,955000.0,540000.0,1350000.0,1400000.0,124000.0,449000.0,450000.0],\"yaxis\":\"y\",\"type\":\"scatter\"},{\"hovertemplate\":\"<b>OLS trendline</b><br>lastSoldPrice = 426.254 * livingArea + -406659<br>R<sup>2</sup>=0.513366<br><br>Location cluster=5<br>livingArea=%{x}<br>lastSoldPrice=%{y} <b>(trend)</b><extra></extra>\",\"legendgroup\":\"5\",\"marker\":{\"color\":\"#ab63fa\",\"symbol\":\"circle\"},\"mode\":\"lines\",\"name\":\"5\",\"showlegend\":false,\"x\":[1056.0,1100.0,1392.0,1600.0,1646.0,1800.0,1800.0,1985.0,2000.0,2092.0,2200.0,2230.0,2293.0,2300.0,2306.0,2325.0,2500.0,2514.0,2735.0,2840.0,3000.0,3052.0,3203.0,3420.0,3500.0,3562.0,3585.0,4118.0,4459.0,4700.0,5000.0],\"xaxis\":\"x\",\"y\":[43464.96283772611,62220.13137735822,186686.24986764416,275347.0466004505,294954.7228009751,360597.8126896875,360597.8126896875,439454.7713222316,445848.5787789244,485063.9311799734,531099.3448681614,543886.959781547,570740.9510996565,573724.7279127799,576282.250895457,584381.0736739344,658975.4940020168,664943.0476282634,759145.1441568701,803901.7963537195,872102.4092251091,894267.6084083108,958631.9368056847,1051129.018012507,1085229.3244482013,1111657.0619358649,1121460.9000361273,1348654.1916639437,1494006.7478460926,1596733.9209836232,1724610.0701174787],\"yaxis\":\"y\",\"type\":\"scatter\"},{\"hovertemplate\":\"Location cluster=7<br>livingArea=%{x}<br>lastSoldPrice=%{y}<extra></extra>\",\"legendgroup\":\"7\",\"marker\":{\"color\":\"#FFA15A\",\"symbol\":\"circle\"},\"mode\":\"markers\",\"name\":\"7\",\"orientation\":\"v\",\"showlegend\":true,\"x\":[1372.0,null,1595.0,1985.0,null,null,1250.0,null,2700.0,null,null,null,null,null,1736.0,2100.0,2294.0,2926.0,3695.0,4798.0,1600.0,2852.0,2784.0,2164.0,1120.0,2916.0,3867.0,1800.0,null,null],\"xaxis\":\"x\",\"y\":[350000.0,40500.0,253000.0,230000.0,10000.0,55000.0,198000.0,5000.0,520000.0,11000.0,12500.0,2500.0,16000.0,200000.0,470000.0,399000.0,425000.0,639000.0,810000.0,637100.0,360000.0,395000.0,489000.0,550000.0,180000.0,405000.0,875000.0,295000.0,500.0,2500.0],\"yaxis\":\"y\",\"type\":\"scatter\"},{\"hovertemplate\":\"<b>OLS trendline</b><br>lastSoldPrice = 162.333 * livingArea + 57115.1<br>R<sup>2</sup>=0.667103<br><br>Location cluster=7<br>livingArea=%{x}<br>lastSoldPrice=%{y} <b>(trend)</b><extra></extra>\",\"legendgroup\":\"7\",\"marker\":{\"color\":\"#FFA15A\",\"symbol\":\"circle\"},\"mode\":\"lines\",\"name\":\"7\",\"showlegend\":false,\"x\":[1120.0,1250.0,1372.0,1595.0,1600.0,1736.0,1800.0,1985.0,2100.0,2164.0,2294.0,2700.0,2784.0,2852.0,2916.0,2926.0,3695.0,3867.0,4798.0],\"xaxis\":\"x\",\"y\":[238927.96520511416,260031.24138305633,279835.85441158665,316036.08970144135,316847.7541698237,338925.02770982473,349314.33290511934,379345.9182352678,398014.2010080628,408403.5062033574,429506.7823812996,495413.93721394974,509049.9002827739,520088.53705277445,530477.8422480691,532101.1711848339,656935.1664220456,684856.4241343997,835988.3481472011],\"yaxis\":\"y\",\"type\":\"scatter\"},{\"hovertemplate\":\"Location cluster=4<br>livingArea=%{x}<br>lastSoldPrice=%{y}<extra></extra>\",\"legendgroup\":\"4\",\"marker\":{\"color\":\"#19d3f3\",\"symbol\":\"circle\"},\"mode\":\"markers\",\"name\":\"4\",\"orientation\":\"v\",\"showlegend\":true,\"x\":[2494.0,2470.0,null,2204.0,2100.0,2095.0,4000.0,3001.0,3139.0,null,null,4200.0,null,5036.0,835.0,3196.0,2310.0,null,3976.0,3286.0,1517.0,3852.0,1400.0,3156.0,2200.0,2200.0,null,2701.0,1050.0,null,null],\"xaxis\":\"x\",\"y\":[505000.0,247500.0,247500.0,220000.0,240500.0,240500.0,644000.0,430000.0,470000.0,35000.0,45000.0,525000.0,56000.0,995000.0,135000.0,360000.0,354000.0,45000.0,750000.0,430000.0,255000.0,639000.0,260000.0,411000.0,296000.0,530000.0,37500.0,785000.0,377500.0,295000.0,29400.0],\"yaxis\":\"y\",\"type\":\"scatter\"},{\"hovertemplate\":\"<b>OLS trendline</b><br>lastSoldPrice = 156.794 * livingArea + 13618.9<br>R<sup>2</sup>=0.607487<br><br>Location cluster=4<br>livingArea=%{x}<br>lastSoldPrice=%{y} <b>(trend)</b><extra></extra>\",\"legendgroup\":\"4\",\"marker\":{\"color\":\"#19d3f3\",\"symbol\":\"circle\"},\"mode\":\"lines\",\"name\":\"4\",\"showlegend\":false,\"x\":[835.0,1050.0,1400.0,1517.0,2095.0,2100.0,2200.0,2200.0,2204.0,2310.0,2470.0,2494.0,2701.0,3001.0,3139.0,3156.0,3196.0,3286.0,3852.0,3976.0,4000.0,4200.0,5036.0],\"xaxis\":\"x\",\"y\":[144541.8469534212,178252.54898325788,233130.43600857336,251475.3296713217,342102.24024455703,342886.2100592044,358565.60635215166,358565.60635215166,359192.78220386954,375812.9422743937,400899.97634310933,404663.0314534167,437119.3817798176,484157.5706586594,505795.13754292665,508460.6349127277,514732.39342990663,528843.8500935591,617589.2331116409,637031.6845148955,640794.7396252027,672153.5322110974,803233.2852201366],\"yaxis\":\"y\",\"type\":\"scatter\"},{\"hovertemplate\":\"Location cluster=0<br>livingArea=%{x}<br>lastSoldPrice=%{y}<extra></extra>\",\"legendgroup\":\"0\",\"marker\":{\"color\":\"#FF6692\",\"symbol\":\"circle\"},\"mode\":\"markers\",\"name\":\"0\",\"orientation\":\"v\",\"showlegend\":true,\"x\":[1823.0,859.0,2336.0,null,null,1229.0,2394.0,5200.0,1552.0,1600.0,2900.0,1200.0,1200.0,null,2000.0,1184.0,1200.0,612.0,1364.0,1200.0,750.0,2062.0,1696.0,1680.0,1500.0,4000.0,null,null,2984.0,null,3000.0,2067.0,1200.0,1800.0,1248.0,null,1200.0,null,1850.0,null,2529.0,2088.0,null,2493.0,null,3100.0,2590.0,2000.0,3000.0,5175.0,47916.0,null,null,1200.0,3276.0,2200.0,null,2673.0,1600.0,null,null,2200.0,null,null,null,null,2050.0,1850.0,null,2425.0,1528.0,2700.0,1860.0,1676.0,1200.0,3279.0,1776.0,1824.0,2000.0,2984.0,null,1768.0,5200.0,1828.0,600.0,null,3528.0,1900.0,null,null,null,null,null,null,1792.0,3358.0],\"xaxis\":\"x\",\"y\":[329000.0,181000.0,315100.0,245000.0,30000.0,92000.0,287000.0,210000.0,242000.0,242000.0,309000.0,179000.0,196000.0,145000.0,290000.0,302500.0,200000.0,91000.0,255000.0,189000.0,155000.0,255000.0,222000.0,170100.0,258000.0,920000.0,382000.0,394000.0,549000.0,255000.0,289000.0,286000.0,175000.0,199000.0,185500.0,288000.0,184000.0,310000.0,289000.0,245000.0,324500.0,360875.0,360875.0,285000.0,1800000.0,623500.0,350000.0,289000.0,450000.0,265000.0,5000.0,26800.0,330000.0,275000.0,1162000.0,334900.0,117000.0,385000.0,299000.0,354900.0,40000.0,324557.0,40000.0,355000.0,348000.0,157500.0,440000.0,440000.0,49000.0,475000.0,200000.0,407000.0,449000.0,230000.0,265000.0,745000.0,370000.0,390000.0,460000.0,815000.0,52000.0,360000.0,675000.0,260000.0,152500.0,260000.0,350000.0,318000.0,165615.0,515000.0,400000.0,100000.0,50000.0,30000.0,178000.0,350000.0],\"yaxis\":\"y\",\"type\":\"scatter\"},{\"hovertemplate\":\"<b>OLS trendline</b><br>lastSoldPrice = -3.73263 * livingArea + 340462<br>R<sup>2</sup>=0.012174<br><br>Location cluster=0<br>livingArea=%{x}<br>lastSoldPrice=%{y} <b>(trend)</b><extra></extra>\",\"legendgroup\":\"0\",\"marker\":{\"color\":\"#FF6692\",\"symbol\":\"circle\"},\"mode\":\"lines\",\"name\":\"0\",\"showlegend\":false,\"x\":[600.0,612.0,750.0,859.0,1184.0,1200.0,1200.0,1200.0,1200.0,1200.0,1200.0,1200.0,1200.0,1229.0,1248.0,1364.0,1500.0,1528.0,1552.0,1600.0,1600.0,1676.0,1680.0,1696.0,1768.0,1776.0,1792.0,1800.0,1823.0,1824.0,1828.0,1850.0,1850.0,1860.0,1900.0,2000.0,2000.0,2000.0,2050.0,2062.0,2067.0,2088.0,2200.0,2200.0,2336.0,2394.0,2425.0,2493.0,2529.0,2590.0,2673.0,2700.0,2900.0,2984.0,2984.0,3000.0,3000.0,3100.0,3276.0,3279.0,3358.0,3528.0,4000.0,5175.0,5200.0,5200.0,47916.0],\"xaxis\":\"x\",\"y\":[338222.7367482976,338177.94521906896,337662.8426329395,337255.98624244594,336042.8823258367,335983.16028686514,335983.16028686514,335983.16028686514,335983.16028686514,335983.16028686514,335983.16028686514,335983.16028686514,335983.16028686514,335874.91409122926,335803.99416995054,335371.0093874069,334863.3720561489,334758.8584879487,334669.2754294914,334490.1093125768,334490.1093125768,334206.42962746206,334191.4991177192,334131.77707874763,333863.02790337574,333833.16688389,333773.44484491844,333743.5838254327,333657.7333944111,333654.00076697534,333639.07025723247,333556.95245364663,333556.95245364663,333519.6261792894,333370.3210818606,332997.0583382885,332997.0583382885,332997.0583382885,332810.42696650245,332765.6354372738,332746.9723000952,332668.58712394506,332250.5328511443,332250.5328511443,331742.89551988634,331526.40312861453,331410.6916781072,331156.8730124782,331022.4984247922,330794.8081512132,330485.0000740484,330384.21913328394,329637.6936461398,329324.15294153924,329324.15294153924,329264.4309025677,329264.4309025677,328891.1681589956,328234.2257303088,328223.0278480016,327928.1502805797,327293.60361650714,325531.80346684693,321145.966229875,321052.650543982,321052.650543982,161609.73699973285],\"yaxis\":\"y\",\"type\":\"scatter\"},{\"hovertemplate\":\"Location cluster=6<br>livingArea=%{x}<br>lastSoldPrice=%{y}<extra></extra>\",\"legendgroup\":\"6\",\"marker\":{\"color\":\"#B6E880\",\"symbol\":\"circle\"},\"mode\":\"markers\",\"name\":\"6\",\"orientation\":\"v\",\"showlegend\":true,\"x\":[2966.0,null,1931.0,1931.0,3324.0,1248.0,null,null,1150.0,717.0,4426.0,4426.0,1344.0,2818.0,6050.0,null,null,1978.0,1029.0,2000.0,null,4748.0,null,750.0,null,3247.0,4500.0,2856.0,null,null,null,null,3280.0,1150.0,3540.0,2203.0,2848.0,2873.0,2500.0,null,null,3643.0,2929.0,1248.0,2850.0,4500.0,1440.0,1448.0,750.0,null,1248.0,855.0,1240.0,1200.0,3005.0,null,1248.0,1400.0,null,1813.0,1500.0,1200.0,null,null,2086.0,1248.0],\"xaxis\":\"x\",\"y\":[340000.0,19000.0,183250.0,183250.0,342000.0,123000.0,122000.0,85000.0,111500.0,92000.0,742500.0,742500.0,218000.0,415000.0,1250000.0,356000.0,24000.0,245000.0,229000.0,280000.0,445000.0,670000.0,150000.0,107500.0,190000.0,427500.0,739000.0,525000.0,220000.0,100000.0,185000.0,1025000.0,495000.0,195000.0,530000.0,370000.0,490000.0,535000.0,237500.0,65000.0,36000.0,880000.0,515000.0,185000.0,680000.0,726000.0,265750.0,377000.0,210000.0,220000.0,251000.0,212000.0,205000.0,235000.0,620000.0,38000.0,265750.0,463000.0,62000.0,405000.0,230000.0,180000.0,13000.0,125000.0,315000.0,115000.0],\"yaxis\":\"y\",\"type\":\"scatter\"},{\"hovertemplate\":\"<b>OLS trendline</b><br>lastSoldPrice = 170.754 * livingArea + -8599.44<br>R<sup>2</sup>=0.810982<br><br>Location cluster=6<br>livingArea=%{x}<br>lastSoldPrice=%{y} <b>(trend)</b><extra></extra>\",\"legendgroup\":\"6\",\"marker\":{\"color\":\"#B6E880\",\"symbol\":\"circle\"},\"mode\":\"lines\",\"name\":\"6\",\"showlegend\":false,\"x\":[717.0,750.0,750.0,855.0,1029.0,1150.0,1150.0,1200.0,1200.0,1240.0,1248.0,1248.0,1248.0,1248.0,1248.0,1344.0,1400.0,1440.0,1448.0,1500.0,1813.0,1931.0,1931.0,1978.0,2000.0,2086.0,2203.0,2500.0,2818.0,2848.0,2850.0,2856.0,2873.0,2929.0,2966.0,3005.0,3247.0,3280.0,3324.0,3540.0,3643.0,4426.0,4426.0,4500.0,4500.0,4748.0,6050.0],\"xaxis\":\"x\",\"y\":[113830.81849373013,119465.68414040911,119465.68414040911,137394.802107115,167105.91188051333,187767.08591833632,187767.08591833632,196304.76114057723,196304.76114057723,203134.90131836996,204500.92935392848,204500.92935392848,204500.92935392848,204500.92935392848,204500.92935392848,220893.26578063102,230455.46202954085,237285.60220733355,238651.6302428921,247530.81247402265,300976.6593652507,321125.57288973924,321125.57288973924,329150.9875986457,332907.5646964317,347592.366078686,367570.52609872975,418284.31691884075,472583.93133229285,477706.5364656374,478048.043474527,479072.564501196,481975.3740767579,491537.5703256677,497855.44999012596,504514.83666347386,545837.1847391198,551472.0503857988,558985.2045813708,595867.9615414515,613455.5724992678,747155.5664795603,747155.5664795603,759791.3258084768,759791.3258084768,802138.1949107917,1024459.2576979448],\"yaxis\":\"y\",\"type\":\"scatter\"}],                        {\"template\":{\"data\":{\"histogram2dcontour\":[{\"type\":\"histogram2dcontour\",\"colorbar\":{\"outlinewidth\":0,\"ticks\":\"\"},\"colorscale\":[[0.0,\"#0d0887\"],[0.1111111111111111,\"#46039f\"],[0.2222222222222222,\"#7201a8\"],[0.3333333333333333,\"#9c179e\"],[0.4444444444444444,\"#bd3786\"],[0.5555555555555556,\"#d8576b\"],[0.6666666666666666,\"#ed7953\"],[0.7777777777777778,\"#fb9f3a\"],[0.8888888888888888,\"#fdca26\"],[1.0,\"#f0f921\"]]}],\"choropleth\":[{\"type\":\"choropleth\",\"colorbar\":{\"outlinewidth\":0,\"ticks\":\"\"}}],\"histogram2d\":[{\"type\":\"histogram2d\",\"colorbar\":{\"outlinewidth\":0,\"ticks\":\"\"},\"colorscale\":[[0.0,\"#0d0887\"],[0.1111111111111111,\"#46039f\"],[0.2222222222222222,\"#7201a8\"],[0.3333333333333333,\"#9c179e\"],[0.4444444444444444,\"#bd3786\"],[0.5555555555555556,\"#d8576b\"],[0.6666666666666666,\"#ed7953\"],[0.7777777777777778,\"#fb9f3a\"],[0.8888888888888888,\"#fdca26\"],[1.0,\"#f0f921\"]]}],\"heatmap\":[{\"type\":\"heatmap\",\"colorbar\":{\"outlinewidth\":0,\"ticks\":\"\"},\"colorscale\":[[0.0,\"#0d0887\"],[0.1111111111111111,\"#46039f\"],[0.2222222222222222,\"#7201a8\"],[0.3333333333333333,\"#9c179e\"],[0.4444444444444444,\"#bd3786\"],[0.5555555555555556,\"#d8576b\"],[0.6666666666666666,\"#ed7953\"],[0.7777777777777778,\"#fb9f3a\"],[0.8888888888888888,\"#fdca26\"],[1.0,\"#f0f921\"]]}],\"heatmapgl\":[{\"type\":\"heatmapgl\",\"colorbar\":{\"outlinewidth\":0,\"ticks\":\"\"},\"colorscale\":[[0.0,\"#0d0887\"],[0.1111111111111111,\"#46039f\"],[0.2222222222222222,\"#7201a8\"],[0.3333333333333333,\"#9c179e\"],[0.4444444444444444,\"#bd3786\"],[0.5555555555555556,\"#d8576b\"],[0.6666666666666666,\"#ed7953\"],[0.7777777777777778,\"#fb9f3a\"],[0.8888888888888888,\"#fdca26\"],[1.0,\"#f0f921\"]]}],\"contourcarpet\":[{\"type\":\"contourcarpet\",\"colorbar\":{\"outlinewidth\":0,\"ticks\":\"\"}}],\"contour\":[{\"type\":\"contour\",\"colorbar\":{\"outlinewidth\":0,\"ticks\":\"\"},\"colorscale\":[[0.0,\"#0d0887\"],[0.1111111111111111,\"#46039f\"],[0.2222222222222222,\"#7201a8\"],[0.3333333333333333,\"#9c179e\"],[0.4444444444444444,\"#bd3786\"],[0.5555555555555556,\"#d8576b\"],[0.6666666666666666,\"#ed7953\"],[0.7777777777777778,\"#fb9f3a\"],[0.8888888888888888,\"#fdca26\"],[1.0,\"#f0f921\"]]}],\"surface\":[{\"type\":\"surface\",\"colorbar\":{\"outlinewidth\":0,\"ticks\":\"\"},\"colorscale\":[[0.0,\"#0d0887\"],[0.1111111111111111,\"#46039f\"],[0.2222222222222222,\"#7201a8\"],[0.3333333333333333,\"#9c179e\"],[0.4444444444444444,\"#bd3786\"],[0.5555555555555556,\"#d8576b\"],[0.6666666666666666,\"#ed7953\"],[0.7777777777777778,\"#fb9f3a\"],[0.8888888888888888,\"#fdca26\"],[1.0,\"#f0f921\"]]}],\"mesh3d\":[{\"type\":\"mesh3d\",\"colorbar\":{\"outlinewidth\":0,\"ticks\":\"\"}}],\"scatter\":[{\"fillpattern\":{\"fillmode\":\"overlay\",\"size\":10,\"solidity\":0.2},\"type\":\"scatter\"}],\"parcoords\":[{\"type\":\"parcoords\",\"line\":{\"colorbar\":{\"outlinewidth\":0,\"ticks\":\"\"}}}],\"scatterpolargl\":[{\"type\":\"scatterpolargl\",\"marker\":{\"colorbar\":{\"outlinewidth\":0,\"ticks\":\"\"}}}],\"bar\":[{\"error_x\":{\"color\":\"#2a3f5f\"},\"error_y\":{\"color\":\"#2a3f5f\"},\"marker\":{\"line\":{\"color\":\"#E5ECF6\",\"width\":0.5},\"pattern\":{\"fillmode\":\"overlay\",\"size\":10,\"solidity\":0.2}},\"type\":\"bar\"}],\"scattergeo\":[{\"type\":\"scattergeo\",\"marker\":{\"colorbar\":{\"outlinewidth\":0,\"ticks\":\"\"}}}],\"scatterpolar\":[{\"type\":\"scatterpolar\",\"marker\":{\"colorbar\":{\"outlinewidth\":0,\"ticks\":\"\"}}}],\"histogram\":[{\"marker\":{\"pattern\":{\"fillmode\":\"overlay\",\"size\":10,\"solidity\":0.2}},\"type\":\"histogram\"}],\"scattergl\":[{\"type\":\"scattergl\",\"marker\":{\"colorbar\":{\"outlinewidth\":0,\"ticks\":\"\"}}}],\"scatter3d\":[{\"type\":\"scatter3d\",\"line\":{\"colorbar\":{\"outlinewidth\":0,\"ticks\":\"\"}},\"marker\":{\"colorbar\":{\"outlinewidth\":0,\"ticks\":\"\"}}}],\"scattermapbox\":[{\"type\":\"scattermapbox\",\"marker\":{\"colorbar\":{\"outlinewidth\":0,\"ticks\":\"\"}}}],\"scatterternary\":[{\"type\":\"scatterternary\",\"marker\":{\"colorbar\":{\"outlinewidth\":0,\"ticks\":\"\"}}}],\"scattercarpet\":[{\"type\":\"scattercarpet\",\"marker\":{\"colorbar\":{\"outlinewidth\":0,\"ticks\":\"\"}}}],\"carpet\":[{\"aaxis\":{\"endlinecolor\":\"#2a3f5f\",\"gridcolor\":\"white\",\"linecolor\":\"white\",\"minorgridcolor\":\"white\",\"startlinecolor\":\"#2a3f5f\"},\"baxis\":{\"endlinecolor\":\"#2a3f5f\",\"gridcolor\":\"white\",\"linecolor\":\"white\",\"minorgridcolor\":\"white\",\"startlinecolor\":\"#2a3f5f\"},\"type\":\"carpet\"}],\"table\":[{\"cells\":{\"fill\":{\"color\":\"#EBF0F8\"},\"line\":{\"color\":\"white\"}},\"header\":{\"fill\":{\"color\":\"#C8D4E3\"},\"line\":{\"color\":\"white\"}},\"type\":\"table\"}],\"barpolar\":[{\"marker\":{\"line\":{\"color\":\"#E5ECF6\",\"width\":0.5},\"pattern\":{\"fillmode\":\"overlay\",\"size\":10,\"solidity\":0.2}},\"type\":\"barpolar\"}],\"pie\":[{\"automargin\":true,\"type\":\"pie\"}]},\"layout\":{\"autotypenumbers\":\"strict\",\"colorway\":[\"#636efa\",\"#EF553B\",\"#00cc96\",\"#ab63fa\",\"#FFA15A\",\"#19d3f3\",\"#FF6692\",\"#B6E880\",\"#FF97FF\",\"#FECB52\"],\"font\":{\"color\":\"#2a3f5f\"},\"hovermode\":\"closest\",\"hoverlabel\":{\"align\":\"left\"},\"paper_bgcolor\":\"white\",\"plot_bgcolor\":\"#E5ECF6\",\"polar\":{\"bgcolor\":\"#E5ECF6\",\"angularaxis\":{\"gridcolor\":\"white\",\"linecolor\":\"white\",\"ticks\":\"\"},\"radialaxis\":{\"gridcolor\":\"white\",\"linecolor\":\"white\",\"ticks\":\"\"}},\"ternary\":{\"bgcolor\":\"#E5ECF6\",\"aaxis\":{\"gridcolor\":\"white\",\"linecolor\":\"white\",\"ticks\":\"\"},\"baxis\":{\"gridcolor\":\"white\",\"linecolor\":\"white\",\"ticks\":\"\"},\"caxis\":{\"gridcolor\":\"white\",\"linecolor\":\"white\",\"ticks\":\"\"}},\"coloraxis\":{\"colorbar\":{\"outlinewidth\":0,\"ticks\":\"\"}},\"colorscale\":{\"sequential\":[[0.0,\"#0d0887\"],[0.1111111111111111,\"#46039f\"],[0.2222222222222222,\"#7201a8\"],[0.3333333333333333,\"#9c179e\"],[0.4444444444444444,\"#bd3786\"],[0.5555555555555556,\"#d8576b\"],[0.6666666666666666,\"#ed7953\"],[0.7777777777777778,\"#fb9f3a\"],[0.8888888888888888,\"#fdca26\"],[1.0,\"#f0f921\"]],\"sequentialminus\":[[0.0,\"#0d0887\"],[0.1111111111111111,\"#46039f\"],[0.2222222222222222,\"#7201a8\"],[0.3333333333333333,\"#9c179e\"],[0.4444444444444444,\"#bd3786\"],[0.5555555555555556,\"#d8576b\"],[0.6666666666666666,\"#ed7953\"],[0.7777777777777778,\"#fb9f3a\"],[0.8888888888888888,\"#fdca26\"],[1.0,\"#f0f921\"]],\"diverging\":[[0,\"#8e0152\"],[0.1,\"#c51b7d\"],[0.2,\"#de77ae\"],[0.3,\"#f1b6da\"],[0.4,\"#fde0ef\"],[0.5,\"#f7f7f7\"],[0.6,\"#e6f5d0\"],[0.7,\"#b8e186\"],[0.8,\"#7fbc41\"],[0.9,\"#4d9221\"],[1,\"#276419\"]]},\"xaxis\":{\"gridcolor\":\"white\",\"linecolor\":\"white\",\"ticks\":\"\",\"title\":{\"standoff\":15},\"zerolinecolor\":\"white\",\"automargin\":true,\"zerolinewidth\":2},\"yaxis\":{\"gridcolor\":\"white\",\"linecolor\":\"white\",\"ticks\":\"\",\"title\":{\"standoff\":15},\"zerolinecolor\":\"white\",\"automargin\":true,\"zerolinewidth\":2},\"scene\":{\"xaxis\":{\"backgroundcolor\":\"#E5ECF6\",\"gridcolor\":\"white\",\"linecolor\":\"white\",\"showbackground\":true,\"ticks\":\"\",\"zerolinecolor\":\"white\",\"gridwidth\":2},\"yaxis\":{\"backgroundcolor\":\"#E5ECF6\",\"gridcolor\":\"white\",\"linecolor\":\"white\",\"showbackground\":true,\"ticks\":\"\",\"zerolinecolor\":\"white\",\"gridwidth\":2},\"zaxis\":{\"backgroundcolor\":\"#E5ECF6\",\"gridcolor\":\"white\",\"linecolor\":\"white\",\"showbackground\":true,\"ticks\":\"\",\"zerolinecolor\":\"white\",\"gridwidth\":2}},\"shapedefaults\":{\"line\":{\"color\":\"#2a3f5f\"}},\"annotationdefaults\":{\"arrowcolor\":\"#2a3f5f\",\"arrowhead\":0,\"arrowwidth\":1},\"geo\":{\"bgcolor\":\"white\",\"landcolor\":\"#E5ECF6\",\"subunitcolor\":\"white\",\"showland\":true,\"showlakes\":true,\"lakecolor\":\"white\"},\"title\":{\"x\":0.05},\"mapbox\":{\"style\":\"light\"}}},\"xaxis\":{\"anchor\":\"y\",\"domain\":[0.0,1.0],\"title\":{\"text\":\"livingArea\"},\"type\":\"log\"},\"yaxis\":{\"anchor\":\"x\",\"domain\":[0.0,1.0],\"title\":{\"text\":\"lastSoldPrice\"}},\"legend\":{\"title\":{\"text\":\"Location cluster\"},\"tracegroupgap\":0},\"margin\":{\"t\":60}},                        {\"responsive\": true}                    ).then(function(){\n",
       "                            \n",
       "var gd = document.getElementById('2787028e-8ffc-4cf1-9268-a56b9c6c9cf3');\n",
       "var x = new MutationObserver(function (mutations, observer) {{\n",
       "        var display = window.getComputedStyle(gd).display;\n",
       "        if (!display || display === 'none') {{\n",
       "            console.log([gd, 'removed!']);\n",
       "            Plotly.purge(gd);\n",
       "            observer.disconnect();\n",
       "        }}\n",
       "}});\n",
       "\n",
       "// Listen for the removal of the full notebook cells\n",
       "var notebookContainer = gd.closest('#notebook-container');\n",
       "if (notebookContainer) {{\n",
       "    x.observe(notebookContainer, {childList: true});\n",
       "}}\n",
       "\n",
       "// Listen for the clearing of the current output cell\n",
       "var outputEl = gd.closest('.output');\n",
       "if (outputEl) {{\n",
       "    x.observe(outputEl, {childList: true});\n",
       "}}\n",
       "\n",
       "                        })                };                });            </script>        </div>"
      ]
     },
     "metadata": {},
     "output_type": "display_data"
    }
   ],
   "source": [
    "px.scatter(df1, x=\"livingArea\", y=\"lastSoldPrice\", color=\"Location cluster\", log_x=True, trendline='ols')"
   ]
  },
  {
   "cell_type": "markdown",
   "metadata": {},
   "source": [
    "# Prepare dataset for predictions\n",
    "We will clean the dataset to prepare it for training a model. We will:\n",
    "1. filter on important features\n",
    "2. remove outliers\n",
    "3. remoe NaN values. "
   ]
  },
  {
   "cell_type": "code",
   "execution_count": 15,
   "metadata": {},
   "outputs": [],
   "source": [
    "#Set up data\n",
    "selected_features = [ 'homeType', 'bathrooms', 'bedrooms', 'livingArea', 'Age', 'totalRooms', 'soldYear', 'soldMonth', 'lastSoldPrice', 'Location cluster'] #select predictor features\n",
    "selected_features_2 = [ 'homeType', 'bathrooms', 'bedrooms', 'livingArea', 'Age', 'totalRooms', 'soldYear', 'soldMonth', 'lastSoldPrice', 'longitude', 'latitude'] #select predictor\n",
    "analysis_df = df1.copy()\n",
    "analysis_df = analysis_df[selected_features_2]"
   ]
  },
  {
   "cell_type": "code",
   "execution_count": 16,
   "metadata": {},
   "outputs": [
    {
     "data": {
      "text/plain": [
       "(462, 11)"
      ]
     },
     "execution_count": 16,
     "metadata": {},
     "output_type": "execute_result"
    }
   ],
   "source": [
    "#510 properties in this dataset\n",
    "analysis_df.shape"
   ]
  },
  {
   "cell_type": "code",
   "execution_count": 17,
   "metadata": {},
   "outputs": [],
   "source": [
    "#In most cases, if the feature bedrooms is missing, all other features are also missing, so we drop any row that has bedrooms missing. \n",
    "analysis_df = analysis_df[(analysis_df['bedrooms'].notna()) & (analysis_df['lastSoldPrice'].notna())] "
   ]
  },
  {
   "cell_type": "code",
   "execution_count": 18,
   "metadata": {},
   "outputs": [
    {
     "data": {
      "text/plain": [
       "(304, 11)"
      ]
     },
     "execution_count": 18,
     "metadata": {},
     "output_type": "execute_result"
    }
   ],
   "source": [
    "#Lets say the shape and size of our new X feature\n",
    "analysis_df.shape"
   ]
  },
  {
   "cell_type": "code",
   "execution_count": 19,
   "metadata": {},
   "outputs": [
    {
     "name": "stdout",
     "output_type": "stream",
     "text": [
      "<class 'pandas.core.frame.DataFrame'>\n",
      "Int64Index: 304 entries, 0 to 512\n",
      "Data columns (total 11 columns):\n",
      " #   Column         Non-Null Count  Dtype  \n",
      "---  ------         --------------  -----  \n",
      " 0   homeType       304 non-null    object \n",
      " 1   bathrooms      304 non-null    float64\n",
      " 2   bedrooms       304 non-null    float64\n",
      " 3   livingArea     303 non-null    float64\n",
      " 4   Age            283 non-null    float64\n",
      " 5   totalRooms     304 non-null    float64\n",
      " 6   soldYear       264 non-null    float64\n",
      " 7   soldMonth      264 non-null    float64\n",
      " 8   lastSoldPrice  304 non-null    float64\n",
      " 9   longitude      304 non-null    float64\n",
      " 10  latitude       304 non-null    float64\n",
      "dtypes: float64(10), object(1)\n",
      "memory usage: 28.5+ KB\n"
     ]
    }
   ],
   "source": [
    "#lets check which other features contains missing values\n",
    "analysis_df.info()"
   ]
  },
  {
   "cell_type": "code",
   "execution_count": 20,
   "metadata": {},
   "outputs": [],
   "source": [
    "#we can use na filling methods from pandas library to fill the missing values in here\n",
    "# analysis_df['hoaFee'].interpolate(method='linear', inplace=True, limit_direction='both')\n",
    "analysis_df['livingArea'].interpolate(method='linear', inplace=True, limit_direction='both')\n",
    "analysis_df['Age'].interpolate(method='linear', inplace=True, limit_direction='both')\n",
    "analysis_df['soldYear'].fillna(2022,inplace=True)\n",
    "analysis_df['soldMonth'].fillna(8, inplace=True)"
   ]
  },
  {
   "cell_type": "code",
   "execution_count": 21,
   "metadata": {},
   "outputs": [
    {
     "name": "stdout",
     "output_type": "stream",
     "text": [
      "<class 'pandas.core.frame.DataFrame'>\n",
      "Int64Index: 304 entries, 0 to 512\n",
      "Data columns (total 11 columns):\n",
      " #   Column         Non-Null Count  Dtype  \n",
      "---  ------         --------------  -----  \n",
      " 0   homeType       304 non-null    object \n",
      " 1   bathrooms      304 non-null    float64\n",
      " 2   bedrooms       304 non-null    float64\n",
      " 3   livingArea     304 non-null    float64\n",
      " 4   Age            304 non-null    float64\n",
      " 5   totalRooms     304 non-null    float64\n",
      " 6   soldYear       304 non-null    float64\n",
      " 7   soldMonth      304 non-null    float64\n",
      " 8   lastSoldPrice  304 non-null    float64\n",
      " 9   longitude      304 non-null    float64\n",
      " 10  latitude       304 non-null    float64\n",
      "dtypes: float64(10), object(1)\n",
      "memory usage: 28.5+ KB\n"
     ]
    }
   ],
   "source": [
    "#lets check now if there are still missing values\n",
    "analysis_df.info()"
   ]
  },
  {
   "cell_type": "code",
   "execution_count": 22,
   "metadata": {},
   "outputs": [
    {
     "data": {
      "text/html": [
       "<div>\n",
       "<style scoped>\n",
       "    .dataframe tbody tr th:only-of-type {\n",
       "        vertical-align: middle;\n",
       "    }\n",
       "\n",
       "    .dataframe tbody tr th {\n",
       "        vertical-align: top;\n",
       "    }\n",
       "\n",
       "    .dataframe thead th {\n",
       "        text-align: right;\n",
       "    }\n",
       "</style>\n",
       "<table border=\"1\" class=\"dataframe\">\n",
       "  <thead>\n",
       "    <tr style=\"text-align: right;\">\n",
       "      <th></th>\n",
       "      <th>bathrooms</th>\n",
       "      <th>bedrooms</th>\n",
       "      <th>livingArea</th>\n",
       "      <th>Age</th>\n",
       "      <th>totalRooms</th>\n",
       "      <th>soldYear</th>\n",
       "      <th>soldMonth</th>\n",
       "      <th>lastSoldPrice</th>\n",
       "      <th>longitude</th>\n",
       "      <th>latitude</th>\n",
       "      <th>homeType_APARTMENT</th>\n",
       "      <th>homeType_CONDO</th>\n",
       "      <th>homeType_MANUFACTURED</th>\n",
       "      <th>homeType_MULTI_FAMILY</th>\n",
       "      <th>homeType_SINGLE_FAMILY</th>\n",
       "      <th>homeType_TOWNHOUSE</th>\n",
       "    </tr>\n",
       "  </thead>\n",
       "  <tbody>\n",
       "    <tr>\n",
       "      <th>0</th>\n",
       "      <td>2.0</td>\n",
       "      <td>3.0</td>\n",
       "      <td>1024.0</td>\n",
       "      <td>33.0</td>\n",
       "      <td>5.0</td>\n",
       "      <td>2022.0</td>\n",
       "      <td>8.0</td>\n",
       "      <td>349000.0</td>\n",
       "      <td>-72.88904</td>\n",
       "      <td>42.962830</td>\n",
       "      <td>0</td>\n",
       "      <td>1</td>\n",
       "      <td>0</td>\n",
       "      <td>0</td>\n",
       "      <td>0</td>\n",
       "      <td>0</td>\n",
       "    </tr>\n",
       "    <tr>\n",
       "      <th>1</th>\n",
       "      <td>2.0</td>\n",
       "      <td>4.0</td>\n",
       "      <td>1696.0</td>\n",
       "      <td>36.0</td>\n",
       "      <td>6.0</td>\n",
       "      <td>2022.0</td>\n",
       "      <td>8.0</td>\n",
       "      <td>350000.0</td>\n",
       "      <td>-72.89092</td>\n",
       "      <td>42.974842</td>\n",
       "      <td>0</td>\n",
       "      <td>1</td>\n",
       "      <td>0</td>\n",
       "      <td>0</td>\n",
       "      <td>0</td>\n",
       "      <td>0</td>\n",
       "    </tr>\n",
       "    <tr>\n",
       "      <th>2</th>\n",
       "      <td>2.0</td>\n",
       "      <td>3.0</td>\n",
       "      <td>1532.0</td>\n",
       "      <td>62.0</td>\n",
       "      <td>5.0</td>\n",
       "      <td>2022.0</td>\n",
       "      <td>8.0</td>\n",
       "      <td>329000.0</td>\n",
       "      <td>-72.87209</td>\n",
       "      <td>42.972470</td>\n",
       "      <td>0</td>\n",
       "      <td>0</td>\n",
       "      <td>0</td>\n",
       "      <td>0</td>\n",
       "      <td>1</td>\n",
       "      <td>0</td>\n",
       "    </tr>\n",
       "    <tr>\n",
       "      <th>3</th>\n",
       "      <td>1.0</td>\n",
       "      <td>2.0</td>\n",
       "      <td>700.0</td>\n",
       "      <td>45.0</td>\n",
       "      <td>3.0</td>\n",
       "      <td>2022.0</td>\n",
       "      <td>7.0</td>\n",
       "      <td>200000.0</td>\n",
       "      <td>-72.84587</td>\n",
       "      <td>42.910248</td>\n",
       "      <td>0</td>\n",
       "      <td>0</td>\n",
       "      <td>0</td>\n",
       "      <td>0</td>\n",
       "      <td>1</td>\n",
       "      <td>0</td>\n",
       "    </tr>\n",
       "    <tr>\n",
       "      <th>4</th>\n",
       "      <td>2.0</td>\n",
       "      <td>3.0</td>\n",
       "      <td>1800.0</td>\n",
       "      <td>50.0</td>\n",
       "      <td>5.0</td>\n",
       "      <td>2022.0</td>\n",
       "      <td>5.0</td>\n",
       "      <td>320000.0</td>\n",
       "      <td>-72.89414</td>\n",
       "      <td>42.898968</td>\n",
       "      <td>0</td>\n",
       "      <td>0</td>\n",
       "      <td>0</td>\n",
       "      <td>0</td>\n",
       "      <td>1</td>\n",
       "      <td>0</td>\n",
       "    </tr>\n",
       "  </tbody>\n",
       "</table>\n",
       "</div>"
      ],
      "text/plain": [
       "   bathrooms  bedrooms  livingArea   Age  totalRooms  soldYear  soldMonth  \\\n",
       "0        2.0       3.0      1024.0  33.0         5.0    2022.0        8.0   \n",
       "1        2.0       4.0      1696.0  36.0         6.0    2022.0        8.0   \n",
       "2        2.0       3.0      1532.0  62.0         5.0    2022.0        8.0   \n",
       "3        1.0       2.0       700.0  45.0         3.0    2022.0        7.0   \n",
       "4        2.0       3.0      1800.0  50.0         5.0    2022.0        5.0   \n",
       "\n",
       "   lastSoldPrice  longitude   latitude  homeType_APARTMENT  homeType_CONDO  \\\n",
       "0       349000.0  -72.88904  42.962830                   0               1   \n",
       "1       350000.0  -72.89092  42.974842                   0               1   \n",
       "2       329000.0  -72.87209  42.972470                   0               0   \n",
       "3       200000.0  -72.84587  42.910248                   0               0   \n",
       "4       320000.0  -72.89414  42.898968                   0               0   \n",
       "\n",
       "   homeType_MANUFACTURED  homeType_MULTI_FAMILY  homeType_SINGLE_FAMILY  \\\n",
       "0                      0                      0                       0   \n",
       "1                      0                      0                       0   \n",
       "2                      0                      0                       1   \n",
       "3                      0                      0                       1   \n",
       "4                      0                      0                       1   \n",
       "\n",
       "   homeType_TOWNHOUSE  \n",
       "0                   0  \n",
       "1                   0  \n",
       "2                   0  \n",
       "3                   0  \n",
       "4                   0  "
      ]
     },
     "execution_count": 22,
     "metadata": {},
     "output_type": "execute_result"
    }
   ],
   "source": [
    "#one hot encoding of categorial feature home type\n",
    "analysis_df = pd.get_dummies(analysis_df, columns= ['homeType'], prefix=None).reset_index(drop=True)\n",
    "#see first five rows\n",
    "analysis_df.head()"
   ]
  },
  {
   "cell_type": "code",
   "execution_count": 23,
   "metadata": {},
   "outputs": [],
   "source": [
    "#removing outliers from Living Area\n",
    "remove = (analysis_df['livingArea']>3001 ) | (analysis_df['livingArea']<600)| (analysis_df['Age']>75) | (analysis_df['totalRooms']>12) | (analysis_df['lastSoldPrice']< 100000)\n",
    "analysis_df = analysis_df[~remove].reset_index(drop=True)"
   ]
  },
  {
   "cell_type": "markdown",
   "metadata": {},
   "source": [
    "# Split data into Train and Test Sets"
   ]
  },
  {
   "cell_type": "code",
   "execution_count": 24,
   "metadata": {},
   "outputs": [
    {
     "data": {
      "text/plain": [
       "0    349000.0\n",
       "1    350000.0\n",
       "2    329000.0\n",
       "3    200000.0\n",
       "4    320000.0\n",
       "Name: lastSoldPrice, dtype: float64"
      ]
     },
     "execution_count": 24,
     "metadata": {},
     "output_type": "execute_result"
    }
   ],
   "source": [
    "y = analysis_df.copy().pop('lastSoldPrice')\n",
    "y.head()"
   ]
  },
  {
   "cell_type": "code",
   "execution_count": 25,
   "metadata": {},
   "outputs": [
    {
     "data": {
      "text/html": [
       "<div>\n",
       "<style scoped>\n",
       "    .dataframe tbody tr th:only-of-type {\n",
       "        vertical-align: middle;\n",
       "    }\n",
       "\n",
       "    .dataframe tbody tr th {\n",
       "        vertical-align: top;\n",
       "    }\n",
       "\n",
       "    .dataframe thead th {\n",
       "        text-align: right;\n",
       "    }\n",
       "</style>\n",
       "<table border=\"1\" class=\"dataframe\">\n",
       "  <thead>\n",
       "    <tr style=\"text-align: right;\">\n",
       "      <th></th>\n",
       "      <th>bathrooms</th>\n",
       "      <th>bedrooms</th>\n",
       "      <th>livingArea</th>\n",
       "      <th>Age</th>\n",
       "      <th>totalRooms</th>\n",
       "      <th>soldYear</th>\n",
       "      <th>soldMonth</th>\n",
       "      <th>longitude</th>\n",
       "      <th>latitude</th>\n",
       "      <th>homeType_APARTMENT</th>\n",
       "      <th>homeType_CONDO</th>\n",
       "      <th>homeType_MANUFACTURED</th>\n",
       "      <th>homeType_MULTI_FAMILY</th>\n",
       "      <th>homeType_SINGLE_FAMILY</th>\n",
       "      <th>homeType_TOWNHOUSE</th>\n",
       "    </tr>\n",
       "  </thead>\n",
       "  <tbody>\n",
       "    <tr>\n",
       "      <th>0</th>\n",
       "      <td>2.0</td>\n",
       "      <td>3.0</td>\n",
       "      <td>1024.0</td>\n",
       "      <td>33.0</td>\n",
       "      <td>5.0</td>\n",
       "      <td>2022.0</td>\n",
       "      <td>8.0</td>\n",
       "      <td>-72.88904</td>\n",
       "      <td>42.962830</td>\n",
       "      <td>0</td>\n",
       "      <td>1</td>\n",
       "      <td>0</td>\n",
       "      <td>0</td>\n",
       "      <td>0</td>\n",
       "      <td>0</td>\n",
       "    </tr>\n",
       "    <tr>\n",
       "      <th>1</th>\n",
       "      <td>2.0</td>\n",
       "      <td>4.0</td>\n",
       "      <td>1696.0</td>\n",
       "      <td>36.0</td>\n",
       "      <td>6.0</td>\n",
       "      <td>2022.0</td>\n",
       "      <td>8.0</td>\n",
       "      <td>-72.89092</td>\n",
       "      <td>42.974842</td>\n",
       "      <td>0</td>\n",
       "      <td>1</td>\n",
       "      <td>0</td>\n",
       "      <td>0</td>\n",
       "      <td>0</td>\n",
       "      <td>0</td>\n",
       "    </tr>\n",
       "    <tr>\n",
       "      <th>2</th>\n",
       "      <td>2.0</td>\n",
       "      <td>3.0</td>\n",
       "      <td>1532.0</td>\n",
       "      <td>62.0</td>\n",
       "      <td>5.0</td>\n",
       "      <td>2022.0</td>\n",
       "      <td>8.0</td>\n",
       "      <td>-72.87209</td>\n",
       "      <td>42.972470</td>\n",
       "      <td>0</td>\n",
       "      <td>0</td>\n",
       "      <td>0</td>\n",
       "      <td>0</td>\n",
       "      <td>1</td>\n",
       "      <td>0</td>\n",
       "    </tr>\n",
       "    <tr>\n",
       "      <th>3</th>\n",
       "      <td>1.0</td>\n",
       "      <td>2.0</td>\n",
       "      <td>700.0</td>\n",
       "      <td>45.0</td>\n",
       "      <td>3.0</td>\n",
       "      <td>2022.0</td>\n",
       "      <td>7.0</td>\n",
       "      <td>-72.84587</td>\n",
       "      <td>42.910248</td>\n",
       "      <td>0</td>\n",
       "      <td>0</td>\n",
       "      <td>0</td>\n",
       "      <td>0</td>\n",
       "      <td>1</td>\n",
       "      <td>0</td>\n",
       "    </tr>\n",
       "    <tr>\n",
       "      <th>4</th>\n",
       "      <td>2.0</td>\n",
       "      <td>3.0</td>\n",
       "      <td>1800.0</td>\n",
       "      <td>50.0</td>\n",
       "      <td>5.0</td>\n",
       "      <td>2022.0</td>\n",
       "      <td>5.0</td>\n",
       "      <td>-72.89414</td>\n",
       "      <td>42.898968</td>\n",
       "      <td>0</td>\n",
       "      <td>0</td>\n",
       "      <td>0</td>\n",
       "      <td>0</td>\n",
       "      <td>1</td>\n",
       "      <td>0</td>\n",
       "    </tr>\n",
       "  </tbody>\n",
       "</table>\n",
       "</div>"
      ],
      "text/plain": [
       "   bathrooms  bedrooms  livingArea   Age  totalRooms  soldYear  soldMonth  \\\n",
       "0        2.0       3.0      1024.0  33.0         5.0    2022.0        8.0   \n",
       "1        2.0       4.0      1696.0  36.0         6.0    2022.0        8.0   \n",
       "2        2.0       3.0      1532.0  62.0         5.0    2022.0        8.0   \n",
       "3        1.0       2.0       700.0  45.0         3.0    2022.0        7.0   \n",
       "4        2.0       3.0      1800.0  50.0         5.0    2022.0        5.0   \n",
       "\n",
       "   longitude   latitude  homeType_APARTMENT  homeType_CONDO  \\\n",
       "0  -72.88904  42.962830                   0               1   \n",
       "1  -72.89092  42.974842                   0               1   \n",
       "2  -72.87209  42.972470                   0               0   \n",
       "3  -72.84587  42.910248                   0               0   \n",
       "4  -72.89414  42.898968                   0               0   \n",
       "\n",
       "   homeType_MANUFACTURED  homeType_MULTI_FAMILY  homeType_SINGLE_FAMILY  \\\n",
       "0                      0                      0                       0   \n",
       "1                      0                      0                       0   \n",
       "2                      0                      0                       1   \n",
       "3                      0                      0                       1   \n",
       "4                      0                      0                       1   \n",
       "\n",
       "   homeType_TOWNHOUSE  \n",
       "0                   0  \n",
       "1                   0  \n",
       "2                   0  \n",
       "3                   0  \n",
       "4                   0  "
      ]
     },
     "execution_count": 25,
     "metadata": {},
     "output_type": "execute_result"
    }
   ],
   "source": [
    "X = analysis_df.copy().drop(['lastSoldPrice'], axis=1)\n",
    "X.head()"
   ]
  },
  {
   "cell_type": "code",
   "execution_count": 26,
   "metadata": {},
   "outputs": [
    {
     "name": "stdout",
     "output_type": "stream",
     "text": [
      "X_train shape (175, 15)\n",
      "X test shape (44, 15)\n",
      "y train (175,)\n",
      "y test (44,)\n"
     ]
    }
   ],
   "source": [
    "#train test split \n",
    "#scikit learn libraries\n",
    "from sklearn.model_selection import train_test_split #train test split\n",
    "from sklearn.metrics import mean_squared_error #mean squared error of the regression\n",
    "\n",
    "#original random state = 1000\n",
    "X_train, X_test, y_train, y_test, = train_test_split(X,y, test_size=0.20, random_state = 1000) #split the data\n",
    "print(\"X_train shape\", X_train.shape)\n",
    "print(\"X test shape\", X_test.shape)\n",
    "print(\"y train\", y_train.shape)\n",
    "print(\"y test\", y_test.shape)"
   ]
  },
  {
   "cell_type": "markdown",
   "metadata": {},
   "source": [
    "# XB Boost Algorithm (no cluster, regularized, max depth =6)"
   ]
  },
  {
   "cell_type": "code",
   "execution_count": 27,
   "metadata": {},
   "outputs": [],
   "source": [
    "from sklearn.inspection import permutation_importance\n",
    "from sklearn.metrics import mean_squared_error\n",
    "from sklearn import ensemble\n",
    "import xgboost as xgb"
   ]
  },
  {
   "cell_type": "code",
   "execution_count": 28,
   "metadata": {},
   "outputs": [
    {
     "name": "stdout",
     "output_type": "stream",
     "text": [
      "[0]\teval-mae:240263.45312\ttrain-mae:232871.84375\n",
      "[1]\teval-mae:171524.87500\ttrain-mae:163219.96875\n",
      "[2]\teval-mae:128707.40625\ttrain-mae:114405.16406\n",
      "[3]\teval-mae:107896.28125\ttrain-mae:80365.20312\n",
      "[4]\teval-mae:95609.13281\ttrain-mae:56781.81250\n",
      "[5]\teval-mae:84649.66406\ttrain-mae:40444.46875\n",
      "[6]\teval-mae:78973.17969\ttrain-mae:29104.27148\n",
      "[7]\teval-mae:74269.87500\ttrain-mae:21384.08789\n",
      "[8]\teval-mae:72261.72656\ttrain-mae:16639.24219\n",
      "[9]\teval-mae:70499.85156\ttrain-mae:13164.10547\n",
      "[10]\teval-mae:69984.92969\ttrain-mae:11364.90625\n",
      "[11]\teval-mae:69296.24219\ttrain-mae:9606.05371\n",
      "[12]\teval-mae:69268.71875\ttrain-mae:8045.34912\n",
      "[13]\teval-mae:69387.21094\ttrain-mae:6941.51074\n",
      "[14]\teval-mae:69401.21875\ttrain-mae:6303.78662\n",
      "[15]\teval-mae:69245.47656\ttrain-mae:5492.47022\n",
      "error=1.000000\n"
     ]
    }
   ],
   "source": [
    "dtrain = xgb.DMatrix(X_train, y_train) #train set\n",
    "dtest = xgb.DMatrix(X_test, y_test) #validation set\n",
    "#specify the parameters\n",
    "param = {\"max_depth\": 6, \"objective\":\"reg:squarederror\", \"lambda\":0.01, \"alpha\":0.01, \"seed\":1234, \"eval_metric\":'mae'}\n",
    "\n",
    "# specify validations set to watch performance\n",
    "watchlist = [(dtest, \"eval\"), (dtrain, \"train\")]\n",
    "\n",
    "num_round = 16\n",
    "bst = xgb.train(param, dtrain, num_boost_round=num_round, evals=watchlist)\n",
    "\n",
    "# run prediction\n",
    "preds = bst.predict(dtest)\n",
    "labels = dtest.get_label()\n",
    "print(\n",
    "    \"error=%f\"\n",
    "    % (\n",
    "        sum(1 for i in range(len(preds)) if int(preds[i] > 0.5) != labels[i])\n",
    "        / float(len(preds))\n",
    "    )\n",
    ")"
   ]
  },
  {
   "cell_type": "markdown",
   "metadata": {},
   "source": [
    "# Predict the target value of our home"
   ]
  },
  {
   "cell_type": "code",
   "execution_count": 29,
   "metadata": {},
   "outputs": [
    {
     "name": "stdout",
     "output_type": "stream",
     "text": [
      "Based on comps in this area, this property should be sold at a price of: $ 311091.47\n"
     ]
    }
   ],
   "source": [
    "#predict our cluster based on latitude and longtiude information\n",
    "property_coordinates = np.array([[-72.88869908, 42.962726, ]])\n",
    "property_coordinates = minmaxscaler.transform(property_coordinates)\n",
    "cluster = km.predict(property_coordinates)[0]\n",
    "# tgt_home = pd.DataFrame([{\"bathrooms\":2, \"bedrooms\":3, \"livingArea\":1020 , \"Age\":34,\n",
    "#                           \"totalRooms\":5, \"soldYear\":2022, \"soldMonth\":10, \n",
    "#                            \"homeType_APARTMENT\":0, \"homeType_CONDO\":1,\n",
    "#                           \"homeType_MANUFACTURED\":0, \"homeType_MULTI_FAMILY\":0, \"homeType_SINGLE_FAMILY\":0,\n",
    "#                           \"homeType_TOWNHOUSE\":0, \n",
    "#                          'Location cluster_0':0, 'Location cluster_1':0, 'Location cluster_2':0,\n",
    "#                           'Location cluster_3':1, 'Location cluster_4':0, 'Location cluster_5':0, \n",
    "#                           'Location cluster_6':0, 'Location cluster_7':0}])\n",
    "\n",
    "tgt_home = pd.DataFrame([{\"bathrooms\":2, \"bedrooms\":3, \"livingArea\":1020 , \"Age\":34,\n",
    "                          \"totalRooms\":5, \"soldYear\":2022, \"soldMonth\":10, 'longitude':-72.88904, 'latitude':42.96283,\n",
    "                           \"homeType_APARTMENT\":0, \"homeType_CONDO\":1,\n",
    "                          \"homeType_MANUFACTURED\":0, \"homeType_MULTI_FAMILY\":0, \"homeType_SINGLE_FAMILY\":0,\n",
    "                          \"homeType_TOWNHOUSE\":0 }])\n",
    "tgt_home = xgb.DMatrix(tgt_home)\n",
    "\n",
    "print('Based on comps in this area, this property should be sold at a price of:' , '$',bst.predict(tgt_home)[0])\n",
    "# print('Your home belongs to cluster:', cluster)"
   ]
  },
  {
   "cell_type": "markdown",
   "metadata": {},
   "source": [
    "# Error Analysis"
   ]
  },
  {
   "cell_type": "code",
   "execution_count": 51,
   "metadata": {},
   "outputs": [],
   "source": [
    "yhat = bst.predict(xgb.DMatrix(X_train))\n",
    "err = abs(y_train - yhat)\n",
    "err_df = X_train.copy()\n",
    "err_df[\"home price\"] = y_train\n",
    "err_df[\"prediction\"] = yhat \n",
    "err_df['error'] = err \n"
   ]
  },
  {
   "cell_type": "code",
   "execution_count": 52,
   "metadata": {},
   "outputs": [
    {
     "data": {
      "text/plain": [
       "(175, 18)"
      ]
     },
     "execution_count": 52,
     "metadata": {},
     "output_type": "execute_result"
    }
   ],
   "source": [
    "err_df.shape"
   ]
  },
  {
   "cell_type": "code",
   "execution_count": 32,
   "metadata": {},
   "outputs": [],
   "source": [
    "large_err_df = err_df[abs(err_df['error']) > 80000] #dataset of large errors\n",
    "small_err_df = err_df[abs(err_df['error']) < 80000] #dataset of large errors\n",
    " "
   ]
  },
  {
   "cell_type": "code",
   "execution_count": 46,
   "metadata": {},
   "outputs": [
    {
     "data": {
      "text/plain": [
       "Index(['bathrooms', 'bedrooms', 'livingArea', 'Age', 'totalRooms', 'soldYear',\n",
       "       'soldMonth', 'longitude', 'latitude', 'homeType_APARTMENT',\n",
       "       'homeType_CONDO', 'homeType_MANUFACTURED', 'homeType_MULTI_FAMILY',\n",
       "       'homeType_SINGLE_FAMILY', 'homeType_TOWNHOUSE', 'home price',\n",
       "       'prediction', 'error'],\n",
       "      dtype='object')"
      ]
     },
     "execution_count": 46,
     "metadata": {},
     "output_type": "execute_result"
    }
   ],
   "source": [
    "err_df.columns"
   ]
  },
  {
   "cell_type": "code",
   "execution_count": 53,
   "metadata": {},
   "outputs": [
    {
     "data": {
      "text/html": [
       "        <script type=\"text/javascript\">\n",
       "        window.PlotlyConfig = {MathJaxConfig: 'local'};\n",
       "        if (window.MathJax && window.MathJax.Hub && window.MathJax.Hub.Config) {window.MathJax.Hub.Config({SVG: {font: \"STIX-Web\"}});}\n",
       "        if (typeof require !== 'undefined') {\n",
       "        require.undef(\"plotly\");\n",
       "        requirejs.config({\n",
       "            paths: {\n",
       "                'plotly': ['https://cdn.plot.ly/plotly-2.12.1.min']\n",
       "            }\n",
       "        });\n",
       "        require(['plotly'], function(Plotly) {\n",
       "            window._Plotly = Plotly;\n",
       "        });\n",
       "        }\n",
       "        </script>\n",
       "        "
      ]
     },
     "metadata": {},
     "output_type": "display_data"
    },
    {
     "data": {
      "text/html": [
       "<div>                            <div id=\"23388643-fb4a-447e-9913-f7079f966b03\" class=\"plotly-graph-div\" style=\"height:800px; width:900px;\"></div>            <script type=\"text/javascript\">                require([\"plotly\"], function(Plotly) {                    window.PLOTLYENV=window.PLOTLYENV || {};                                    if (document.getElementById(\"23388643-fb4a-447e-9913-f7079f966b03\")) {                    Plotly.newPlot(                        \"23388643-fb4a-447e-9913-f7079f966b03\",                        [{\"hovertemplate\":\"<b>%{hovertext}</b><br><br>error=%{marker.color}<br>latitude=%{lat}<br>longitude=%{lon}<extra></extra>\",\"hovertext\":[286.3125,3576.65625,12438.25,3867.375,1637.65625,438.875,8138.625,5745.171875,10497.1875,4542.9375,583.9375,16808.0,4586.28125,2413.5,1899.78125,5460.5625,38047.890625,30608.875,2256.65625,3673.4375,6303.3125,2772.90625,11930.3125,4885.5,1963.59375,6930.5625,4404.8828125,11636.71875,8763.65625,8072.484375,16841.21875,1443.625,1286.125,2838.546875,471.6875,2926.34375,32127.3125,178.09375,6765.1875,8792.59375,2460.78125,981.109375,6736.6875,10593.875,1644.78125,1278.4375,947.1875,5128.015625,1813.234375,9222.984375,1392.71875,11195.46875,5978.25,8643.40625,7020.875,6661.703125,2416.78125,3243.25,9479.828125,2114.90625,5676.84375,7710.828125,246.5,3130.3125,2191.828125,3221.09375,9442.46875,8754.6875,3395.625,3962.0625,1712.625,7560.3125,496.984375,1839.71875,8316.5625,13172.90625,5258.40625,9716.0,13064.046875,4275.875,611.90625,2834.296875,3703.4375,7126.53125,819.921875,1441.734375,1616.828125,2317.8125,4427.890625,617.65625,613.59375,6771.328125,3945.109375,5437.0625,3160.25,1482.59375,4249.25,2326.125,6745.734375,8985.46875,2723.09375,3679.546875,4530.75,4324.25,8155.4375,12949.25,5265.125,4098.03125,7610.625,3971.53125,7545.375,3083.5,5867.25,3106.921875,5883.40625,7772.6875,6589.0,6095.53125,3466.640625,3065.9375,22007.828125,3172.25,6602.28125,981.03125,6325.5625,4300.046875,14163.34375,3323.875,6714.09375,8312.1875,5523.4375,547.625,8369.9375,5564.71875,6932.7734375,3191.25,2110.1875,2529.25,9643.875,3704.1875,9878.21875,4797.765625,691.0,2179.921875,3861.078125,3203.1875,3429.546875,3381.96875,3650.421875,1548.96875,6191.875,229.03125,16441.9375,837.71875,4377.65625,1883.1875,607.25,130.375,4233.484375,7550.921875,426.40625,3640.1875,2716.375,3700.71875,1426.65625,5424.875,199.1875,3366.625,5614.5625,2110.40625,841.0625,5982.625,9962.125,2197.25,20487.015625],\"lat\":[42.94614,42.97335,42.974335,42.931396,42.957134,42.955753,42.954773,42.912014,42.942783,42.930466,42.94654,42.91177,42.979275,42.90517,42.898342,42.971764,42.930676,42.936535,42.907627,42.942665,42.955677,42.969078,42.929947,42.919365,42.945282,42.942665,42.931377,42.943264,42.953182,42.96723,42.962593,42.957672,42.92147,42.910248,42.94198,42.93043,42.936356,42.970142,42.933163,42.94638,42.9327,42.95704,42.898968,42.947754,42.96939,42.90682,42.947613,42.975204,42.950764,42.9314,42.976368,42.946644,42.944466,42.968983,42.960228,42.92578,42.919106,42.924774,42.947693,42.949024,42.955452,42.93065,42.960197,42.971416,42.908573,42.954056,42.940998,42.96068,42.942665,42.92773,42.959625,42.940987,42.93537,42.907253,42.957897,42.96283,42.910915,42.96283,42.932236,42.914017,42.93104,42.91518,42.924168,42.94637,42.952538,42.97022,42.954678,42.946396,42.94553,42.93982,42.955765,42.91239,42.929127,42.93467,42.919792,42.946365,42.89742,42.975708,42.956722,42.946102,42.965656,42.971756,42.90681,42.926273,42.966652,42.958458,42.94779,42.960278,42.97247,42.95824,42.961723,42.97485,42.953842,42.95589,42.954273,42.969032,42.94539,42.90657,42.899384,42.929913,42.930332,42.959385,42.897827,42.948734,42.96647,42.960205,42.96283,42.94497,42.95737,42.974655,42.972595,42.96283,42.960217,42.9578,42.93259,42.948055,42.956768,42.92043,42.962734,42.911674,42.96618,42.92831,42.913647,42.974613,42.947235,42.941677,42.94339,42.914326,42.973255,42.980152,42.944088,42.959274,42.92188,42.966965,42.94875,42.913017,42.958885,42.930233,42.974335,42.96819,42.95572,42.93919,42.934574,42.91428,42.94693,42.915916,42.947216,42.96283,42.974842,42.952198,42.940815,42.972015,42.947693,42.972225,42.930656],\"legendgroup\":\"\",\"lon\":[-72.89051,-72.884254,-72.88826,-72.81364,-72.880844,-72.85189,-72.87494,-72.81719,-72.845505,-72.80966,-72.8823,-72.83371,-72.88984,-72.83369,-72.89439,-72.88384,-72.85046,-72.862495,-72.84117,-72.87931,-72.84906,-72.885765,-72.8136,-72.88703,-72.87287,-72.87929,-72.849945,-72.86756,-72.84003,-72.89022,-72.89304,-72.82963,-72.882065,-72.84587,-72.86965,-72.84941,-72.85751,-72.891,-72.85969,-72.89661,-72.85135,-72.878456,-72.89414,-72.89008,-72.89172,-72.846886,-72.88594,-72.893036,-72.87559,-72.84953,-72.87507,-72.8878,-72.87828,-72.882645,-72.88997,-72.816734,-72.887825,-72.88333,-72.88959,-72.89608,-72.833755,-72.85043,-72.83215,-72.88242,-72.87277,-72.84618,-72.867325,-72.890564,-72.87934,-72.83939,-72.844604,-72.867905,-72.811966,-72.84955,-72.87921,-72.88904,-72.83479,-72.88904,-72.849915,-72.88265,-72.84559,-72.825905,-72.89316,-72.88784,-72.877174,-72.881996,-72.83009,-72.88888,-72.87051,-72.850365,-72.87792,-72.8178,-72.81527,-72.812675,-72.887505,-72.88779,-72.88792,-72.881195,-72.8784,-72.890526,-72.88421,-72.883835,-72.8508,-72.811485,-72.88326,-72.85553,-72.89177,-72.853516,-72.87209,-72.848915,-72.83457,-72.88449,-72.85266,-72.82415,-72.81928,-72.886696,-72.880264,-72.85526,-72.8937,-72.86571,-72.84939,-72.85755,-72.89425,-72.88183,-72.89374,-72.85688,-72.88904,-72.87729,-72.87858,-72.88869,-72.8952,-72.88904,-72.89084,-72.87625,-72.84966,-72.872284,-72.83114,-72.82647,-72.8927,-72.87936,-72.88127,-72.83901,-72.85949,-72.88834,-72.89147,-72.864975,-72.86561,-72.81858,-72.893074,-72.88364,-72.86243,-72.829155,-72.88257,-72.883545,-72.895615,-72.83267,-72.84952,-72.86536,-72.88826,-72.891106,-72.834366,-72.84446,-72.85565,-72.88579,-72.89131,-72.8332,-72.896515,-72.88904,-72.89092,-72.8795,-72.86918,-72.88393,-72.8896,-72.88471,-72.85045],\"marker\":{\"color\":[286.3125,3576.65625,12438.25,3867.375,1637.65625,438.875,8138.625,5745.171875,10497.1875,4542.9375,583.9375,16808.0,4586.28125,2413.5,1899.78125,5460.5625,38047.890625,30608.875,2256.65625,3673.4375,6303.3125,2772.90625,11930.3125,4885.5,1963.59375,6930.5625,4404.8828125,11636.71875,8763.65625,8072.484375,16841.21875,1443.625,1286.125,2838.546875,471.6875,2926.34375,32127.3125,178.09375,6765.1875,8792.59375,2460.78125,981.109375,6736.6875,10593.875,1644.78125,1278.4375,947.1875,5128.015625,1813.234375,9222.984375,1392.71875,11195.46875,5978.25,8643.40625,7020.875,6661.703125,2416.78125,3243.25,9479.828125,2114.90625,5676.84375,7710.828125,246.5,3130.3125,2191.828125,3221.09375,9442.46875,8754.6875,3395.625,3962.0625,1712.625,7560.3125,496.984375,1839.71875,8316.5625,13172.90625,5258.40625,9716.0,13064.046875,4275.875,611.90625,2834.296875,3703.4375,7126.53125,819.921875,1441.734375,1616.828125,2317.8125,4427.890625,617.65625,613.59375,6771.328125,3945.109375,5437.0625,3160.25,1482.59375,4249.25,2326.125,6745.734375,8985.46875,2723.09375,3679.546875,4530.75,4324.25,8155.4375,12949.25,5265.125,4098.03125,7610.625,3971.53125,7545.375,3083.5,5867.25,3106.921875,5883.40625,7772.6875,6589.0,6095.53125,3466.640625,3065.9375,22007.828125,3172.25,6602.28125,981.03125,6325.5625,4300.046875,14163.34375,3323.875,6714.09375,8312.1875,5523.4375,547.625,8369.9375,5564.71875,6932.7734375,3191.25,2110.1875,2529.25,9643.875,3704.1875,9878.21875,4797.765625,691.0,2179.921875,3861.078125,3203.1875,3429.546875,3381.96875,3650.421875,1548.96875,6191.875,229.03125,16441.9375,837.71875,4377.65625,1883.1875,607.25,130.375,4233.484375,7550.921875,426.40625,3640.1875,2716.375,3700.71875,1426.65625,5424.875,199.1875,3366.625,5614.5625,2110.40625,841.0625,5982.625,9962.125,2197.25,20487.015625],\"coloraxis\":\"coloraxis\",\"size\":[286.3125,3576.65625,12438.25,3867.375,1637.65625,438.875,8138.625,5745.171875,10497.1875,4542.9375,583.9375,16808.0,4586.28125,2413.5,1899.78125,5460.5625,38047.890625,30608.875,2256.65625,3673.4375,6303.3125,2772.90625,11930.3125,4885.5,1963.59375,6930.5625,4404.8828125,11636.71875,8763.65625,8072.484375,16841.21875,1443.625,1286.125,2838.546875,471.6875,2926.34375,32127.3125,178.09375,6765.1875,8792.59375,2460.78125,981.109375,6736.6875,10593.875,1644.78125,1278.4375,947.1875,5128.015625,1813.234375,9222.984375,1392.71875,11195.46875,5978.25,8643.40625,7020.875,6661.703125,2416.78125,3243.25,9479.828125,2114.90625,5676.84375,7710.828125,246.5,3130.3125,2191.828125,3221.09375,9442.46875,8754.6875,3395.625,3962.0625,1712.625,7560.3125,496.984375,1839.71875,8316.5625,13172.90625,5258.40625,9716.0,13064.046875,4275.875,611.90625,2834.296875,3703.4375,7126.53125,819.921875,1441.734375,1616.828125,2317.8125,4427.890625,617.65625,613.59375,6771.328125,3945.109375,5437.0625,3160.25,1482.59375,4249.25,2326.125,6745.734375,8985.46875,2723.09375,3679.546875,4530.75,4324.25,8155.4375,12949.25,5265.125,4098.03125,7610.625,3971.53125,7545.375,3083.5,5867.25,3106.921875,5883.40625,7772.6875,6589.0,6095.53125,3466.640625,3065.9375,22007.828125,3172.25,6602.28125,981.03125,6325.5625,4300.046875,14163.34375,3323.875,6714.09375,8312.1875,5523.4375,547.625,8369.9375,5564.71875,6932.7734375,3191.25,2110.1875,2529.25,9643.875,3704.1875,9878.21875,4797.765625,691.0,2179.921875,3861.078125,3203.1875,3429.546875,3381.96875,3650.421875,1548.96875,6191.875,229.03125,16441.9375,837.71875,4377.65625,1883.1875,607.25,130.375,4233.484375,7550.921875,426.40625,3640.1875,2716.375,3700.71875,1426.65625,5424.875,199.1875,3366.625,5614.5625,2110.40625,841.0625,5982.625,9962.125,2197.25,20487.015625],\"sizemode\":\"area\",\"sizeref\":95.1197265625},\"mode\":\"markers\",\"name\":\"\",\"showlegend\":false,\"subplot\":\"mapbox\",\"type\":\"scattermapbox\"}],                        {\"template\":{\"data\":{\"histogram2dcontour\":[{\"type\":\"histogram2dcontour\",\"colorbar\":{\"outlinewidth\":0,\"ticks\":\"\"},\"colorscale\":[[0.0,\"#0d0887\"],[0.1111111111111111,\"#46039f\"],[0.2222222222222222,\"#7201a8\"],[0.3333333333333333,\"#9c179e\"],[0.4444444444444444,\"#bd3786\"],[0.5555555555555556,\"#d8576b\"],[0.6666666666666666,\"#ed7953\"],[0.7777777777777778,\"#fb9f3a\"],[0.8888888888888888,\"#fdca26\"],[1.0,\"#f0f921\"]]}],\"choropleth\":[{\"type\":\"choropleth\",\"colorbar\":{\"outlinewidth\":0,\"ticks\":\"\"}}],\"histogram2d\":[{\"type\":\"histogram2d\",\"colorbar\":{\"outlinewidth\":0,\"ticks\":\"\"},\"colorscale\":[[0.0,\"#0d0887\"],[0.1111111111111111,\"#46039f\"],[0.2222222222222222,\"#7201a8\"],[0.3333333333333333,\"#9c179e\"],[0.4444444444444444,\"#bd3786\"],[0.5555555555555556,\"#d8576b\"],[0.6666666666666666,\"#ed7953\"],[0.7777777777777778,\"#fb9f3a\"],[0.8888888888888888,\"#fdca26\"],[1.0,\"#f0f921\"]]}],\"heatmap\":[{\"type\":\"heatmap\",\"colorbar\":{\"outlinewidth\":0,\"ticks\":\"\"},\"colorscale\":[[0.0,\"#0d0887\"],[0.1111111111111111,\"#46039f\"],[0.2222222222222222,\"#7201a8\"],[0.3333333333333333,\"#9c179e\"],[0.4444444444444444,\"#bd3786\"],[0.5555555555555556,\"#d8576b\"],[0.6666666666666666,\"#ed7953\"],[0.7777777777777778,\"#fb9f3a\"],[0.8888888888888888,\"#fdca26\"],[1.0,\"#f0f921\"]]}],\"heatmapgl\":[{\"type\":\"heatmapgl\",\"colorbar\":{\"outlinewidth\":0,\"ticks\":\"\"},\"colorscale\":[[0.0,\"#0d0887\"],[0.1111111111111111,\"#46039f\"],[0.2222222222222222,\"#7201a8\"],[0.3333333333333333,\"#9c179e\"],[0.4444444444444444,\"#bd3786\"],[0.5555555555555556,\"#d8576b\"],[0.6666666666666666,\"#ed7953\"],[0.7777777777777778,\"#fb9f3a\"],[0.8888888888888888,\"#fdca26\"],[1.0,\"#f0f921\"]]}],\"contourcarpet\":[{\"type\":\"contourcarpet\",\"colorbar\":{\"outlinewidth\":0,\"ticks\":\"\"}}],\"contour\":[{\"type\":\"contour\",\"colorbar\":{\"outlinewidth\":0,\"ticks\":\"\"},\"colorscale\":[[0.0,\"#0d0887\"],[0.1111111111111111,\"#46039f\"],[0.2222222222222222,\"#7201a8\"],[0.3333333333333333,\"#9c179e\"],[0.4444444444444444,\"#bd3786\"],[0.5555555555555556,\"#d8576b\"],[0.6666666666666666,\"#ed7953\"],[0.7777777777777778,\"#fb9f3a\"],[0.8888888888888888,\"#fdca26\"],[1.0,\"#f0f921\"]]}],\"surface\":[{\"type\":\"surface\",\"colorbar\":{\"outlinewidth\":0,\"ticks\":\"\"},\"colorscale\":[[0.0,\"#0d0887\"],[0.1111111111111111,\"#46039f\"],[0.2222222222222222,\"#7201a8\"],[0.3333333333333333,\"#9c179e\"],[0.4444444444444444,\"#bd3786\"],[0.5555555555555556,\"#d8576b\"],[0.6666666666666666,\"#ed7953\"],[0.7777777777777778,\"#fb9f3a\"],[0.8888888888888888,\"#fdca26\"],[1.0,\"#f0f921\"]]}],\"mesh3d\":[{\"type\":\"mesh3d\",\"colorbar\":{\"outlinewidth\":0,\"ticks\":\"\"}}],\"scatter\":[{\"fillpattern\":{\"fillmode\":\"overlay\",\"size\":10,\"solidity\":0.2},\"type\":\"scatter\"}],\"parcoords\":[{\"type\":\"parcoords\",\"line\":{\"colorbar\":{\"outlinewidth\":0,\"ticks\":\"\"}}}],\"scatterpolargl\":[{\"type\":\"scatterpolargl\",\"marker\":{\"colorbar\":{\"outlinewidth\":0,\"ticks\":\"\"}}}],\"bar\":[{\"error_x\":{\"color\":\"#2a3f5f\"},\"error_y\":{\"color\":\"#2a3f5f\"},\"marker\":{\"line\":{\"color\":\"#E5ECF6\",\"width\":0.5},\"pattern\":{\"fillmode\":\"overlay\",\"size\":10,\"solidity\":0.2}},\"type\":\"bar\"}],\"scattergeo\":[{\"type\":\"scattergeo\",\"marker\":{\"colorbar\":{\"outlinewidth\":0,\"ticks\":\"\"}}}],\"scatterpolar\":[{\"type\":\"scatterpolar\",\"marker\":{\"colorbar\":{\"outlinewidth\":0,\"ticks\":\"\"}}}],\"histogram\":[{\"marker\":{\"pattern\":{\"fillmode\":\"overlay\",\"size\":10,\"solidity\":0.2}},\"type\":\"histogram\"}],\"scattergl\":[{\"type\":\"scattergl\",\"marker\":{\"colorbar\":{\"outlinewidth\":0,\"ticks\":\"\"}}}],\"scatter3d\":[{\"type\":\"scatter3d\",\"line\":{\"colorbar\":{\"outlinewidth\":0,\"ticks\":\"\"}},\"marker\":{\"colorbar\":{\"outlinewidth\":0,\"ticks\":\"\"}}}],\"scattermapbox\":[{\"type\":\"scattermapbox\",\"marker\":{\"colorbar\":{\"outlinewidth\":0,\"ticks\":\"\"}}}],\"scatterternary\":[{\"type\":\"scatterternary\",\"marker\":{\"colorbar\":{\"outlinewidth\":0,\"ticks\":\"\"}}}],\"scattercarpet\":[{\"type\":\"scattercarpet\",\"marker\":{\"colorbar\":{\"outlinewidth\":0,\"ticks\":\"\"}}}],\"carpet\":[{\"aaxis\":{\"endlinecolor\":\"#2a3f5f\",\"gridcolor\":\"white\",\"linecolor\":\"white\",\"minorgridcolor\":\"white\",\"startlinecolor\":\"#2a3f5f\"},\"baxis\":{\"endlinecolor\":\"#2a3f5f\",\"gridcolor\":\"white\",\"linecolor\":\"white\",\"minorgridcolor\":\"white\",\"startlinecolor\":\"#2a3f5f\"},\"type\":\"carpet\"}],\"table\":[{\"cells\":{\"fill\":{\"color\":\"#EBF0F8\"},\"line\":{\"color\":\"white\"}},\"header\":{\"fill\":{\"color\":\"#C8D4E3\"},\"line\":{\"color\":\"white\"}},\"type\":\"table\"}],\"barpolar\":[{\"marker\":{\"line\":{\"color\":\"#E5ECF6\",\"width\":0.5},\"pattern\":{\"fillmode\":\"overlay\",\"size\":10,\"solidity\":0.2}},\"type\":\"barpolar\"}],\"pie\":[{\"automargin\":true,\"type\":\"pie\"}]},\"layout\":{\"autotypenumbers\":\"strict\",\"colorway\":[\"#636efa\",\"#EF553B\",\"#00cc96\",\"#ab63fa\",\"#FFA15A\",\"#19d3f3\",\"#FF6692\",\"#B6E880\",\"#FF97FF\",\"#FECB52\"],\"font\":{\"color\":\"#2a3f5f\"},\"hovermode\":\"closest\",\"hoverlabel\":{\"align\":\"left\"},\"paper_bgcolor\":\"white\",\"plot_bgcolor\":\"#E5ECF6\",\"polar\":{\"bgcolor\":\"#E5ECF6\",\"angularaxis\":{\"gridcolor\":\"white\",\"linecolor\":\"white\",\"ticks\":\"\"},\"radialaxis\":{\"gridcolor\":\"white\",\"linecolor\":\"white\",\"ticks\":\"\"}},\"ternary\":{\"bgcolor\":\"#E5ECF6\",\"aaxis\":{\"gridcolor\":\"white\",\"linecolor\":\"white\",\"ticks\":\"\"},\"baxis\":{\"gridcolor\":\"white\",\"linecolor\":\"white\",\"ticks\":\"\"},\"caxis\":{\"gridcolor\":\"white\",\"linecolor\":\"white\",\"ticks\":\"\"}},\"coloraxis\":{\"colorbar\":{\"outlinewidth\":0,\"ticks\":\"\"}},\"colorscale\":{\"sequential\":[[0.0,\"#0d0887\"],[0.1111111111111111,\"#46039f\"],[0.2222222222222222,\"#7201a8\"],[0.3333333333333333,\"#9c179e\"],[0.4444444444444444,\"#bd3786\"],[0.5555555555555556,\"#d8576b\"],[0.6666666666666666,\"#ed7953\"],[0.7777777777777778,\"#fb9f3a\"],[0.8888888888888888,\"#fdca26\"],[1.0,\"#f0f921\"]],\"sequentialminus\":[[0.0,\"#0d0887\"],[0.1111111111111111,\"#46039f\"],[0.2222222222222222,\"#7201a8\"],[0.3333333333333333,\"#9c179e\"],[0.4444444444444444,\"#bd3786\"],[0.5555555555555556,\"#d8576b\"],[0.6666666666666666,\"#ed7953\"],[0.7777777777777778,\"#fb9f3a\"],[0.8888888888888888,\"#fdca26\"],[1.0,\"#f0f921\"]],\"diverging\":[[0,\"#8e0152\"],[0.1,\"#c51b7d\"],[0.2,\"#de77ae\"],[0.3,\"#f1b6da\"],[0.4,\"#fde0ef\"],[0.5,\"#f7f7f7\"],[0.6,\"#e6f5d0\"],[0.7,\"#b8e186\"],[0.8,\"#7fbc41\"],[0.9,\"#4d9221\"],[1,\"#276419\"]]},\"xaxis\":{\"gridcolor\":\"white\",\"linecolor\":\"white\",\"ticks\":\"\",\"title\":{\"standoff\":15},\"zerolinecolor\":\"white\",\"automargin\":true,\"zerolinewidth\":2},\"yaxis\":{\"gridcolor\":\"white\",\"linecolor\":\"white\",\"ticks\":\"\",\"title\":{\"standoff\":15},\"zerolinecolor\":\"white\",\"automargin\":true,\"zerolinewidth\":2},\"scene\":{\"xaxis\":{\"backgroundcolor\":\"#E5ECF6\",\"gridcolor\":\"white\",\"linecolor\":\"white\",\"showbackground\":true,\"ticks\":\"\",\"zerolinecolor\":\"white\",\"gridwidth\":2},\"yaxis\":{\"backgroundcolor\":\"#E5ECF6\",\"gridcolor\":\"white\",\"linecolor\":\"white\",\"showbackground\":true,\"ticks\":\"\",\"zerolinecolor\":\"white\",\"gridwidth\":2},\"zaxis\":{\"backgroundcolor\":\"#E5ECF6\",\"gridcolor\":\"white\",\"linecolor\":\"white\",\"showbackground\":true,\"ticks\":\"\",\"zerolinecolor\":\"white\",\"gridwidth\":2}},\"shapedefaults\":{\"line\":{\"color\":\"#2a3f5f\"}},\"annotationdefaults\":{\"arrowcolor\":\"#2a3f5f\",\"arrowhead\":0,\"arrowwidth\":1},\"geo\":{\"bgcolor\":\"white\",\"landcolor\":\"#E5ECF6\",\"subunitcolor\":\"white\",\"showland\":true,\"showlakes\":true,\"lakecolor\":\"white\"},\"title\":{\"x\":0.05},\"mapbox\":{\"style\":\"light\"}}},\"mapbox\":{\"domain\":{\"x\":[0.0,1.0],\"y\":[0.0,1.0]},\"center\":{\"lat\":42.94481330857143,\"lon\":-72.86679991999998},\"accesstoken\":\"pk.eyJ1IjoiaHVzc2Vpbm1vaGFtZWQiLCJhIjoiY2w1MXk3cWNhMDdpNzNqb2NiN3VoNDZycyJ9.ggqfCgSW64ZyD5JnXZ1QGA\",\"zoom\":13},\"coloraxis\":{\"colorbar\":{\"title\":{\"text\":\"error\"}},\"colorscale\":[[0.0,\"#0d0887\"],[0.1111111111111111,\"#46039f\"],[0.2222222222222222,\"#7201a8\"],[0.3333333333333333,\"#9c179e\"],[0.4444444444444444,\"#bd3786\"],[0.5555555555555556,\"#d8576b\"],[0.6666666666666666,\"#ed7953\"],[0.7777777777777778,\"#fb9f3a\"],[0.8888888888888888,\"#fdca26\"],[1.0,\"#f0f921\"]]},\"legend\":{\"tracegroupgap\":0,\"itemsizing\":\"constant\"},\"margin\":{\"t\":60},\"height\":800,\"width\":900},                        {\"responsive\": true}                    ).then(function(){\n",
       "                            \n",
       "var gd = document.getElementById('23388643-fb4a-447e-9913-f7079f966b03');\n",
       "var x = new MutationObserver(function (mutations, observer) {{\n",
       "        var display = window.getComputedStyle(gd).display;\n",
       "        if (!display || display === 'none') {{\n",
       "            console.log([gd, 'removed!']);\n",
       "            Plotly.purge(gd);\n",
       "            observer.disconnect();\n",
       "        }}\n",
       "}});\n",
       "\n",
       "// Listen for the removal of the full notebook cells\n",
       "var notebookContainer = gd.closest('#notebook-container');\n",
       "if (notebookContainer) {{\n",
       "    x.observe(notebookContainer, {childList: true});\n",
       "}}\n",
       "\n",
       "// Listen for the clearing of the current output cell\n",
       "var outputEl = gd.closest('.output');\n",
       "if (outputEl) {{\n",
       "    x.observe(outputEl, {childList: true});\n",
       "}}\n",
       "\n",
       "                        })                };                });            </script>        </div>"
      ]
     },
     "metadata": {},
     "output_type": "display_data"
    }
   ],
   "source": [
    "################################ Vizulaizing the Clusters ###########################################################\n",
    "mapbox_api_key = \"pk.eyJ1IjoiaHVzc2Vpbm1vaGFtZWQiLCJhIjoiY2w1MXk3cWNhMDdpNzNqb2NiN3VoNDZycyJ9.ggqfCgSW64ZyD5JnXZ1QGA\"\n",
    "import plotly.io as pio\n",
    "pio.renderers.default = \"notebook_connected\"\n",
    "\n",
    "# set mapbox key\n",
    "px.set_mapbox_access_token(mapbox_api_key)\n",
    "# create scatter plot\n",
    "fig = px.scatter_mapbox(\n",
    "    err_df, \n",
    "    lat=\"latitude\", \n",
    "    lon=\"longitude\",\n",
    "    color='error',\n",
    "    hover_name= 'error',\n",
    "    size='error',\n",
    "    zoom=13\n",
    ")\n",
    "# modify height to show all of (town specific)\n",
    "fig.update_layout(\n",
    "    height=800,\n",
    "    width=900\n",
    ")\n",
    "fig.show()"
   ]
  },
  {
   "cell_type": "markdown",
   "metadata": {},
   "source": [
    "# Neural Networks (Set up)"
   ]
  },
  {
   "cell_type": "code",
   "execution_count": 34,
   "metadata": {},
   "outputs": [
    {
     "data": {
      "text/plain": [
       "(175, 15)"
      ]
     },
     "execution_count": 34,
     "metadata": {},
     "output_type": "execute_result"
    }
   ],
   "source": [
    "X_train_neural = X_train.copy().reset_index(drop=True)\n",
    "X_test_neural = X_test.copy().reset_index(drop=True)\n",
    "X_train_neural.shape"
   ]
  },
  {
   "cell_type": "code",
   "execution_count": 35,
   "metadata": {},
   "outputs": [],
   "source": [
    "layer = tf.keras.layers.Normalization(axis=None) #normalization layer in tensorflow\n",
    "layer.adapt(X_train_neural) #learns the mean and variance of the X features\n",
    "X_train_neural= layer(X_train_neural)\n",
    "X_test_neural = layer(X_test_neural)\n"
   ]
  },
  {
   "cell_type": "markdown",
   "metadata": {},
   "source": [
    "# 3 Layer NN with 10 neurons."
   ]
  },
  {
   "cell_type": "code",
   "execution_count": 36,
   "metadata": {},
   "outputs": [],
   "source": [
    "from tabnanny import verbose\n",
    "\n",
    "tf.random.set_seed(1234) #applied to achieve consistent results\n",
    "\n",
    "#set up sequential layers of type Dense\n",
    "def simple_nn(alpha):\n",
    "    model = Sequential( \n",
    "        [\n",
    "            #specifies the expected shape of the input. This allows Tf to size the weights and bias parameters at this point. This statement can be omitted in practice and tensorflow will size the network parameters when the input data is specified in the model.fit statement #this is a Dense network layer, first layer, with three neurons or units,\n",
    "            Dense(6, activation='relu', name='layer3', kernel_regularizer = tf.keras.regularizers.L2(alpha)),\n",
    "            Dense(3, activation='relu', name='layer2', kernel_regularizer = tf.keras.regularizers.L2(alpha)), \n",
    "            Dense(1, activation='relu', name='outputlayer')\n",
    "        ])\n",
    "\n",
    "    #setting up the loss function and the optimizer\n",
    "    model.compile(optimizer = tf.keras.optimizers.Adam(learning_rate=0.01), loss='mae', metrics=[tf.keras.metrics.MeanAbsolutePercentageError()])\n",
    "\n",
    "    #fit the model\n",
    "    history = model.fit(X_train_neural, y_train, verbose=0 , epochs=700, validation_split= 0.33) #surpress logging using verbose\n",
    "\n",
    "    return model, history"
   ]
  },
  {
   "cell_type": "code",
   "execution_count": 37,
   "metadata": {},
   "outputs": [],
   "source": [
    "snn_model = simple_nn(0.001)[0]"
   ]
  },
  {
   "cell_type": "code",
   "execution_count": 38,
   "metadata": {},
   "outputs": [
    {
     "name": "stdout",
     "output_type": "stream",
     "text": [
      "6/6 [==============================] - 0s 2ms/step - loss: 90460.6094 - mean_absolute_percentage_error: 29.9919\n"
     ]
    },
    {
     "data": {
      "text/plain": [
       "[90460.609375, 29.991857528686523]"
      ]
     },
     "execution_count": 38,
     "metadata": {},
     "output_type": "execute_result"
    }
   ],
   "source": [
    "#train error\n",
    "snn_model.evaluate(X_train_neural, y_train)"
   ]
  },
  {
   "cell_type": "code",
   "execution_count": 39,
   "metadata": {},
   "outputs": [
    {
     "name": "stdout",
     "output_type": "stream",
     "text": [
      "2/2 [==============================] - 0s 3ms/step - loss: 99919.6172 - mean_absolute_percentage_error: 31.4475\n"
     ]
    },
    {
     "data": {
      "text/plain": [
       "[99919.6171875, 31.447484970092773]"
      ]
     },
     "execution_count": 39,
     "metadata": {},
     "output_type": "execute_result"
    }
   ],
   "source": [
    "#test error\n",
    "snn_model.evaluate(x=X_test_neural, y=y_test, verbose=1)"
   ]
  },
  {
   "cell_type": "code",
   "execution_count": 40,
   "metadata": {},
   "outputs": [
    {
     "data": {
      "text/plain": [
       "['loss', 'mean_absolute_percentage_error']"
      ]
     },
     "execution_count": 40,
     "metadata": {},
     "output_type": "execute_result"
    }
   ],
   "source": [
    "#metric names\n",
    "snn_model.metrics_names"
   ]
  },
  {
   "cell_type": "markdown",
   "metadata": {},
   "source": [
    "# Predict target home using NN."
   ]
  },
  {
   "cell_type": "code",
   "execution_count": 41,
   "metadata": {},
   "outputs": [
    {
     "data": {
      "text/plain": [
       "<tf.Tensor: shape=(1, 15), dtype=float32, numpy=\n",
       "array([[-0.37927702, -0.37781793,  1.1060808 , -0.332586  , -0.37489974,\n",
       "         2.568093  , -0.36760426, -0.48854718, -0.3195084 , -0.3821952 ,\n",
       "        -0.3807361 , -0.3821952 , -0.3821952 , -0.3821952 , -0.3821952 ]],\n",
       "      dtype=float32)>"
      ]
     },
     "execution_count": 41,
     "metadata": {},
     "output_type": "execute_result"
    }
   ],
   "source": [
    "# tgt_home_neural = pd.DataFrame([{\"bathrooms\":2, \"bedrooms\":3, \"livingArea\":1020 , \"Age\":34,\n",
    "#                           \"totalRooms\":5, \"soldYear\":2022, \"soldMonth\":10, \n",
    "#                            \"homeType_APARTMENT\":0, \"homeType_CONDO\":1,\n",
    "#                           \"homeType_MANUFACTURED\":0, \"homeType_MULTI_FAMILY\":0, \"homeType_SINGLE_FAMILY\":0,\n",
    "#                           \"homeType_TOWNHOUSE\":0, \n",
    "#                          'Location cluster_0':0, 'Location cluster_1':0, 'Location cluster_2':0,\n",
    "#                           'Location cluster_3':1, 'Location cluster_4':0, 'Location cluster_5':0, \n",
    "#                           'Location cluster_6':0, 'Location cluster_7':0}])\n",
    "\n",
    "tgt_home_neural= pd.DataFrame([{\"bathrooms\":2, \"bedrooms\":3, \"livingArea\":1020 , \"Age\":34,\n",
    "                          \"totalRooms\":5, \"soldYear\":2022, \"soldMonth\":10, 'longitude':-72.88904, 'latitude':42.96283,\n",
    "                           \"homeType_APARTMENT\":0, \"homeType_CONDO\":1,\n",
    "                          \"homeType_MANUFACTURED\":0, \"homeType_MULTI_FAMILY\":0, \"homeType_SINGLE_FAMILY\":0,\n",
    "                          \"homeType_TOWNHOUSE\":0 }])\n",
    "\n",
    "tgt_home_neural = layer(tgt_home_neural)\n",
    "tgt_home_neural"
   ]
  },
  {
   "cell_type": "code",
   "execution_count": 42,
   "metadata": {},
   "outputs": [
    {
     "name": "stdout",
     "output_type": "stream",
     "text": [
      "Your target home should be selling at: $ 252713.28\n"
     ]
    }
   ],
   "source": [
    "print(\"Your target home should be selling at:\", \"$\",snn_model.predict(tgt_home_neural, verbose=0 )[0][0])"
   ]
  },
  {
   "cell_type": "code",
   "execution_count": null,
   "metadata": {},
   "outputs": [],
   "source": []
  }
 ],
 "metadata": {
  "kernelspec": {
   "display_name": "Python 3 (ipykernel)",
   "language": "python",
   "name": "python3"
  },
  "language_info": {
   "codemirror_mode": {
    "name": "ipython",
    "version": 3
   },
   "file_extension": ".py",
   "mimetype": "text/x-python",
   "name": "python",
   "nbconvert_exporter": "python",
   "pygments_lexer": "ipython3",
   "version": "3.9.12"
  },
  "vscode": {
   "interpreter": {
    "hash": "8cd792792b338a0d956abc57f74ad29ce628472d71ef122882e88d4920ae3f6b"
   }
  }
 },
 "nbformat": 4,
 "nbformat_minor": 2
}
